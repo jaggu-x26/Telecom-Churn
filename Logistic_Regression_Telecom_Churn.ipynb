{
  "cells": [
    {
      "cell_type": "markdown",
      "metadata": {
        "collapsed": true,
        "id": "YXsoHTyH1H2w"
      },
      "source": [
        "\n",
        "\\# <center><u>**`LOGISTIC REGRESSION`**</u></center>\n",
        "\n",
        "\n",
        "\n",
        "Logistic regression is a statistical model that in its basic form uses a logistic function to model a binary dependent variable, although many more complex extensions exist. In regression analysis, logistic regression (or logit regression) is estimating the parameters of a logistic model (a form of binary regression).\n",
        "\n",
        "\n",
        "\n",
        "## **`Problem statement:`**\n",
        "\n",
        "#### **`Telecom Churn Case Study`**\n",
        "\n",
        "With 21 predictor variables we need to predict whether a particular customer will switch to another telecom provider or not. In telecom terminology, this is referred to as churning and not churning, respectively.\n",
        "\n",
        "\n"
      ]
    },
    {
      "cell_type": "markdown",
      "metadata": {
        "id": "vLVH-dQP1H22"
      },
      "source": [
        "### **`Importing and Merging Data`**\n",
        "\n"
      ]
    },
    {
      "cell_type": "code",
      "execution_count": null,
      "metadata": {
        "id": "h2dF4li21H23"
      },
      "outputs": [],
      "source": [
        "# Importing Pandas and NumPy\n",
        "import numpy as np\n",
        "import pandas as pd\n",
        "import matplotlib.pyplot as plt\n",
        "import seaborn as sns\n",
        "\n",
        "%matplotlib inline\n",
        "\n",
        "\n"
      ]
    },
    {
      "cell_type": "code",
      "execution_count": null,
      "metadata": {
        "id": "ZGP1WPRC1H24"
      },
      "outputs": [],
      "source": [
        "# Importing all datasets\n",
        "churn_data = pd.read_csv(\"/content/drive/MyDrive/CSV/churn_data.csv\")\n",
        "customer_data = pd.read_csv(\"/content/drive/MyDrive/CSV/customer_data.csv\") \n",
        "internet_data = pd.read_csv(\"/content/drive/MyDrive/CSV/internet_data.csv\")"
      ]
    },
    {
      "cell_type": "code",
      "execution_count": null,
      "metadata": {
        "colab": {
          "base_uri": "https://localhost:8080/"
        },
        "id": "JikGq5GOmude",
        "outputId": "65f36f18-7b4d-4b92-d3ea-a5dc25288d9d"
      },
      "outputs": [
        {
          "output_type": "stream",
          "name": "stdout",
          "text": [
            "Mounted at /content/drive\n"
          ]
        }
      ],
      "source": [
        "from google.colab import drive\n",
        "drive.mount('/content/drive')"
      ]
    },
    {
      "cell_type": "code",
      "execution_count": null,
      "metadata": {
        "colab": {
          "base_uri": "https://localhost:8080/",
          "height": 661
        },
        "id": "KYHnX0M11H25",
        "outputId": "c6df8f61-bea6-411b-af02-ef4eb94ba6ee"
      },
      "outputs": [
        {
          "output_type": "execute_result",
          "data": {
            "text/plain": [
              "      customerID  tenure PhoneService        Contract PaperlessBilling  \\\n",
              "0     7590-VHVEG       1           No  Month-to-month              Yes   \n",
              "1     5575-GNVDE      34          Yes        One year               No   \n",
              "2     3668-QPYBK       2          Yes  Month-to-month              Yes   \n",
              "3     7795-CFOCW      45           No        One year               No   \n",
              "4     9237-HQITU       2          Yes  Month-to-month              Yes   \n",
              "...          ...     ...          ...             ...              ...   \n",
              "7038  6840-RESVB      24          Yes        One year              Yes   \n",
              "7039  2234-XADUH      72          Yes        One year              Yes   \n",
              "7040  4801-JZAZL      11           No  Month-to-month              Yes   \n",
              "7041  8361-LTMKD       4          Yes  Month-to-month              Yes   \n",
              "7042  3186-AJIEK      66          Yes        Two year              Yes   \n",
              "\n",
              "                  PaymentMethod  MonthlyCharges TotalCharges Churn  gender  \\\n",
              "0              Electronic check           29.85        29.85    No  Female   \n",
              "1                  Mailed check           56.95       1889.5    No    Male   \n",
              "2                  Mailed check           53.85       108.15   Yes    Male   \n",
              "3     Bank transfer (automatic)           42.30      1840.75    No    Male   \n",
              "4              Electronic check           70.70       151.65   Yes  Female   \n",
              "...                         ...             ...          ...   ...     ...   \n",
              "7038               Mailed check           84.80       1990.5    No    Male   \n",
              "7039    Credit card (automatic)          103.20       7362.9    No  Female   \n",
              "7040           Electronic check           29.60       346.45    No  Female   \n",
              "7041               Mailed check           74.40        306.6   Yes    Male   \n",
              "7042  Bank transfer (automatic)          105.65       6844.5    No    Male   \n",
              "\n",
              "      SeniorCitizen Partner Dependents  \n",
              "0                 0     Yes         No  \n",
              "1                 0      No         No  \n",
              "2                 0      No         No  \n",
              "3                 0      No         No  \n",
              "4                 0      No         No  \n",
              "...             ...     ...        ...  \n",
              "7038              0     Yes        Yes  \n",
              "7039              0     Yes        Yes  \n",
              "7040              0     Yes        Yes  \n",
              "7041              1     Yes         No  \n",
              "7042              0      No         No  \n",
              "\n",
              "[7043 rows x 13 columns]"
            ],
            "text/html": [
              "\n",
              "  <div id=\"df-ccbad065-0442-41f4-be07-ada2604e6f62\">\n",
              "    <div class=\"colab-df-container\">\n",
              "      <div>\n",
              "<style scoped>\n",
              "    .dataframe tbody tr th:only-of-type {\n",
              "        vertical-align: middle;\n",
              "    }\n",
              "\n",
              "    .dataframe tbody tr th {\n",
              "        vertical-align: top;\n",
              "    }\n",
              "\n",
              "    .dataframe thead th {\n",
              "        text-align: right;\n",
              "    }\n",
              "</style>\n",
              "<table border=\"1\" class=\"dataframe\">\n",
              "  <thead>\n",
              "    <tr style=\"text-align: right;\">\n",
              "      <th></th>\n",
              "      <th>customerID</th>\n",
              "      <th>tenure</th>\n",
              "      <th>PhoneService</th>\n",
              "      <th>Contract</th>\n",
              "      <th>PaperlessBilling</th>\n",
              "      <th>PaymentMethod</th>\n",
              "      <th>MonthlyCharges</th>\n",
              "      <th>TotalCharges</th>\n",
              "      <th>Churn</th>\n",
              "      <th>gender</th>\n",
              "      <th>SeniorCitizen</th>\n",
              "      <th>Partner</th>\n",
              "      <th>Dependents</th>\n",
              "    </tr>\n",
              "  </thead>\n",
              "  <tbody>\n",
              "    <tr>\n",
              "      <th>0</th>\n",
              "      <td>7590-VHVEG</td>\n",
              "      <td>1</td>\n",
              "      <td>No</td>\n",
              "      <td>Month-to-month</td>\n",
              "      <td>Yes</td>\n",
              "      <td>Electronic check</td>\n",
              "      <td>29.85</td>\n",
              "      <td>29.85</td>\n",
              "      <td>No</td>\n",
              "      <td>Female</td>\n",
              "      <td>0</td>\n",
              "      <td>Yes</td>\n",
              "      <td>No</td>\n",
              "    </tr>\n",
              "    <tr>\n",
              "      <th>1</th>\n",
              "      <td>5575-GNVDE</td>\n",
              "      <td>34</td>\n",
              "      <td>Yes</td>\n",
              "      <td>One year</td>\n",
              "      <td>No</td>\n",
              "      <td>Mailed check</td>\n",
              "      <td>56.95</td>\n",
              "      <td>1889.5</td>\n",
              "      <td>No</td>\n",
              "      <td>Male</td>\n",
              "      <td>0</td>\n",
              "      <td>No</td>\n",
              "      <td>No</td>\n",
              "    </tr>\n",
              "    <tr>\n",
              "      <th>2</th>\n",
              "      <td>3668-QPYBK</td>\n",
              "      <td>2</td>\n",
              "      <td>Yes</td>\n",
              "      <td>Month-to-month</td>\n",
              "      <td>Yes</td>\n",
              "      <td>Mailed check</td>\n",
              "      <td>53.85</td>\n",
              "      <td>108.15</td>\n",
              "      <td>Yes</td>\n",
              "      <td>Male</td>\n",
              "      <td>0</td>\n",
              "      <td>No</td>\n",
              "      <td>No</td>\n",
              "    </tr>\n",
              "    <tr>\n",
              "      <th>3</th>\n",
              "      <td>7795-CFOCW</td>\n",
              "      <td>45</td>\n",
              "      <td>No</td>\n",
              "      <td>One year</td>\n",
              "      <td>No</td>\n",
              "      <td>Bank transfer (automatic)</td>\n",
              "      <td>42.30</td>\n",
              "      <td>1840.75</td>\n",
              "      <td>No</td>\n",
              "      <td>Male</td>\n",
              "      <td>0</td>\n",
              "      <td>No</td>\n",
              "      <td>No</td>\n",
              "    </tr>\n",
              "    <tr>\n",
              "      <th>4</th>\n",
              "      <td>9237-HQITU</td>\n",
              "      <td>2</td>\n",
              "      <td>Yes</td>\n",
              "      <td>Month-to-month</td>\n",
              "      <td>Yes</td>\n",
              "      <td>Electronic check</td>\n",
              "      <td>70.70</td>\n",
              "      <td>151.65</td>\n",
              "      <td>Yes</td>\n",
              "      <td>Female</td>\n",
              "      <td>0</td>\n",
              "      <td>No</td>\n",
              "      <td>No</td>\n",
              "    </tr>\n",
              "    <tr>\n",
              "      <th>...</th>\n",
              "      <td>...</td>\n",
              "      <td>...</td>\n",
              "      <td>...</td>\n",
              "      <td>...</td>\n",
              "      <td>...</td>\n",
              "      <td>...</td>\n",
              "      <td>...</td>\n",
              "      <td>...</td>\n",
              "      <td>...</td>\n",
              "      <td>...</td>\n",
              "      <td>...</td>\n",
              "      <td>...</td>\n",
              "      <td>...</td>\n",
              "    </tr>\n",
              "    <tr>\n",
              "      <th>7038</th>\n",
              "      <td>6840-RESVB</td>\n",
              "      <td>24</td>\n",
              "      <td>Yes</td>\n",
              "      <td>One year</td>\n",
              "      <td>Yes</td>\n",
              "      <td>Mailed check</td>\n",
              "      <td>84.80</td>\n",
              "      <td>1990.5</td>\n",
              "      <td>No</td>\n",
              "      <td>Male</td>\n",
              "      <td>0</td>\n",
              "      <td>Yes</td>\n",
              "      <td>Yes</td>\n",
              "    </tr>\n",
              "    <tr>\n",
              "      <th>7039</th>\n",
              "      <td>2234-XADUH</td>\n",
              "      <td>72</td>\n",
              "      <td>Yes</td>\n",
              "      <td>One year</td>\n",
              "      <td>Yes</td>\n",
              "      <td>Credit card (automatic)</td>\n",
              "      <td>103.20</td>\n",
              "      <td>7362.9</td>\n",
              "      <td>No</td>\n",
              "      <td>Female</td>\n",
              "      <td>0</td>\n",
              "      <td>Yes</td>\n",
              "      <td>Yes</td>\n",
              "    </tr>\n",
              "    <tr>\n",
              "      <th>7040</th>\n",
              "      <td>4801-JZAZL</td>\n",
              "      <td>11</td>\n",
              "      <td>No</td>\n",
              "      <td>Month-to-month</td>\n",
              "      <td>Yes</td>\n",
              "      <td>Electronic check</td>\n",
              "      <td>29.60</td>\n",
              "      <td>346.45</td>\n",
              "      <td>No</td>\n",
              "      <td>Female</td>\n",
              "      <td>0</td>\n",
              "      <td>Yes</td>\n",
              "      <td>Yes</td>\n",
              "    </tr>\n",
              "    <tr>\n",
              "      <th>7041</th>\n",
              "      <td>8361-LTMKD</td>\n",
              "      <td>4</td>\n",
              "      <td>Yes</td>\n",
              "      <td>Month-to-month</td>\n",
              "      <td>Yes</td>\n",
              "      <td>Mailed check</td>\n",
              "      <td>74.40</td>\n",
              "      <td>306.6</td>\n",
              "      <td>Yes</td>\n",
              "      <td>Male</td>\n",
              "      <td>1</td>\n",
              "      <td>Yes</td>\n",
              "      <td>No</td>\n",
              "    </tr>\n",
              "    <tr>\n",
              "      <th>7042</th>\n",
              "      <td>3186-AJIEK</td>\n",
              "      <td>66</td>\n",
              "      <td>Yes</td>\n",
              "      <td>Two year</td>\n",
              "      <td>Yes</td>\n",
              "      <td>Bank transfer (automatic)</td>\n",
              "      <td>105.65</td>\n",
              "      <td>6844.5</td>\n",
              "      <td>No</td>\n",
              "      <td>Male</td>\n",
              "      <td>0</td>\n",
              "      <td>No</td>\n",
              "      <td>No</td>\n",
              "    </tr>\n",
              "  </tbody>\n",
              "</table>\n",
              "<p>7043 rows × 13 columns</p>\n",
              "</div>\n",
              "      <button class=\"colab-df-convert\" onclick=\"convertToInteractive('df-ccbad065-0442-41f4-be07-ada2604e6f62')\"\n",
              "              title=\"Convert this dataframe to an interactive table.\"\n",
              "              style=\"display:none;\">\n",
              "        \n",
              "  <svg xmlns=\"http://www.w3.org/2000/svg\" height=\"24px\"viewBox=\"0 0 24 24\"\n",
              "       width=\"24px\">\n",
              "    <path d=\"M0 0h24v24H0V0z\" fill=\"none\"/>\n",
              "    <path d=\"M18.56 5.44l.94 2.06.94-2.06 2.06-.94-2.06-.94-.94-2.06-.94 2.06-2.06.94zm-11 1L8.5 8.5l.94-2.06 2.06-.94-2.06-.94L8.5 2.5l-.94 2.06-2.06.94zm10 10l.94 2.06.94-2.06 2.06-.94-2.06-.94-.94-2.06-.94 2.06-2.06.94z\"/><path d=\"M17.41 7.96l-1.37-1.37c-.4-.4-.92-.59-1.43-.59-.52 0-1.04.2-1.43.59L10.3 9.45l-7.72 7.72c-.78.78-.78 2.05 0 2.83L4 21.41c.39.39.9.59 1.41.59.51 0 1.02-.2 1.41-.59l7.78-7.78 2.81-2.81c.8-.78.8-2.07 0-2.86zM5.41 20L4 18.59l7.72-7.72 1.47 1.35L5.41 20z\"/>\n",
              "  </svg>\n",
              "      </button>\n",
              "      \n",
              "  <style>\n",
              "    .colab-df-container {\n",
              "      display:flex;\n",
              "      flex-wrap:wrap;\n",
              "      gap: 12px;\n",
              "    }\n",
              "\n",
              "    .colab-df-convert {\n",
              "      background-color: #E8F0FE;\n",
              "      border: none;\n",
              "      border-radius: 50%;\n",
              "      cursor: pointer;\n",
              "      display: none;\n",
              "      fill: #1967D2;\n",
              "      height: 32px;\n",
              "      padding: 0 0 0 0;\n",
              "      width: 32px;\n",
              "    }\n",
              "\n",
              "    .colab-df-convert:hover {\n",
              "      background-color: #E2EBFA;\n",
              "      box-shadow: 0px 1px 2px rgba(60, 64, 67, 0.3), 0px 1px 3px 1px rgba(60, 64, 67, 0.15);\n",
              "      fill: #174EA6;\n",
              "    }\n",
              "\n",
              "    [theme=dark] .colab-df-convert {\n",
              "      background-color: #3B4455;\n",
              "      fill: #D2E3FC;\n",
              "    }\n",
              "\n",
              "    [theme=dark] .colab-df-convert:hover {\n",
              "      background-color: #434B5C;\n",
              "      box-shadow: 0px 1px 3px 1px rgba(0, 0, 0, 0.15);\n",
              "      filter: drop-shadow(0px 1px 2px rgba(0, 0, 0, 0.3));\n",
              "      fill: #FFFFFF;\n",
              "    }\n",
              "  </style>\n",
              "\n",
              "      <script>\n",
              "        const buttonEl =\n",
              "          document.querySelector('#df-ccbad065-0442-41f4-be07-ada2604e6f62 button.colab-df-convert');\n",
              "        buttonEl.style.display =\n",
              "          google.colab.kernel.accessAllowed ? 'block' : 'none';\n",
              "\n",
              "        async function convertToInteractive(key) {\n",
              "          const element = document.querySelector('#df-ccbad065-0442-41f4-be07-ada2604e6f62');\n",
              "          const dataTable =\n",
              "            await google.colab.kernel.invokeFunction('convertToInteractive',\n",
              "                                                     [key], {});\n",
              "          if (!dataTable) return;\n",
              "\n",
              "          const docLinkHtml = 'Like what you see? Visit the ' +\n",
              "            '<a target=\"_blank\" href=https://colab.research.google.com/notebooks/data_table.ipynb>data table notebook</a>'\n",
              "            + ' to learn more about interactive tables.';\n",
              "          element.innerHTML = '';\n",
              "          dataTable['output_type'] = 'display_data';\n",
              "          await google.colab.output.renderOutput(dataTable, element);\n",
              "          const docLink = document.createElement('div');\n",
              "          docLink.innerHTML = docLinkHtml;\n",
              "          element.appendChild(docLink);\n",
              "        }\n",
              "      </script>\n",
              "    </div>\n",
              "  </div>\n",
              "  "
            ]
          },
          "metadata": {},
          "execution_count": 5
        }
      ],
      "source": [
        "#Merging churn_data and customer_data on 'customerID' using inner join on customerID\n",
        "df_1 = pd.merge(churn_data,customer_data,on='customerID', how=\"inner\")\n",
        "df_1"
      ]
    },
    {
      "cell_type": "code",
      "execution_count": null,
      "metadata": {
        "id": "J5BDtcd_1H25"
      },
      "outputs": [],
      "source": [
        "#Final dataframe with all predictor variables (merging df_1 and internet_data on 'customerID')\n",
        "telecom = pd.merge(df_1,internet_data,on='customerID',how='inner')\n",
        "\n"
      ]
    },
    {
      "cell_type": "markdown",
      "metadata": {
        "id": "F33iSTdT1H26"
      },
      "source": [
        "### Let's understand the structure of our dataframe\n",
        "\n"
      ]
    },
    {
      "cell_type": "code",
      "execution_count": null,
      "metadata": {
        "colab": {
          "base_uri": "https://localhost:8080/",
          "height": 386
        },
        "id": "C_hwZXFl1H27",
        "outputId": "8e5e2615-a45a-4536-cb5f-9f67e33a1d23"
      },
      "outputs": [
        {
          "output_type": "execute_result",
          "data": {
            "text/plain": [
              "   customerID  tenure PhoneService        Contract PaperlessBilling  \\\n",
              "0  7590-VHVEG       1           No  Month-to-month              Yes   \n",
              "1  5575-GNVDE      34          Yes        One year               No   \n",
              "2  3668-QPYBK       2          Yes  Month-to-month              Yes   \n",
              "3  7795-CFOCW      45           No        One year               No   \n",
              "4  9237-HQITU       2          Yes  Month-to-month              Yes   \n",
              "\n",
              "               PaymentMethod  MonthlyCharges TotalCharges Churn  gender  ...  \\\n",
              "0           Electronic check           29.85        29.85    No  Female  ...   \n",
              "1               Mailed check           56.95       1889.5    No    Male  ...   \n",
              "2               Mailed check           53.85       108.15   Yes    Male  ...   \n",
              "3  Bank transfer (automatic)           42.30      1840.75    No    Male  ...   \n",
              "4           Electronic check           70.70       151.65   Yes  Female  ...   \n",
              "\n",
              "   Partner Dependents     MultipleLines InternetService OnlineSecurity  \\\n",
              "0      Yes         No  No phone service             DSL             No   \n",
              "1       No         No                No             DSL            Yes   \n",
              "2       No         No                No             DSL            Yes   \n",
              "3       No         No  No phone service             DSL            Yes   \n",
              "4       No         No                No     Fiber optic             No   \n",
              "\n",
              "  OnlineBackup DeviceProtection TechSupport StreamingTV StreamingMovies  \n",
              "0          Yes               No          No          No              No  \n",
              "1           No              Yes          No          No              No  \n",
              "2          Yes               No          No          No              No  \n",
              "3           No              Yes         Yes          No              No  \n",
              "4           No               No          No          No              No  \n",
              "\n",
              "[5 rows x 21 columns]"
            ],
            "text/html": [
              "\n",
              "  <div id=\"df-5e130f66-eb00-4b7d-8ff3-05526af07257\">\n",
              "    <div class=\"colab-df-container\">\n",
              "      <div>\n",
              "<style scoped>\n",
              "    .dataframe tbody tr th:only-of-type {\n",
              "        vertical-align: middle;\n",
              "    }\n",
              "\n",
              "    .dataframe tbody tr th {\n",
              "        vertical-align: top;\n",
              "    }\n",
              "\n",
              "    .dataframe thead th {\n",
              "        text-align: right;\n",
              "    }\n",
              "</style>\n",
              "<table border=\"1\" class=\"dataframe\">\n",
              "  <thead>\n",
              "    <tr style=\"text-align: right;\">\n",
              "      <th></th>\n",
              "      <th>customerID</th>\n",
              "      <th>tenure</th>\n",
              "      <th>PhoneService</th>\n",
              "      <th>Contract</th>\n",
              "      <th>PaperlessBilling</th>\n",
              "      <th>PaymentMethod</th>\n",
              "      <th>MonthlyCharges</th>\n",
              "      <th>TotalCharges</th>\n",
              "      <th>Churn</th>\n",
              "      <th>gender</th>\n",
              "      <th>...</th>\n",
              "      <th>Partner</th>\n",
              "      <th>Dependents</th>\n",
              "      <th>MultipleLines</th>\n",
              "      <th>InternetService</th>\n",
              "      <th>OnlineSecurity</th>\n",
              "      <th>OnlineBackup</th>\n",
              "      <th>DeviceProtection</th>\n",
              "      <th>TechSupport</th>\n",
              "      <th>StreamingTV</th>\n",
              "      <th>StreamingMovies</th>\n",
              "    </tr>\n",
              "  </thead>\n",
              "  <tbody>\n",
              "    <tr>\n",
              "      <th>0</th>\n",
              "      <td>7590-VHVEG</td>\n",
              "      <td>1</td>\n",
              "      <td>No</td>\n",
              "      <td>Month-to-month</td>\n",
              "      <td>Yes</td>\n",
              "      <td>Electronic check</td>\n",
              "      <td>29.85</td>\n",
              "      <td>29.85</td>\n",
              "      <td>No</td>\n",
              "      <td>Female</td>\n",
              "      <td>...</td>\n",
              "      <td>Yes</td>\n",
              "      <td>No</td>\n",
              "      <td>No phone service</td>\n",
              "      <td>DSL</td>\n",
              "      <td>No</td>\n",
              "      <td>Yes</td>\n",
              "      <td>No</td>\n",
              "      <td>No</td>\n",
              "      <td>No</td>\n",
              "      <td>No</td>\n",
              "    </tr>\n",
              "    <tr>\n",
              "      <th>1</th>\n",
              "      <td>5575-GNVDE</td>\n",
              "      <td>34</td>\n",
              "      <td>Yes</td>\n",
              "      <td>One year</td>\n",
              "      <td>No</td>\n",
              "      <td>Mailed check</td>\n",
              "      <td>56.95</td>\n",
              "      <td>1889.5</td>\n",
              "      <td>No</td>\n",
              "      <td>Male</td>\n",
              "      <td>...</td>\n",
              "      <td>No</td>\n",
              "      <td>No</td>\n",
              "      <td>No</td>\n",
              "      <td>DSL</td>\n",
              "      <td>Yes</td>\n",
              "      <td>No</td>\n",
              "      <td>Yes</td>\n",
              "      <td>No</td>\n",
              "      <td>No</td>\n",
              "      <td>No</td>\n",
              "    </tr>\n",
              "    <tr>\n",
              "      <th>2</th>\n",
              "      <td>3668-QPYBK</td>\n",
              "      <td>2</td>\n",
              "      <td>Yes</td>\n",
              "      <td>Month-to-month</td>\n",
              "      <td>Yes</td>\n",
              "      <td>Mailed check</td>\n",
              "      <td>53.85</td>\n",
              "      <td>108.15</td>\n",
              "      <td>Yes</td>\n",
              "      <td>Male</td>\n",
              "      <td>...</td>\n",
              "      <td>No</td>\n",
              "      <td>No</td>\n",
              "      <td>No</td>\n",
              "      <td>DSL</td>\n",
              "      <td>Yes</td>\n",
              "      <td>Yes</td>\n",
              "      <td>No</td>\n",
              "      <td>No</td>\n",
              "      <td>No</td>\n",
              "      <td>No</td>\n",
              "    </tr>\n",
              "    <tr>\n",
              "      <th>3</th>\n",
              "      <td>7795-CFOCW</td>\n",
              "      <td>45</td>\n",
              "      <td>No</td>\n",
              "      <td>One year</td>\n",
              "      <td>No</td>\n",
              "      <td>Bank transfer (automatic)</td>\n",
              "      <td>42.30</td>\n",
              "      <td>1840.75</td>\n",
              "      <td>No</td>\n",
              "      <td>Male</td>\n",
              "      <td>...</td>\n",
              "      <td>No</td>\n",
              "      <td>No</td>\n",
              "      <td>No phone service</td>\n",
              "      <td>DSL</td>\n",
              "      <td>Yes</td>\n",
              "      <td>No</td>\n",
              "      <td>Yes</td>\n",
              "      <td>Yes</td>\n",
              "      <td>No</td>\n",
              "      <td>No</td>\n",
              "    </tr>\n",
              "    <tr>\n",
              "      <th>4</th>\n",
              "      <td>9237-HQITU</td>\n",
              "      <td>2</td>\n",
              "      <td>Yes</td>\n",
              "      <td>Month-to-month</td>\n",
              "      <td>Yes</td>\n",
              "      <td>Electronic check</td>\n",
              "      <td>70.70</td>\n",
              "      <td>151.65</td>\n",
              "      <td>Yes</td>\n",
              "      <td>Female</td>\n",
              "      <td>...</td>\n",
              "      <td>No</td>\n",
              "      <td>No</td>\n",
              "      <td>No</td>\n",
              "      <td>Fiber optic</td>\n",
              "      <td>No</td>\n",
              "      <td>No</td>\n",
              "      <td>No</td>\n",
              "      <td>No</td>\n",
              "      <td>No</td>\n",
              "      <td>No</td>\n",
              "    </tr>\n",
              "  </tbody>\n",
              "</table>\n",
              "<p>5 rows × 21 columns</p>\n",
              "</div>\n",
              "      <button class=\"colab-df-convert\" onclick=\"convertToInteractive('df-5e130f66-eb00-4b7d-8ff3-05526af07257')\"\n",
              "              title=\"Convert this dataframe to an interactive table.\"\n",
              "              style=\"display:none;\">\n",
              "        \n",
              "  <svg xmlns=\"http://www.w3.org/2000/svg\" height=\"24px\"viewBox=\"0 0 24 24\"\n",
              "       width=\"24px\">\n",
              "    <path d=\"M0 0h24v24H0V0z\" fill=\"none\"/>\n",
              "    <path d=\"M18.56 5.44l.94 2.06.94-2.06 2.06-.94-2.06-.94-.94-2.06-.94 2.06-2.06.94zm-11 1L8.5 8.5l.94-2.06 2.06-.94-2.06-.94L8.5 2.5l-.94 2.06-2.06.94zm10 10l.94 2.06.94-2.06 2.06-.94-2.06-.94-.94-2.06-.94 2.06-2.06.94z\"/><path d=\"M17.41 7.96l-1.37-1.37c-.4-.4-.92-.59-1.43-.59-.52 0-1.04.2-1.43.59L10.3 9.45l-7.72 7.72c-.78.78-.78 2.05 0 2.83L4 21.41c.39.39.9.59 1.41.59.51 0 1.02-.2 1.41-.59l7.78-7.78 2.81-2.81c.8-.78.8-2.07 0-2.86zM5.41 20L4 18.59l7.72-7.72 1.47 1.35L5.41 20z\"/>\n",
              "  </svg>\n",
              "      </button>\n",
              "      \n",
              "  <style>\n",
              "    .colab-df-container {\n",
              "      display:flex;\n",
              "      flex-wrap:wrap;\n",
              "      gap: 12px;\n",
              "    }\n",
              "\n",
              "    .colab-df-convert {\n",
              "      background-color: #E8F0FE;\n",
              "      border: none;\n",
              "      border-radius: 50%;\n",
              "      cursor: pointer;\n",
              "      display: none;\n",
              "      fill: #1967D2;\n",
              "      height: 32px;\n",
              "      padding: 0 0 0 0;\n",
              "      width: 32px;\n",
              "    }\n",
              "\n",
              "    .colab-df-convert:hover {\n",
              "      background-color: #E2EBFA;\n",
              "      box-shadow: 0px 1px 2px rgba(60, 64, 67, 0.3), 0px 1px 3px 1px rgba(60, 64, 67, 0.15);\n",
              "      fill: #174EA6;\n",
              "    }\n",
              "\n",
              "    [theme=dark] .colab-df-convert {\n",
              "      background-color: #3B4455;\n",
              "      fill: #D2E3FC;\n",
              "    }\n",
              "\n",
              "    [theme=dark] .colab-df-convert:hover {\n",
              "      background-color: #434B5C;\n",
              "      box-shadow: 0px 1px 3px 1px rgba(0, 0, 0, 0.15);\n",
              "      filter: drop-shadow(0px 1px 2px rgba(0, 0, 0, 0.3));\n",
              "      fill: #FFFFFF;\n",
              "    }\n",
              "  </style>\n",
              "\n",
              "      <script>\n",
              "        const buttonEl =\n",
              "          document.querySelector('#df-5e130f66-eb00-4b7d-8ff3-05526af07257 button.colab-df-convert');\n",
              "        buttonEl.style.display =\n",
              "          google.colab.kernel.accessAllowed ? 'block' : 'none';\n",
              "\n",
              "        async function convertToInteractive(key) {\n",
              "          const element = document.querySelector('#df-5e130f66-eb00-4b7d-8ff3-05526af07257');\n",
              "          const dataTable =\n",
              "            await google.colab.kernel.invokeFunction('convertToInteractive',\n",
              "                                                     [key], {});\n",
              "          if (!dataTable) return;\n",
              "\n",
              "          const docLinkHtml = 'Like what you see? Visit the ' +\n",
              "            '<a target=\"_blank\" href=https://colab.research.google.com/notebooks/data_table.ipynb>data table notebook</a>'\n",
              "            + ' to learn more about interactive tables.';\n",
              "          element.innerHTML = '';\n",
              "          dataTable['output_type'] = 'display_data';\n",
              "          await google.colab.output.renderOutput(dataTable, element);\n",
              "          const docLink = document.createElement('div');\n",
              "          docLink.innerHTML = docLinkHtml;\n",
              "          element.appendChild(docLink);\n",
              "        }\n",
              "      </script>\n",
              "    </div>\n",
              "  </div>\n",
              "  "
            ]
          },
          "metadata": {},
          "execution_count": 7
        }
      ],
      "source": [
        "# Let's see the head of our master dataset\n",
        "telecom.head()\n",
        "\n",
        "\n"
      ]
    },
    {
      "cell_type": "code",
      "execution_count": null,
      "metadata": {
        "colab": {
          "base_uri": "https://localhost:8080/",
          "height": 300
        },
        "id": "4bC_eHNp1H28",
        "outputId": "42725534-c1ec-41a1-a88b-3e64bfca0337"
      },
      "outputs": [
        {
          "output_type": "execute_result",
          "data": {
            "text/plain": [
              "            tenure  MonthlyCharges  SeniorCitizen\n",
              "count  7043.000000     7043.000000    7043.000000\n",
              "mean     32.371149       64.761692       0.162147\n",
              "std      24.559481       30.090047       0.368612\n",
              "min       0.000000       18.250000       0.000000\n",
              "25%       9.000000       35.500000       0.000000\n",
              "50%      29.000000       70.350000       0.000000\n",
              "75%      55.000000       89.850000       0.000000\n",
              "max      72.000000      118.750000       1.000000"
            ],
            "text/html": [
              "\n",
              "  <div id=\"df-75134a2b-0216-4397-918b-f20c0797092b\">\n",
              "    <div class=\"colab-df-container\">\n",
              "      <div>\n",
              "<style scoped>\n",
              "    .dataframe tbody tr th:only-of-type {\n",
              "        vertical-align: middle;\n",
              "    }\n",
              "\n",
              "    .dataframe tbody tr th {\n",
              "        vertical-align: top;\n",
              "    }\n",
              "\n",
              "    .dataframe thead th {\n",
              "        text-align: right;\n",
              "    }\n",
              "</style>\n",
              "<table border=\"1\" class=\"dataframe\">\n",
              "  <thead>\n",
              "    <tr style=\"text-align: right;\">\n",
              "      <th></th>\n",
              "      <th>tenure</th>\n",
              "      <th>MonthlyCharges</th>\n",
              "      <th>SeniorCitizen</th>\n",
              "    </tr>\n",
              "  </thead>\n",
              "  <tbody>\n",
              "    <tr>\n",
              "      <th>count</th>\n",
              "      <td>7043.000000</td>\n",
              "      <td>7043.000000</td>\n",
              "      <td>7043.000000</td>\n",
              "    </tr>\n",
              "    <tr>\n",
              "      <th>mean</th>\n",
              "      <td>32.371149</td>\n",
              "      <td>64.761692</td>\n",
              "      <td>0.162147</td>\n",
              "    </tr>\n",
              "    <tr>\n",
              "      <th>std</th>\n",
              "      <td>24.559481</td>\n",
              "      <td>30.090047</td>\n",
              "      <td>0.368612</td>\n",
              "    </tr>\n",
              "    <tr>\n",
              "      <th>min</th>\n",
              "      <td>0.000000</td>\n",
              "      <td>18.250000</td>\n",
              "      <td>0.000000</td>\n",
              "    </tr>\n",
              "    <tr>\n",
              "      <th>25%</th>\n",
              "      <td>9.000000</td>\n",
              "      <td>35.500000</td>\n",
              "      <td>0.000000</td>\n",
              "    </tr>\n",
              "    <tr>\n",
              "      <th>50%</th>\n",
              "      <td>29.000000</td>\n",
              "      <td>70.350000</td>\n",
              "      <td>0.000000</td>\n",
              "    </tr>\n",
              "    <tr>\n",
              "      <th>75%</th>\n",
              "      <td>55.000000</td>\n",
              "      <td>89.850000</td>\n",
              "      <td>0.000000</td>\n",
              "    </tr>\n",
              "    <tr>\n",
              "      <th>max</th>\n",
              "      <td>72.000000</td>\n",
              "      <td>118.750000</td>\n",
              "      <td>1.000000</td>\n",
              "    </tr>\n",
              "  </tbody>\n",
              "</table>\n",
              "</div>\n",
              "      <button class=\"colab-df-convert\" onclick=\"convertToInteractive('df-75134a2b-0216-4397-918b-f20c0797092b')\"\n",
              "              title=\"Convert this dataframe to an interactive table.\"\n",
              "              style=\"display:none;\">\n",
              "        \n",
              "  <svg xmlns=\"http://www.w3.org/2000/svg\" height=\"24px\"viewBox=\"0 0 24 24\"\n",
              "       width=\"24px\">\n",
              "    <path d=\"M0 0h24v24H0V0z\" fill=\"none\"/>\n",
              "    <path d=\"M18.56 5.44l.94 2.06.94-2.06 2.06-.94-2.06-.94-.94-2.06-.94 2.06-2.06.94zm-11 1L8.5 8.5l.94-2.06 2.06-.94-2.06-.94L8.5 2.5l-.94 2.06-2.06.94zm10 10l.94 2.06.94-2.06 2.06-.94-2.06-.94-.94-2.06-.94 2.06-2.06.94z\"/><path d=\"M17.41 7.96l-1.37-1.37c-.4-.4-.92-.59-1.43-.59-.52 0-1.04.2-1.43.59L10.3 9.45l-7.72 7.72c-.78.78-.78 2.05 0 2.83L4 21.41c.39.39.9.59 1.41.59.51 0 1.02-.2 1.41-.59l7.78-7.78 2.81-2.81c.8-.78.8-2.07 0-2.86zM5.41 20L4 18.59l7.72-7.72 1.47 1.35L5.41 20z\"/>\n",
              "  </svg>\n",
              "      </button>\n",
              "      \n",
              "  <style>\n",
              "    .colab-df-container {\n",
              "      display:flex;\n",
              "      flex-wrap:wrap;\n",
              "      gap: 12px;\n",
              "    }\n",
              "\n",
              "    .colab-df-convert {\n",
              "      background-color: #E8F0FE;\n",
              "      border: none;\n",
              "      border-radius: 50%;\n",
              "      cursor: pointer;\n",
              "      display: none;\n",
              "      fill: #1967D2;\n",
              "      height: 32px;\n",
              "      padding: 0 0 0 0;\n",
              "      width: 32px;\n",
              "    }\n",
              "\n",
              "    .colab-df-convert:hover {\n",
              "      background-color: #E2EBFA;\n",
              "      box-shadow: 0px 1px 2px rgba(60, 64, 67, 0.3), 0px 1px 3px 1px rgba(60, 64, 67, 0.15);\n",
              "      fill: #174EA6;\n",
              "    }\n",
              "\n",
              "    [theme=dark] .colab-df-convert {\n",
              "      background-color: #3B4455;\n",
              "      fill: #D2E3FC;\n",
              "    }\n",
              "\n",
              "    [theme=dark] .colab-df-convert:hover {\n",
              "      background-color: #434B5C;\n",
              "      box-shadow: 0px 1px 3px 1px rgba(0, 0, 0, 0.15);\n",
              "      filter: drop-shadow(0px 1px 2px rgba(0, 0, 0, 0.3));\n",
              "      fill: #FFFFFF;\n",
              "    }\n",
              "  </style>\n",
              "\n",
              "      <script>\n",
              "        const buttonEl =\n",
              "          document.querySelector('#df-75134a2b-0216-4397-918b-f20c0797092b button.colab-df-convert');\n",
              "        buttonEl.style.display =\n",
              "          google.colab.kernel.accessAllowed ? 'block' : 'none';\n",
              "\n",
              "        async function convertToInteractive(key) {\n",
              "          const element = document.querySelector('#df-75134a2b-0216-4397-918b-f20c0797092b');\n",
              "          const dataTable =\n",
              "            await google.colab.kernel.invokeFunction('convertToInteractive',\n",
              "                                                     [key], {});\n",
              "          if (!dataTable) return;\n",
              "\n",
              "          const docLinkHtml = 'Like what you see? Visit the ' +\n",
              "            '<a target=\"_blank\" href=https://colab.research.google.com/notebooks/data_table.ipynb>data table notebook</a>'\n",
              "            + ' to learn more about interactive tables.';\n",
              "          element.innerHTML = '';\n",
              "          dataTable['output_type'] = 'display_data';\n",
              "          await google.colab.output.renderOutput(dataTable, element);\n",
              "          const docLink = document.createElement('div');\n",
              "          docLink.innerHTML = docLinkHtml;\n",
              "          element.appendChild(docLink);\n",
              "        }\n",
              "      </script>\n",
              "    </div>\n",
              "  </div>\n",
              "  "
            ]
          },
          "metadata": {},
          "execution_count": 8
        }
      ],
      "source": [
        "#Lets see statistical description for our master data\n",
        "telecom.describe()\n",
        "\n"
      ]
    },
    {
      "cell_type": "code",
      "execution_count": null,
      "metadata": {
        "colab": {
          "base_uri": "https://localhost:8080/"
        },
        "id": "Jc_C7ypW1H29",
        "outputId": "3df02490-2674-406a-b0da-d740601202e7"
      },
      "outputs": [
        {
          "output_type": "stream",
          "name": "stdout",
          "text": [
            "<class 'pandas.core.frame.DataFrame'>\n",
            "Int64Index: 7043 entries, 0 to 7042\n",
            "Data columns (total 21 columns):\n",
            " #   Column            Non-Null Count  Dtype  \n",
            "---  ------            --------------  -----  \n",
            " 0   customerID        7043 non-null   object \n",
            " 1   tenure            7043 non-null   int64  \n",
            " 2   PhoneService      7043 non-null   object \n",
            " 3   Contract          7043 non-null   object \n",
            " 4   PaperlessBilling  7043 non-null   object \n",
            " 5   PaymentMethod     7043 non-null   object \n",
            " 6   MonthlyCharges    7043 non-null   float64\n",
            " 7   TotalCharges      7043 non-null   object \n",
            " 8   Churn             7043 non-null   object \n",
            " 9   gender            7043 non-null   object \n",
            " 10  SeniorCitizen     7043 non-null   int64  \n",
            " 11  Partner           7043 non-null   object \n",
            " 12  Dependents        7043 non-null   object \n",
            " 13  MultipleLines     7043 non-null   object \n",
            " 14  InternetService   7043 non-null   object \n",
            " 15  OnlineSecurity    7043 non-null   object \n",
            " 16  OnlineBackup      7043 non-null   object \n",
            " 17  DeviceProtection  7043 non-null   object \n",
            " 18  TechSupport       7043 non-null   object \n",
            " 19  StreamingTV       7043 non-null   object \n",
            " 20  StreamingMovies   7043 non-null   object \n",
            "dtypes: float64(1), int64(2), object(18)\n",
            "memory usage: 1.2+ MB\n"
          ]
        }
      ],
      "source": [
        "# Let's see the type of each column\n",
        "telecom.info()\n",
        "\n"
      ]
    },
    {
      "cell_type": "code",
      "execution_count": null,
      "metadata": {
        "colab": {
          "base_uri": "https://localhost:8080/"
        },
        "id": "AROVg6reobv2",
        "outputId": "afb604f9-a841-468b-e1d7-a87d600a43d7"
      },
      "outputs": [
        {
          "output_type": "stream",
          "name": "stdout",
          "text": [
            "Yes    6361\n",
            "No      682\n",
            "Name: PhoneService, dtype: int64\n",
            "Yes    4171\n",
            "No     2872\n",
            "Name: PaperlessBilling, dtype: int64\n",
            "No     5174\n",
            "Yes    1869\n",
            "Name: Churn, dtype: int64\n",
            "No     3641\n",
            "Yes    3402\n",
            "Name: Partner, dtype: int64\n",
            "No     4933\n",
            "Yes    2110\n",
            "Name: Dependents, dtype: int64\n",
            "Electronic check             2365\n",
            "Mailed check                 1612\n",
            "Bank transfer (automatic)    1544\n",
            "Credit card (automatic)      1522\n",
            "Name: PaymentMethod, dtype: int64\n"
          ]
        }
      ],
      "source": [
        "#looking at unique values of some columns\n",
        "print(telecom['PhoneService'].value_counts())\n",
        "\n",
        "print(telecom['PaperlessBilling'].value_counts())\n",
        "\n",
        "print(telecom['Churn'].value_counts())\n",
        "\n",
        "print(telecom['Partner'].value_counts())\n",
        "\n",
        "print(telecom['Dependents'].value_counts())\n",
        "\n",
        "print(telecom['PaymentMethod'].value_counts())\n",
        "\n",
        "\n",
        "\n"
      ]
    },
    {
      "cell_type": "markdown",
      "metadata": {
        "id": "TKAQu8Kx1H29"
      },
      "source": [
        "## **`Data Preparation`**\n",
        "\n"
      ]
    },
    {
      "cell_type": "code",
      "execution_count": null,
      "metadata": {
        "id": "CUlS8zl81H2-"
      },
      "outputs": [],
      "source": [
        "# Converting Yes to 1 and No to 0 using map\n",
        "telecom['PhoneService'] = telecom['PhoneService'].map({'Yes':1,'No':0})\n",
        "\n",
        "telecom['PaperlessBilling'] = telecom['PaperlessBilling'].map({'Yes':1,'No':0})\n",
        "\n",
        "\n",
        "telecom['Churn'] = telecom['Churn'].map({'Yes':1,'No':0})\n",
        "\n",
        "telecom['Partner'] = telecom['Partner'].map({'Yes':1,'No':0})\n",
        "\n",
        "telecom['Dependents'] = telecom['Dependents'].map({'Yes':1,'No':0})\n"
      ]
    },
    {
      "cell_type": "markdown",
      "metadata": {
        "id": "t3g3q55L1H2-"
      },
      "source": [
        "### **`Dummy Variable Creation`**\n",
        "\n",
        "As you can see there are many textual information in our data set. Lets do encoding for these classes using get_dummies() function.\n",
        "\n",
        "Note: use prefix='column_name' where column_name is the column whose encoding has to be done."
      ]
    },
    {
      "cell_type": "code",
      "execution_count": null,
      "metadata": {
        "id": "KZ0vG2Fo1H2_"
      },
      "outputs": [],
      "source": [
        "# Creating a dummy variable for the variable 'Contract' and keeping drop_first=True\n",
        "cont = pd.get_dummies(telecom['Contract'],prefix='Contract',drop_first=True)\n",
        "\n",
        "#Adding the results to the master dataframe i.e telecom\n",
        "telecom = pd.concat([telecom,cont],axis=1)\n",
        "\n",
        "\n",
        "# Creating a dummy variable for the variable 'PaymentMethod' and keeping drop_first=True\n",
        "pm = pd.get_dummies(telecom['PaymentMethod'],prefix='PaymentMethod',drop_first=True)\n",
        "\n",
        "#Adding the results to the master dataframe\n",
        "telecom = pd.concat([telecom,pm],axis=1)\n",
        "\n",
        "\n",
        "\n",
        "# Creating a dummy variable for the variable 'gender' and keeping drop_first=True\n",
        "gen = pd.get_dummies(telecom['gender'],prefix='gender',drop_first=True)\n",
        "\n",
        "#Adding the results to the master dataframe\n",
        "telecom = pd.concat([telecom,gen],axis=1)\n",
        "\n",
        "\n",
        "# Creating a dummy variable for the variable 'MultipleLines' and keeping drop_first=True\n",
        "ml = pd.get_dummies(telecom['MultipleLines'],prefix='MultipleLines',drop_first=True)\n",
        "\n",
        "#  dropping MultipleLines_No phone service column\n",
        "ml1 = ml.drop(['MultipleLines_No phone service'],axis=1)\n",
        "\n",
        "\n",
        "#Adding the results to the master dataframe\n",
        "telecom = pd.concat([telecom,ml1],axis=1)\n",
        "\n",
        "# Creating a dummy variable for the variable 'InternetService' and keeping drop_first=True\n",
        "iser = pd.get_dummies(telecom['InternetService'],prefix='InternetService',drop_first=True)\n",
        "\n",
        "\n",
        "#Adding the results to the master dataframe\n",
        "telecom = pd.concat([telecom,iser],axis=1)\n",
        "\n",
        "\n",
        "# Creating a dummy variable for the variable 'OnlineSecurity'.\n",
        "os = pd.get_dummies(telecom['OnlineSecurity'],prefix='OnlineSecurity',drop_first=True)\n",
        "\n",
        "\n",
        "\n",
        "#drop OnlineSecurity_No internet service column from os\n",
        "os1= os.drop(['OnlineSecurity_No internet service'],axis=1)\n",
        "\n",
        "#Adding os1 to the master dataframe\n",
        "telecom = pd.concat([telecom,os1],axis=1)\n",
        "\n",
        "\n",
        "# Creating a dummy variable for the variable 'OnlineBackup' and keeping drop_first=True\n",
        "ob =pd.get_dummies(telecom['OnlineBackup'],prefix='OnlineBackup',drop_first=True)\n",
        "\n",
        "\n",
        "#dropping OnlineBackup_No internet service from ob\n",
        "ob1 = ob.drop(['OnlineBackup_No internet service'],axis=1)\n",
        "\n",
        "#Adding the results(ob1) to the master dataframe\n",
        "telecom = pd.concat([telecom,ob1],axis=1)\n",
        "\n",
        "\n",
        "# Creating a dummy variable for the variable 'DeviceProtection' and keeping drop_first=True\n",
        "dp = pd.get_dummies(telecom['DeviceProtection'],prefix='DeviceProtection',drop_first=True)\n",
        "\n",
        "\n",
        "#dropping DeviceProtection_No internet service\n",
        "dp1 = dp.drop(['DeviceProtection_No internet service'],axis=1)\n",
        "\n",
        "#Adding the results(dp1) to the master dataframe\n",
        "telecom = pd.concat([telecom,dp1],axis=1)\n",
        "\n",
        "\n",
        "# Creating a dummy variable for the variable 'TechSupport' and keeping drop_first=True\n",
        "ts = pd.get_dummies(telecom['TechSupport'],prefix='TechSupport',drop_first=True)\n",
        "\n",
        "\n",
        "#dropping TechSupport_No internet service from ts\n",
        "ts1 = ts.drop(['TechSupport_No internet service'],axis=1)\n",
        "\n",
        "#Adding the results(ts1) to the master dataframe\n",
        "telecom = pd.concat([telecom,ts1],axis=1)\n",
        "\n",
        "\n",
        "# Creating a dummy variable for the variable 'StreamingTV' and keeping drop_first=True\n",
        "st = pd.get_dummies(telecom['StreamingTV'],prefix='StreamingTV',drop_first=True)\n",
        "\n",
        "\n",
        "#dropping StreamingTV_No internet service from st\n",
        "st1 = st.drop(['StreamingTV_No internet service'],axis=1)\n",
        "\n",
        "#Adding the results(st1) to the master dataframe\n",
        "telecom = pd.concat([telecom,st1],axis=1)\n",
        "\n",
        "\n",
        "# Creating a dummy variable for the variable 'StreamingMovies' and keeping drop_first=True \n",
        "sm =pd.get_dummies(telecom['StreamingMovies'],prefix='StreamingMovies',drop_first=True)\n",
        "\n",
        "\n",
        "\n",
        "#dropping StreamingMovies_No internet service from sm\n",
        "sm1 = sm.drop(['StreamingMovies_No internet service'],axis=1)\n",
        "#Adding the results(sm1) to the master dataframe\n",
        "telecom = pd.concat([telecom,sm1],axis=1)"
      ]
    },
    {
      "cell_type": "code",
      "execution_count": null,
      "metadata": {
        "colab": {
          "base_uri": "https://localhost:8080/",
          "height": 403
        },
        "id": "BM0mb7W4-4R8",
        "outputId": "4117d51e-1eae-4c76-fba8-24528732db45"
      },
      "outputs": [
        {
          "output_type": "execute_result",
          "data": {
            "text/plain": [
              "   customerID  tenure  PhoneService        Contract  PaperlessBilling  \\\n",
              "0  7590-VHVEG       1             0  Month-to-month                 1   \n",
              "1  5575-GNVDE      34             1        One year                 0   \n",
              "2  3668-QPYBK       2             1  Month-to-month                 1   \n",
              "3  7795-CFOCW      45             0        One year                 0   \n",
              "4  9237-HQITU       2             1  Month-to-month                 1   \n",
              "\n",
              "               PaymentMethod  MonthlyCharges TotalCharges  Churn  gender  ...  \\\n",
              "0           Electronic check           29.85        29.85      0  Female  ...   \n",
              "1               Mailed check           56.95       1889.5      0    Male  ...   \n",
              "2               Mailed check           53.85       108.15      1    Male  ...   \n",
              "3  Bank transfer (automatic)           42.30      1840.75      0    Male  ...   \n",
              "4           Electronic check           70.70       151.65      1  Female  ...   \n",
              "\n",
              "   gender_Male  MultipleLines_Yes  InternetService_Fiber optic  \\\n",
              "0            0                  0                            0   \n",
              "1            1                  0                            0   \n",
              "2            1                  0                            0   \n",
              "3            1                  0                            0   \n",
              "4            0                  0                            1   \n",
              "\n",
              "  InternetService_No OnlineSecurity_Yes OnlineBackup_Yes DeviceProtection_Yes  \\\n",
              "0                  0                  0                1                    0   \n",
              "1                  0                  1                0                    1   \n",
              "2                  0                  1                1                    0   \n",
              "3                  0                  1                0                    1   \n",
              "4                  0                  0                0                    0   \n",
              "\n",
              "  TechSupport_Yes StreamingTV_Yes StreamingMovies_Yes  \n",
              "0               0               0                   0  \n",
              "1               0               0                   0  \n",
              "2               0               0                   0  \n",
              "3               1               0                   0  \n",
              "4               0               0                   0  \n",
              "\n",
              "[5 rows x 36 columns]"
            ],
            "text/html": [
              "\n",
              "  <div id=\"df-1ef4ad4a-f671-42ea-93af-73fa35f27fbe\">\n",
              "    <div class=\"colab-df-container\">\n",
              "      <div>\n",
              "<style scoped>\n",
              "    .dataframe tbody tr th:only-of-type {\n",
              "        vertical-align: middle;\n",
              "    }\n",
              "\n",
              "    .dataframe tbody tr th {\n",
              "        vertical-align: top;\n",
              "    }\n",
              "\n",
              "    .dataframe thead th {\n",
              "        text-align: right;\n",
              "    }\n",
              "</style>\n",
              "<table border=\"1\" class=\"dataframe\">\n",
              "  <thead>\n",
              "    <tr style=\"text-align: right;\">\n",
              "      <th></th>\n",
              "      <th>customerID</th>\n",
              "      <th>tenure</th>\n",
              "      <th>PhoneService</th>\n",
              "      <th>Contract</th>\n",
              "      <th>PaperlessBilling</th>\n",
              "      <th>PaymentMethod</th>\n",
              "      <th>MonthlyCharges</th>\n",
              "      <th>TotalCharges</th>\n",
              "      <th>Churn</th>\n",
              "      <th>gender</th>\n",
              "      <th>...</th>\n",
              "      <th>gender_Male</th>\n",
              "      <th>MultipleLines_Yes</th>\n",
              "      <th>InternetService_Fiber optic</th>\n",
              "      <th>InternetService_No</th>\n",
              "      <th>OnlineSecurity_Yes</th>\n",
              "      <th>OnlineBackup_Yes</th>\n",
              "      <th>DeviceProtection_Yes</th>\n",
              "      <th>TechSupport_Yes</th>\n",
              "      <th>StreamingTV_Yes</th>\n",
              "      <th>StreamingMovies_Yes</th>\n",
              "    </tr>\n",
              "  </thead>\n",
              "  <tbody>\n",
              "    <tr>\n",
              "      <th>0</th>\n",
              "      <td>7590-VHVEG</td>\n",
              "      <td>1</td>\n",
              "      <td>0</td>\n",
              "      <td>Month-to-month</td>\n",
              "      <td>1</td>\n",
              "      <td>Electronic check</td>\n",
              "      <td>29.85</td>\n",
              "      <td>29.85</td>\n",
              "      <td>0</td>\n",
              "      <td>Female</td>\n",
              "      <td>...</td>\n",
              "      <td>0</td>\n",
              "      <td>0</td>\n",
              "      <td>0</td>\n",
              "      <td>0</td>\n",
              "      <td>0</td>\n",
              "      <td>1</td>\n",
              "      <td>0</td>\n",
              "      <td>0</td>\n",
              "      <td>0</td>\n",
              "      <td>0</td>\n",
              "    </tr>\n",
              "    <tr>\n",
              "      <th>1</th>\n",
              "      <td>5575-GNVDE</td>\n",
              "      <td>34</td>\n",
              "      <td>1</td>\n",
              "      <td>One year</td>\n",
              "      <td>0</td>\n",
              "      <td>Mailed check</td>\n",
              "      <td>56.95</td>\n",
              "      <td>1889.5</td>\n",
              "      <td>0</td>\n",
              "      <td>Male</td>\n",
              "      <td>...</td>\n",
              "      <td>1</td>\n",
              "      <td>0</td>\n",
              "      <td>0</td>\n",
              "      <td>0</td>\n",
              "      <td>1</td>\n",
              "      <td>0</td>\n",
              "      <td>1</td>\n",
              "      <td>0</td>\n",
              "      <td>0</td>\n",
              "      <td>0</td>\n",
              "    </tr>\n",
              "    <tr>\n",
              "      <th>2</th>\n",
              "      <td>3668-QPYBK</td>\n",
              "      <td>2</td>\n",
              "      <td>1</td>\n",
              "      <td>Month-to-month</td>\n",
              "      <td>1</td>\n",
              "      <td>Mailed check</td>\n",
              "      <td>53.85</td>\n",
              "      <td>108.15</td>\n",
              "      <td>1</td>\n",
              "      <td>Male</td>\n",
              "      <td>...</td>\n",
              "      <td>1</td>\n",
              "      <td>0</td>\n",
              "      <td>0</td>\n",
              "      <td>0</td>\n",
              "      <td>1</td>\n",
              "      <td>1</td>\n",
              "      <td>0</td>\n",
              "      <td>0</td>\n",
              "      <td>0</td>\n",
              "      <td>0</td>\n",
              "    </tr>\n",
              "    <tr>\n",
              "      <th>3</th>\n",
              "      <td>7795-CFOCW</td>\n",
              "      <td>45</td>\n",
              "      <td>0</td>\n",
              "      <td>One year</td>\n",
              "      <td>0</td>\n",
              "      <td>Bank transfer (automatic)</td>\n",
              "      <td>42.30</td>\n",
              "      <td>1840.75</td>\n",
              "      <td>0</td>\n",
              "      <td>Male</td>\n",
              "      <td>...</td>\n",
              "      <td>1</td>\n",
              "      <td>0</td>\n",
              "      <td>0</td>\n",
              "      <td>0</td>\n",
              "      <td>1</td>\n",
              "      <td>0</td>\n",
              "      <td>1</td>\n",
              "      <td>1</td>\n",
              "      <td>0</td>\n",
              "      <td>0</td>\n",
              "    </tr>\n",
              "    <tr>\n",
              "      <th>4</th>\n",
              "      <td>9237-HQITU</td>\n",
              "      <td>2</td>\n",
              "      <td>1</td>\n",
              "      <td>Month-to-month</td>\n",
              "      <td>1</td>\n",
              "      <td>Electronic check</td>\n",
              "      <td>70.70</td>\n",
              "      <td>151.65</td>\n",
              "      <td>1</td>\n",
              "      <td>Female</td>\n",
              "      <td>...</td>\n",
              "      <td>0</td>\n",
              "      <td>0</td>\n",
              "      <td>1</td>\n",
              "      <td>0</td>\n",
              "      <td>0</td>\n",
              "      <td>0</td>\n",
              "      <td>0</td>\n",
              "      <td>0</td>\n",
              "      <td>0</td>\n",
              "      <td>0</td>\n",
              "    </tr>\n",
              "  </tbody>\n",
              "</table>\n",
              "<p>5 rows × 36 columns</p>\n",
              "</div>\n",
              "      <button class=\"colab-df-convert\" onclick=\"convertToInteractive('df-1ef4ad4a-f671-42ea-93af-73fa35f27fbe')\"\n",
              "              title=\"Convert this dataframe to an interactive table.\"\n",
              "              style=\"display:none;\">\n",
              "        \n",
              "  <svg xmlns=\"http://www.w3.org/2000/svg\" height=\"24px\"viewBox=\"0 0 24 24\"\n",
              "       width=\"24px\">\n",
              "    <path d=\"M0 0h24v24H0V0z\" fill=\"none\"/>\n",
              "    <path d=\"M18.56 5.44l.94 2.06.94-2.06 2.06-.94-2.06-.94-.94-2.06-.94 2.06-2.06.94zm-11 1L8.5 8.5l.94-2.06 2.06-.94-2.06-.94L8.5 2.5l-.94 2.06-2.06.94zm10 10l.94 2.06.94-2.06 2.06-.94-2.06-.94-.94-2.06-.94 2.06-2.06.94z\"/><path d=\"M17.41 7.96l-1.37-1.37c-.4-.4-.92-.59-1.43-.59-.52 0-1.04.2-1.43.59L10.3 9.45l-7.72 7.72c-.78.78-.78 2.05 0 2.83L4 21.41c.39.39.9.59 1.41.59.51 0 1.02-.2 1.41-.59l7.78-7.78 2.81-2.81c.8-.78.8-2.07 0-2.86zM5.41 20L4 18.59l7.72-7.72 1.47 1.35L5.41 20z\"/>\n",
              "  </svg>\n",
              "      </button>\n",
              "      \n",
              "  <style>\n",
              "    .colab-df-container {\n",
              "      display:flex;\n",
              "      flex-wrap:wrap;\n",
              "      gap: 12px;\n",
              "    }\n",
              "\n",
              "    .colab-df-convert {\n",
              "      background-color: #E8F0FE;\n",
              "      border: none;\n",
              "      border-radius: 50%;\n",
              "      cursor: pointer;\n",
              "      display: none;\n",
              "      fill: #1967D2;\n",
              "      height: 32px;\n",
              "      padding: 0 0 0 0;\n",
              "      width: 32px;\n",
              "    }\n",
              "\n",
              "    .colab-df-convert:hover {\n",
              "      background-color: #E2EBFA;\n",
              "      box-shadow: 0px 1px 2px rgba(60, 64, 67, 0.3), 0px 1px 3px 1px rgba(60, 64, 67, 0.15);\n",
              "      fill: #174EA6;\n",
              "    }\n",
              "\n",
              "    [theme=dark] .colab-df-convert {\n",
              "      background-color: #3B4455;\n",
              "      fill: #D2E3FC;\n",
              "    }\n",
              "\n",
              "    [theme=dark] .colab-df-convert:hover {\n",
              "      background-color: #434B5C;\n",
              "      box-shadow: 0px 1px 3px 1px rgba(0, 0, 0, 0.15);\n",
              "      filter: drop-shadow(0px 1px 2px rgba(0, 0, 0, 0.3));\n",
              "      fill: #FFFFFF;\n",
              "    }\n",
              "  </style>\n",
              "\n",
              "      <script>\n",
              "        const buttonEl =\n",
              "          document.querySelector('#df-1ef4ad4a-f671-42ea-93af-73fa35f27fbe button.colab-df-convert');\n",
              "        buttonEl.style.display =\n",
              "          google.colab.kernel.accessAllowed ? 'block' : 'none';\n",
              "\n",
              "        async function convertToInteractive(key) {\n",
              "          const element = document.querySelector('#df-1ef4ad4a-f671-42ea-93af-73fa35f27fbe');\n",
              "          const dataTable =\n",
              "            await google.colab.kernel.invokeFunction('convertToInteractive',\n",
              "                                                     [key], {});\n",
              "          if (!dataTable) return;\n",
              "\n",
              "          const docLinkHtml = 'Like what you see? Visit the ' +\n",
              "            '<a target=\"_blank\" href=https://colab.research.google.com/notebooks/data_table.ipynb>data table notebook</a>'\n",
              "            + ' to learn more about interactive tables.';\n",
              "          element.innerHTML = '';\n",
              "          dataTable['output_type'] = 'display_data';\n",
              "          await google.colab.output.renderOutput(dataTable, element);\n",
              "          const docLink = document.createElement('div');\n",
              "          docLink.innerHTML = docLinkHtml;\n",
              "          element.appendChild(docLink);\n",
              "        }\n",
              "      </script>\n",
              "    </div>\n",
              "  </div>\n",
              "  "
            ]
          },
          "metadata": {},
          "execution_count": 13
        }
      ],
      "source": [
        "telecom.head()"
      ]
    },
    {
      "cell_type": "markdown",
      "metadata": {
        "id": "WBXqiCLb1H3B"
      },
      "source": [
        "### **`Dropping the repeated variables`**\n",
        "\n",
        "Since We have already created dummies for the below variables\n",
        "    \n",
        "    'Contract',\n",
        "    'PaymentMethod',\n",
        "    'gender',\n",
        "    'MultipleLines',\n",
        "    'InternetService', \n",
        "    'OnlineSecurity', \n",
        "    'OnlineBackup', \n",
        "    'DeviceProtection',\n",
        "    'TechSupport', \n",
        "    'StreamingTV', \n",
        "    'StreamingMovies'\n",
        "so we can drop them off as they are now repeated in our master dataset\n"
      ]
    },
    {
      "cell_type": "code",
      "execution_count": null,
      "metadata": {
        "id": "TwpUTW_V1H3C"
      },
      "outputs": [],
      "source": [
        "# drop all duplicate columns\n",
        "telecom = telecom.drop(['Contract','PaymentMethod','gender','MultipleLines','InternetService','OnlineSecurity','OnlineBackup','DeviceProtection','TechSupport','StreamingTV','StreamingMovies'],axis=1)\n"
      ]
    },
    {
      "cell_type": "code",
      "execution_count": null,
      "metadata": {
        "colab": {
          "base_uri": "https://localhost:8080/"
        },
        "id": "gs0zXSuaAdnJ",
        "outputId": "20021bfc-9ed7-46dc-d3d3-4cb25c9a6c11"
      },
      "outputs": [
        {
          "output_type": "stream",
          "name": "stdout",
          "text": [
            "<class 'pandas.core.frame.DataFrame'>\n",
            "Int64Index: 7043 entries, 0 to 7042\n",
            "Data columns (total 25 columns):\n",
            " #   Column                                 Non-Null Count  Dtype  \n",
            "---  ------                                 --------------  -----  \n",
            " 0   customerID                             7043 non-null   object \n",
            " 1   tenure                                 7043 non-null   int64  \n",
            " 2   PhoneService                           7043 non-null   int64  \n",
            " 3   PaperlessBilling                       7043 non-null   int64  \n",
            " 4   MonthlyCharges                         7043 non-null   float64\n",
            " 5   TotalCharges                           7043 non-null   object \n",
            " 6   Churn                                  7043 non-null   int64  \n",
            " 7   SeniorCitizen                          7043 non-null   int64  \n",
            " 8   Partner                                7043 non-null   int64  \n",
            " 9   Dependents                             7043 non-null   int64  \n",
            " 10  Contract_One year                      7043 non-null   uint8  \n",
            " 11  Contract_Two year                      7043 non-null   uint8  \n",
            " 12  PaymentMethod_Credit card (automatic)  7043 non-null   uint8  \n",
            " 13  PaymentMethod_Electronic check         7043 non-null   uint8  \n",
            " 14  PaymentMethod_Mailed check             7043 non-null   uint8  \n",
            " 15  gender_Male                            7043 non-null   uint8  \n",
            " 16  MultipleLines_Yes                      7043 non-null   uint8  \n",
            " 17  InternetService_Fiber optic            7043 non-null   uint8  \n",
            " 18  InternetService_No                     7043 non-null   uint8  \n",
            " 19  OnlineSecurity_Yes                     7043 non-null   uint8  \n",
            " 20  OnlineBackup_Yes                       7043 non-null   uint8  \n",
            " 21  DeviceProtection_Yes                   7043 non-null   uint8  \n",
            " 22  TechSupport_Yes                        7043 non-null   uint8  \n",
            " 23  StreamingTV_Yes                        7043 non-null   uint8  \n",
            " 24  StreamingMovies_Yes                    7043 non-null   uint8  \n",
            "dtypes: float64(1), int64(7), object(2), uint8(15)\n",
            "memory usage: 708.4+ KB\n"
          ]
        }
      ],
      "source": [
        "telecom.info()"
      ]
    },
    {
      "cell_type": "markdown",
      "metadata": {
        "id": "wUjXo8NE1H3D"
      },
      "source": [
        "The TotalCharges variable was imported as a string we need to convert it to numeric type<br>\n"
      ]
    },
    {
      "cell_type": "code",
      "execution_count": null,
      "metadata": {
        "id": "xxUdkcMG1H3E"
      },
      "outputs": [],
      "source": [
        "telecom['TotalCharges']=pd.to_numeric(telecom['TotalCharges'],errors='coerce')"
      ]
    },
    {
      "cell_type": "markdown",
      "metadata": {
        "id": "zobN4dzW1H3F"
      },
      "source": [
        "Now we can see we have all variables as integer."
      ]
    },
    {
      "cell_type": "markdown",
      "metadata": {
        "collapsed": true,
        "id": "F5ha-8X21H3F"
      },
      "source": [
        "### **`Checking for Outliers`**\n",
        "\n",
        "\n",
        "\n",
        "Checking for outliers in the continuous variables like 'tenure','MonthlyCharges','SeniorCitizen','TotalCharges'\n"
      ]
    },
    {
      "cell_type": "code",
      "execution_count": null,
      "metadata": {
        "id": "88nugxmR1H3F",
        "colab": {
          "base_uri": "https://localhost:8080/"
        },
        "outputId": "0cc17e10-68eb-47ab-b6c0-a19cd3ddf699"
      },
      "outputs": [
        {
          "output_type": "stream",
          "name": "stdout",
          "text": [
            "<class 'pandas.core.frame.DataFrame'>\n"
          ]
        }
      ],
      "source": [
        "# Getting all continues variables in separate dataframe\n",
        "num_telecom = telecom[['tenure','MonthlyCharges','SeniorCitizen','TotalCharges']]\n",
        "print(type(num_telecom))"
      ]
    },
    {
      "cell_type": "code",
      "execution_count": null,
      "metadata": {
        "id": "_nTW7FmY1H3G",
        "outputId": "14eb0d16-33a8-4261-c6f7-3b7850e31e60",
        "colab": {
          "base_uri": "https://localhost:8080/",
          "height": 394
        }
      },
      "outputs": [
        {
          "output_type": "execute_result",
          "data": {
            "text/plain": [
              "            tenure  MonthlyCharges  SeniorCitizen  TotalCharges\n",
              "count  7043.000000     7043.000000    7043.000000   7032.000000\n",
              "mean     32.371149       64.761692       0.162147   2283.300441\n",
              "std      24.559481       30.090047       0.368612   2266.771362\n",
              "min       0.000000       18.250000       0.000000     18.800000\n",
              "25%       9.000000       35.500000       0.000000    401.450000\n",
              "50%      29.000000       70.350000       0.000000   1397.475000\n",
              "75%      55.000000       89.850000       0.000000   3794.737500\n",
              "90%      69.000000      102.600000       1.000000   5976.640000\n",
              "95%      72.000000      107.400000       1.000000   6923.590000\n",
              "99%      72.000000      114.729000       1.000000   8039.883000\n",
              "max      72.000000      118.750000       1.000000   8684.800000"
            ],
            "text/html": [
              "\n",
              "  <div id=\"df-3922f7a9-4d26-4eb7-87e6-9f1790fe7854\">\n",
              "    <div class=\"colab-df-container\">\n",
              "      <div>\n",
              "<style scoped>\n",
              "    .dataframe tbody tr th:only-of-type {\n",
              "        vertical-align: middle;\n",
              "    }\n",
              "\n",
              "    .dataframe tbody tr th {\n",
              "        vertical-align: top;\n",
              "    }\n",
              "\n",
              "    .dataframe thead th {\n",
              "        text-align: right;\n",
              "    }\n",
              "</style>\n",
              "<table border=\"1\" class=\"dataframe\">\n",
              "  <thead>\n",
              "    <tr style=\"text-align: right;\">\n",
              "      <th></th>\n",
              "      <th>tenure</th>\n",
              "      <th>MonthlyCharges</th>\n",
              "      <th>SeniorCitizen</th>\n",
              "      <th>TotalCharges</th>\n",
              "    </tr>\n",
              "  </thead>\n",
              "  <tbody>\n",
              "    <tr>\n",
              "      <th>count</th>\n",
              "      <td>7043.000000</td>\n",
              "      <td>7043.000000</td>\n",
              "      <td>7043.000000</td>\n",
              "      <td>7032.000000</td>\n",
              "    </tr>\n",
              "    <tr>\n",
              "      <th>mean</th>\n",
              "      <td>32.371149</td>\n",
              "      <td>64.761692</td>\n",
              "      <td>0.162147</td>\n",
              "      <td>2283.300441</td>\n",
              "    </tr>\n",
              "    <tr>\n",
              "      <th>std</th>\n",
              "      <td>24.559481</td>\n",
              "      <td>30.090047</td>\n",
              "      <td>0.368612</td>\n",
              "      <td>2266.771362</td>\n",
              "    </tr>\n",
              "    <tr>\n",
              "      <th>min</th>\n",
              "      <td>0.000000</td>\n",
              "      <td>18.250000</td>\n",
              "      <td>0.000000</td>\n",
              "      <td>18.800000</td>\n",
              "    </tr>\n",
              "    <tr>\n",
              "      <th>25%</th>\n",
              "      <td>9.000000</td>\n",
              "      <td>35.500000</td>\n",
              "      <td>0.000000</td>\n",
              "      <td>401.450000</td>\n",
              "    </tr>\n",
              "    <tr>\n",
              "      <th>50%</th>\n",
              "      <td>29.000000</td>\n",
              "      <td>70.350000</td>\n",
              "      <td>0.000000</td>\n",
              "      <td>1397.475000</td>\n",
              "    </tr>\n",
              "    <tr>\n",
              "      <th>75%</th>\n",
              "      <td>55.000000</td>\n",
              "      <td>89.850000</td>\n",
              "      <td>0.000000</td>\n",
              "      <td>3794.737500</td>\n",
              "    </tr>\n",
              "    <tr>\n",
              "      <th>90%</th>\n",
              "      <td>69.000000</td>\n",
              "      <td>102.600000</td>\n",
              "      <td>1.000000</td>\n",
              "      <td>5976.640000</td>\n",
              "    </tr>\n",
              "    <tr>\n",
              "      <th>95%</th>\n",
              "      <td>72.000000</td>\n",
              "      <td>107.400000</td>\n",
              "      <td>1.000000</td>\n",
              "      <td>6923.590000</td>\n",
              "    </tr>\n",
              "    <tr>\n",
              "      <th>99%</th>\n",
              "      <td>72.000000</td>\n",
              "      <td>114.729000</td>\n",
              "      <td>1.000000</td>\n",
              "      <td>8039.883000</td>\n",
              "    </tr>\n",
              "    <tr>\n",
              "      <th>max</th>\n",
              "      <td>72.000000</td>\n",
              "      <td>118.750000</td>\n",
              "      <td>1.000000</td>\n",
              "      <td>8684.800000</td>\n",
              "    </tr>\n",
              "  </tbody>\n",
              "</table>\n",
              "</div>\n",
              "      <button class=\"colab-df-convert\" onclick=\"convertToInteractive('df-3922f7a9-4d26-4eb7-87e6-9f1790fe7854')\"\n",
              "              title=\"Convert this dataframe to an interactive table.\"\n",
              "              style=\"display:none;\">\n",
              "        \n",
              "  <svg xmlns=\"http://www.w3.org/2000/svg\" height=\"24px\"viewBox=\"0 0 24 24\"\n",
              "       width=\"24px\">\n",
              "    <path d=\"M0 0h24v24H0V0z\" fill=\"none\"/>\n",
              "    <path d=\"M18.56 5.44l.94 2.06.94-2.06 2.06-.94-2.06-.94-.94-2.06-.94 2.06-2.06.94zm-11 1L8.5 8.5l.94-2.06 2.06-.94-2.06-.94L8.5 2.5l-.94 2.06-2.06.94zm10 10l.94 2.06.94-2.06 2.06-.94-2.06-.94-.94-2.06-.94 2.06-2.06.94z\"/><path d=\"M17.41 7.96l-1.37-1.37c-.4-.4-.92-.59-1.43-.59-.52 0-1.04.2-1.43.59L10.3 9.45l-7.72 7.72c-.78.78-.78 2.05 0 2.83L4 21.41c.39.39.9.59 1.41.59.51 0 1.02-.2 1.41-.59l7.78-7.78 2.81-2.81c.8-.78.8-2.07 0-2.86zM5.41 20L4 18.59l7.72-7.72 1.47 1.35L5.41 20z\"/>\n",
              "  </svg>\n",
              "      </button>\n",
              "      \n",
              "  <style>\n",
              "    .colab-df-container {\n",
              "      display:flex;\n",
              "      flex-wrap:wrap;\n",
              "      gap: 12px;\n",
              "    }\n",
              "\n",
              "    .colab-df-convert {\n",
              "      background-color: #E8F0FE;\n",
              "      border: none;\n",
              "      border-radius: 50%;\n",
              "      cursor: pointer;\n",
              "      display: none;\n",
              "      fill: #1967D2;\n",
              "      height: 32px;\n",
              "      padding: 0 0 0 0;\n",
              "      width: 32px;\n",
              "    }\n",
              "\n",
              "    .colab-df-convert:hover {\n",
              "      background-color: #E2EBFA;\n",
              "      box-shadow: 0px 1px 2px rgba(60, 64, 67, 0.3), 0px 1px 3px 1px rgba(60, 64, 67, 0.15);\n",
              "      fill: #174EA6;\n",
              "    }\n",
              "\n",
              "    [theme=dark] .colab-df-convert {\n",
              "      background-color: #3B4455;\n",
              "      fill: #D2E3FC;\n",
              "    }\n",
              "\n",
              "    [theme=dark] .colab-df-convert:hover {\n",
              "      background-color: #434B5C;\n",
              "      box-shadow: 0px 1px 3px 1px rgba(0, 0, 0, 0.15);\n",
              "      filter: drop-shadow(0px 1px 2px rgba(0, 0, 0, 0.3));\n",
              "      fill: #FFFFFF;\n",
              "    }\n",
              "  </style>\n",
              "\n",
              "      <script>\n",
              "        const buttonEl =\n",
              "          document.querySelector('#df-3922f7a9-4d26-4eb7-87e6-9f1790fe7854 button.colab-df-convert');\n",
              "        buttonEl.style.display =\n",
              "          google.colab.kernel.accessAllowed ? 'block' : 'none';\n",
              "\n",
              "        async function convertToInteractive(key) {\n",
              "          const element = document.querySelector('#df-3922f7a9-4d26-4eb7-87e6-9f1790fe7854');\n",
              "          const dataTable =\n",
              "            await google.colab.kernel.invokeFunction('convertToInteractive',\n",
              "                                                     [key], {});\n",
              "          if (!dataTable) return;\n",
              "\n",
              "          const docLinkHtml = 'Like what you see? Visit the ' +\n",
              "            '<a target=\"_blank\" href=https://colab.research.google.com/notebooks/data_table.ipynb>data table notebook</a>'\n",
              "            + ' to learn more about interactive tables.';\n",
              "          element.innerHTML = '';\n",
              "          dataTable['output_type'] = 'display_data';\n",
              "          await google.colab.output.renderOutput(dataTable, element);\n",
              "          const docLink = document.createElement('div');\n",
              "          docLink.innerHTML = docLinkHtml;\n",
              "          element.appendChild(docLink);\n",
              "        }\n",
              "      </script>\n",
              "    </div>\n",
              "  </div>\n",
              "  "
            ]
          },
          "metadata": {},
          "execution_count": 19
        }
      ],
      "source": [
        "# Checking outliers at 25%,50%,75%,90%,95% and 99%\n",
        "num_telecom.describe(percentiles=[.25,.5,.75,.90,.95,.99])\n",
        "\n"
      ]
    },
    {
      "cell_type": "markdown",
      "metadata": {
        "id": "YdNiiA-b1H3G"
      },
      "source": [
        "From the distribution shown above, you can see that there no outliner in your data as the numbers are gradually increasing."
      ]
    },
    {
      "cell_type": "markdown",
      "metadata": {
        "id": "xFMBabi91H3H"
      },
      "source": [
        "### **`Checking for Missing Values and Inputing Them`**\n",
        "\n",
        "<p style='text-align: right;'> 5 points</p>\n"
      ]
    },
    {
      "cell_type": "code",
      "execution_count": null,
      "metadata": {
        "id": "QxR8EcTs1H3H",
        "outputId": "fc4c42db-93d2-435f-cc36-1b4898e8457b",
        "colab": {
          "base_uri": "https://localhost:8080/"
        }
      },
      "outputs": [
        {
          "output_type": "execute_result",
          "data": {
            "text/plain": [
              "customerID                                0\n",
              "tenure                                    0\n",
              "PhoneService                              0\n",
              "PaperlessBilling                          0\n",
              "MonthlyCharges                            0\n",
              "TotalCharges                             11\n",
              "Churn                                     0\n",
              "SeniorCitizen                             0\n",
              "Partner                                   0\n",
              "Dependents                                0\n",
              "Contract_One year                         0\n",
              "Contract_Two year                         0\n",
              "PaymentMethod_Credit card (automatic)     0\n",
              "PaymentMethod_Electronic check            0\n",
              "PaymentMethod_Mailed check                0\n",
              "gender_Male                               0\n",
              "MultipleLines_Yes                         0\n",
              "InternetService_Fiber optic               0\n",
              "InternetService_No                        0\n",
              "OnlineSecurity_Yes                        0\n",
              "OnlineBackup_Yes                          0\n",
              "DeviceProtection_Yes                      0\n",
              "TechSupport_Yes                           0\n",
              "StreamingTV_Yes                           0\n",
              "StreamingMovies_Yes                       0\n",
              "dtype: int64"
            ]
          },
          "metadata": {},
          "execution_count": 20
        }
      ],
      "source": [
        "# Checking total missing values (column-wise)\n",
        "telecom.isnull().sum()\n",
        "\n"
      ]
    },
    {
      "cell_type": "markdown",
      "source": [
        "It can be seen that total charges column has 11 null values."
      ],
      "metadata": {
        "id": "H1toPkV5z3oV"
      }
    },
    {
      "cell_type": "code",
      "execution_count": null,
      "metadata": {
        "id": "9_e_fOrP1H3H",
        "outputId": "d17661ec-95b0-4b5e-c0d6-64c392ffc969",
        "colab": {
          "base_uri": "https://localhost:8080/"
        }
      },
      "outputs": [
        {
          "output_type": "execute_result",
          "data": {
            "text/plain": [
              "customerID                               0.0\n",
              "tenure                                   0.0\n",
              "PhoneService                             0.0\n",
              "PaperlessBilling                         0.0\n",
              "MonthlyCharges                           0.0\n",
              "TotalCharges                             0.0\n",
              "Churn                                    0.0\n",
              "SeniorCitizen                            0.0\n",
              "Partner                                  0.0\n",
              "Dependents                               0.0\n",
              "Contract_One year                        0.0\n",
              "Contract_Two year                        0.0\n",
              "PaymentMethod_Credit card (automatic)    0.0\n",
              "PaymentMethod_Electronic check           0.0\n",
              "PaymentMethod_Mailed check               0.0\n",
              "gender_Male                              0.0\n",
              "MultipleLines_Yes                        0.0\n",
              "InternetService_Fiber optic              0.0\n",
              "InternetService_No                       0.0\n",
              "OnlineSecurity_Yes                       0.0\n",
              "OnlineBackup_Yes                         0.0\n",
              "DeviceProtection_Yes                     0.0\n",
              "TechSupport_Yes                          0.0\n",
              "StreamingTV_Yes                          0.0\n",
              "StreamingMovies_Yes                      0.0\n",
              "dtype: float64"
            ]
          },
          "metadata": {},
          "execution_count": 21
        }
      ],
      "source": [
        "# Checking the percentage of missing values\n",
        "round(telecom.isnull().sum()/len(telecom.index),2)\n",
        "\n"
      ]
    },
    {
      "cell_type": "markdown",
      "metadata": {
        "id": "y_CUot3u1H3I"
      },
      "source": [
        "It means that 11/7043 = 0.001561834 i.e 0.15%, the best option to get rid of these null values in this scenario is to remove these observations from the analysis"
      ]
    },
    {
      "cell_type": "code",
      "execution_count": null,
      "metadata": {
        "id": "bM9HxD0Z1H3I"
      },
      "outputs": [],
      "source": [
        "# Removing NaN form TotalCharges rows\n",
        "telecom=telecom[~np.isnan(telecom['TotalCharges'])]\n",
        "\n",
        "\n"
      ]
    },
    {
      "cell_type": "code",
      "execution_count": null,
      "metadata": {
        "id": "lyBg-4fp1H3I",
        "outputId": "de686f56-e98d-4b56-df46-4261d11ea906",
        "colab": {
          "base_uri": "https://localhost:8080/"
        }
      },
      "outputs": [
        {
          "output_type": "execute_result",
          "data": {
            "text/plain": [
              "customerID                               0\n",
              "tenure                                   0\n",
              "PhoneService                             0\n",
              "PaperlessBilling                         0\n",
              "MonthlyCharges                           0\n",
              "TotalCharges                             0\n",
              "Churn                                    0\n",
              "SeniorCitizen                            0\n",
              "Partner                                  0\n",
              "Dependents                               0\n",
              "Contract_One year                        0\n",
              "Contract_Two year                        0\n",
              "PaymentMethod_Credit card (automatic)    0\n",
              "PaymentMethod_Electronic check           0\n",
              "PaymentMethod_Mailed check               0\n",
              "gender_Male                              0\n",
              "MultipleLines_Yes                        0\n",
              "InternetService_Fiber optic              0\n",
              "InternetService_No                       0\n",
              "OnlineSecurity_Yes                       0\n",
              "OnlineBackup_Yes                         0\n",
              "DeviceProtection_Yes                     0\n",
              "TechSupport_Yes                          0\n",
              "StreamingTV_Yes                          0\n",
              "StreamingMovies_Yes                      0\n",
              "dtype: int64"
            ]
          },
          "metadata": {},
          "execution_count": 23
        }
      ],
      "source": [
        "# Lets Check missing values after removing the missing values\n",
        "telecom.isnull().sum()\n"
      ]
    },
    {
      "cell_type": "markdown",
      "metadata": {
        "id": "xXxFMy8W1H3J"
      },
      "source": [
        "Now we don't have any missing values"
      ]
    },
    {
      "cell_type": "markdown",
      "metadata": {
        "id": "VB7WcLhv1H3K"
      },
      "source": [
        "### **`Feature Standardisation`**\n",
        "\n",
        "\n",
        "\n",
        "Standardization is one of the scaling technique where the values are centered around the mean with a unit standard deviation. This means that the mean of the attribute becomes zero and the resultant distribution has a unit standard deviation."
      ]
    },
    {
      "cell_type": "code",
      "execution_count": null,
      "metadata": {
        "id": "Oi1eA9vX1H3W"
      },
      "outputs": [],
      "source": [
        "# Getting all desired variables like 'tenure','MonthlyCharges' and 'TotalCharges' into one dataframe.\n",
        "df = telecom[['tenure','MonthlyCharges','TotalCharges']]"
      ]
    },
    {
      "cell_type": "code",
      "execution_count": null,
      "metadata": {
        "id": "cCoZkjrR1H3X",
        "colab": {
          "base_uri": "https://localhost:8080/",
          "height": 206
        },
        "outputId": "bbca365b-fee5-41c3-f1d5-d9328a508800"
      },
      "outputs": [
        {
          "output_type": "execute_result",
          "data": {
            "text/plain": [
              "     tenure  MonthlyCharges  TotalCharges\n",
              "0 -1.280157       -1.161611     -0.994123\n",
              "1  0.064298       -0.260859     -0.173727\n",
              "2 -1.239416       -0.363897     -0.959581\n",
              "3  0.512450       -0.747797     -0.195234\n",
              "4 -1.239416        0.196164     -0.940391"
            ],
            "text/html": [
              "\n",
              "  <div id=\"df-4404d8aa-8ec4-4d1a-9e63-c00c4c801979\">\n",
              "    <div class=\"colab-df-container\">\n",
              "      <div>\n",
              "<style scoped>\n",
              "    .dataframe tbody tr th:only-of-type {\n",
              "        vertical-align: middle;\n",
              "    }\n",
              "\n",
              "    .dataframe tbody tr th {\n",
              "        vertical-align: top;\n",
              "    }\n",
              "\n",
              "    .dataframe thead th {\n",
              "        text-align: right;\n",
              "    }\n",
              "</style>\n",
              "<table border=\"1\" class=\"dataframe\">\n",
              "  <thead>\n",
              "    <tr style=\"text-align: right;\">\n",
              "      <th></th>\n",
              "      <th>tenure</th>\n",
              "      <th>MonthlyCharges</th>\n",
              "      <th>TotalCharges</th>\n",
              "    </tr>\n",
              "  </thead>\n",
              "  <tbody>\n",
              "    <tr>\n",
              "      <th>0</th>\n",
              "      <td>-1.280157</td>\n",
              "      <td>-1.161611</td>\n",
              "      <td>-0.994123</td>\n",
              "    </tr>\n",
              "    <tr>\n",
              "      <th>1</th>\n",
              "      <td>0.064298</td>\n",
              "      <td>-0.260859</td>\n",
              "      <td>-0.173727</td>\n",
              "    </tr>\n",
              "    <tr>\n",
              "      <th>2</th>\n",
              "      <td>-1.239416</td>\n",
              "      <td>-0.363897</td>\n",
              "      <td>-0.959581</td>\n",
              "    </tr>\n",
              "    <tr>\n",
              "      <th>3</th>\n",
              "      <td>0.512450</td>\n",
              "      <td>-0.747797</td>\n",
              "      <td>-0.195234</td>\n",
              "    </tr>\n",
              "    <tr>\n",
              "      <th>4</th>\n",
              "      <td>-1.239416</td>\n",
              "      <td>0.196164</td>\n",
              "      <td>-0.940391</td>\n",
              "    </tr>\n",
              "  </tbody>\n",
              "</table>\n",
              "</div>\n",
              "      <button class=\"colab-df-convert\" onclick=\"convertToInteractive('df-4404d8aa-8ec4-4d1a-9e63-c00c4c801979')\"\n",
              "              title=\"Convert this dataframe to an interactive table.\"\n",
              "              style=\"display:none;\">\n",
              "        \n",
              "  <svg xmlns=\"http://www.w3.org/2000/svg\" height=\"24px\"viewBox=\"0 0 24 24\"\n",
              "       width=\"24px\">\n",
              "    <path d=\"M0 0h24v24H0V0z\" fill=\"none\"/>\n",
              "    <path d=\"M18.56 5.44l.94 2.06.94-2.06 2.06-.94-2.06-.94-.94-2.06-.94 2.06-2.06.94zm-11 1L8.5 8.5l.94-2.06 2.06-.94-2.06-.94L8.5 2.5l-.94 2.06-2.06.94zm10 10l.94 2.06.94-2.06 2.06-.94-2.06-.94-.94-2.06-.94 2.06-2.06.94z\"/><path d=\"M17.41 7.96l-1.37-1.37c-.4-.4-.92-.59-1.43-.59-.52 0-1.04.2-1.43.59L10.3 9.45l-7.72 7.72c-.78.78-.78 2.05 0 2.83L4 21.41c.39.39.9.59 1.41.59.51 0 1.02-.2 1.41-.59l7.78-7.78 2.81-2.81c.8-.78.8-2.07 0-2.86zM5.41 20L4 18.59l7.72-7.72 1.47 1.35L5.41 20z\"/>\n",
              "  </svg>\n",
              "      </button>\n",
              "      \n",
              "  <style>\n",
              "    .colab-df-container {\n",
              "      display:flex;\n",
              "      flex-wrap:wrap;\n",
              "      gap: 12px;\n",
              "    }\n",
              "\n",
              "    .colab-df-convert {\n",
              "      background-color: #E8F0FE;\n",
              "      border: none;\n",
              "      border-radius: 50%;\n",
              "      cursor: pointer;\n",
              "      display: none;\n",
              "      fill: #1967D2;\n",
              "      height: 32px;\n",
              "      padding: 0 0 0 0;\n",
              "      width: 32px;\n",
              "    }\n",
              "\n",
              "    .colab-df-convert:hover {\n",
              "      background-color: #E2EBFA;\n",
              "      box-shadow: 0px 1px 2px rgba(60, 64, 67, 0.3), 0px 1px 3px 1px rgba(60, 64, 67, 0.15);\n",
              "      fill: #174EA6;\n",
              "    }\n",
              "\n",
              "    [theme=dark] .colab-df-convert {\n",
              "      background-color: #3B4455;\n",
              "      fill: #D2E3FC;\n",
              "    }\n",
              "\n",
              "    [theme=dark] .colab-df-convert:hover {\n",
              "      background-color: #434B5C;\n",
              "      box-shadow: 0px 1px 3px 1px rgba(0, 0, 0, 0.15);\n",
              "      filter: drop-shadow(0px 1px 2px rgba(0, 0, 0, 0.3));\n",
              "      fill: #FFFFFF;\n",
              "    }\n",
              "  </style>\n",
              "\n",
              "      <script>\n",
              "        const buttonEl =\n",
              "          document.querySelector('#df-4404d8aa-8ec4-4d1a-9e63-c00c4c801979 button.colab-df-convert');\n",
              "        buttonEl.style.display =\n",
              "          google.colab.kernel.accessAllowed ? 'block' : 'none';\n",
              "\n",
              "        async function convertToInteractive(key) {\n",
              "          const element = document.querySelector('#df-4404d8aa-8ec4-4d1a-9e63-c00c4c801979');\n",
              "          const dataTable =\n",
              "            await google.colab.kernel.invokeFunction('convertToInteractive',\n",
              "                                                     [key], {});\n",
              "          if (!dataTable) return;\n",
              "\n",
              "          const docLinkHtml = 'Like what you see? Visit the ' +\n",
              "            '<a target=\"_blank\" href=https://colab.research.google.com/notebooks/data_table.ipynb>data table notebook</a>'\n",
              "            + ' to learn more about interactive tables.';\n",
              "          element.innerHTML = '';\n",
              "          dataTable['output_type'] = 'display_data';\n",
              "          await google.colab.output.renderOutput(dataTable, element);\n",
              "          const docLink = document.createElement('div');\n",
              "          docLink.innerHTML = docLinkHtml;\n",
              "          element.appendChild(docLink);\n",
              "        }\n",
              "      </script>\n",
              "    </div>\n",
              "  </div>\n",
              "  "
            ]
          },
          "metadata": {},
          "execution_count": 25
        }
      ],
      "source": [
        "# Standardising above continuous features\n",
        "\n",
        "std_df=(df-df.mean())/df.std()\n",
        "std_df.head()\n"
      ]
    },
    {
      "cell_type": "code",
      "execution_count": null,
      "metadata": {
        "id": "Y1ZYQWrz1H3X",
        "colab": {
          "base_uri": "https://localhost:8080/"
        },
        "outputId": "62f760a1-ba31-46d8-bc11-f03db307c1ea"
      },
      "outputs": [
        {
          "output_type": "stream",
          "name": "stderr",
          "text": [
            "<ipython-input-26-dd1d268723d6>:2: FutureWarning: In a future version of pandas all arguments of DataFrame.drop except for the argument 'labels' will be keyword-only\n",
            "  telecom = telecom.drop(['tenure','MonthlyCharges','TotalCharges'],1)\n"
          ]
        }
      ],
      "source": [
        "# Dropping 'tenure','MonthlyCharges' and 'TotalCharges' from telecom as we want to add the standardised fetaures \n",
        "telecom = telecom.drop(['tenure','MonthlyCharges','TotalCharges'],1)"
      ]
    },
    {
      "cell_type": "code",
      "execution_count": null,
      "metadata": {
        "id": "jKICUQv51H3Y"
      },
      "outputs": [],
      "source": [
        "# Add std_df into telecom\n",
        "telecom = pd.concat([telecom,std_df],axis=1)\n"
      ]
    },
    {
      "cell_type": "code",
      "execution_count": null,
      "metadata": {
        "id": "acKybHHP1H3Y",
        "outputId": "73f71728-df03-4478-ae68-5ff1611684d5",
        "colab": {
          "base_uri": "https://localhost:8080/",
          "height": 386
        }
      },
      "outputs": [
        {
          "output_type": "execute_result",
          "data": {
            "text/plain": [
              "      customerID  PhoneService  PaperlessBilling  Churn  SeniorCitizen  \\\n",
              "7038  6840-RESVB             1                 1      0              0   \n",
              "7039  2234-XADUH             1                 1      0              0   \n",
              "7040  4801-JZAZL             0                 1      0              0   \n",
              "7041  8361-LTMKD             1                 1      1              1   \n",
              "7042  3186-AJIEK             1                 1      0              0   \n",
              "\n",
              "      Partner  Dependents  Contract_One year  Contract_Two year  \\\n",
              "7038        1           1                  1                  0   \n",
              "7039        1           1                  1                  0   \n",
              "7040        1           1                  0                  0   \n",
              "7041        1           0                  0                  0   \n",
              "7042        0           0                  0                  1   \n",
              "\n",
              "      PaymentMethod_Credit card (automatic)  ...  InternetService_No  \\\n",
              "7038                                      0  ...                   0   \n",
              "7039                                      1  ...                   0   \n",
              "7040                                      0  ...                   0   \n",
              "7041                                      0  ...                   0   \n",
              "7042                                      0  ...                   0   \n",
              "\n",
              "      OnlineSecurity_Yes  OnlineBackup_Yes  DeviceProtection_Yes  \\\n",
              "7038                   1                 0                     1   \n",
              "7039                   0                 1                     1   \n",
              "7040                   1                 0                     0   \n",
              "7041                   0                 0                     0   \n",
              "7042                   1                 0                     1   \n",
              "\n",
              "      TechSupport_Yes  StreamingTV_Yes  StreamingMovies_Yes    tenure  \\\n",
              "7038                1                1                    1 -0.343113   \n",
              "7039                0                1                    1  1.612459   \n",
              "7040                0                0                    0 -0.872746   \n",
              "7041                0                0                    0 -1.157934   \n",
              "7042                1                1                    1  1.368012   \n",
              "\n",
              "      MonthlyCharges  TotalCharges  \n",
              "7038        0.664821     -0.129171  \n",
              "7039        1.276402      2.240896  \n",
              "7040       -1.169921     -0.854453  \n",
              "7041        0.319145     -0.872033  \n",
              "7042        1.357835      2.012201  \n",
              "\n",
              "[5 rows x 25 columns]"
            ],
            "text/html": [
              "\n",
              "  <div id=\"df-99950644-e8e7-4bc4-854a-0c300de07225\">\n",
              "    <div class=\"colab-df-container\">\n",
              "      <div>\n",
              "<style scoped>\n",
              "    .dataframe tbody tr th:only-of-type {\n",
              "        vertical-align: middle;\n",
              "    }\n",
              "\n",
              "    .dataframe tbody tr th {\n",
              "        vertical-align: top;\n",
              "    }\n",
              "\n",
              "    .dataframe thead th {\n",
              "        text-align: right;\n",
              "    }\n",
              "</style>\n",
              "<table border=\"1\" class=\"dataframe\">\n",
              "  <thead>\n",
              "    <tr style=\"text-align: right;\">\n",
              "      <th></th>\n",
              "      <th>customerID</th>\n",
              "      <th>PhoneService</th>\n",
              "      <th>PaperlessBilling</th>\n",
              "      <th>Churn</th>\n",
              "      <th>SeniorCitizen</th>\n",
              "      <th>Partner</th>\n",
              "      <th>Dependents</th>\n",
              "      <th>Contract_One year</th>\n",
              "      <th>Contract_Two year</th>\n",
              "      <th>PaymentMethod_Credit card (automatic)</th>\n",
              "      <th>...</th>\n",
              "      <th>InternetService_No</th>\n",
              "      <th>OnlineSecurity_Yes</th>\n",
              "      <th>OnlineBackup_Yes</th>\n",
              "      <th>DeviceProtection_Yes</th>\n",
              "      <th>TechSupport_Yes</th>\n",
              "      <th>StreamingTV_Yes</th>\n",
              "      <th>StreamingMovies_Yes</th>\n",
              "      <th>tenure</th>\n",
              "      <th>MonthlyCharges</th>\n",
              "      <th>TotalCharges</th>\n",
              "    </tr>\n",
              "  </thead>\n",
              "  <tbody>\n",
              "    <tr>\n",
              "      <th>7038</th>\n",
              "      <td>6840-RESVB</td>\n",
              "      <td>1</td>\n",
              "      <td>1</td>\n",
              "      <td>0</td>\n",
              "      <td>0</td>\n",
              "      <td>1</td>\n",
              "      <td>1</td>\n",
              "      <td>1</td>\n",
              "      <td>0</td>\n",
              "      <td>0</td>\n",
              "      <td>...</td>\n",
              "      <td>0</td>\n",
              "      <td>1</td>\n",
              "      <td>0</td>\n",
              "      <td>1</td>\n",
              "      <td>1</td>\n",
              "      <td>1</td>\n",
              "      <td>1</td>\n",
              "      <td>-0.343113</td>\n",
              "      <td>0.664821</td>\n",
              "      <td>-0.129171</td>\n",
              "    </tr>\n",
              "    <tr>\n",
              "      <th>7039</th>\n",
              "      <td>2234-XADUH</td>\n",
              "      <td>1</td>\n",
              "      <td>1</td>\n",
              "      <td>0</td>\n",
              "      <td>0</td>\n",
              "      <td>1</td>\n",
              "      <td>1</td>\n",
              "      <td>1</td>\n",
              "      <td>0</td>\n",
              "      <td>1</td>\n",
              "      <td>...</td>\n",
              "      <td>0</td>\n",
              "      <td>0</td>\n",
              "      <td>1</td>\n",
              "      <td>1</td>\n",
              "      <td>0</td>\n",
              "      <td>1</td>\n",
              "      <td>1</td>\n",
              "      <td>1.612459</td>\n",
              "      <td>1.276402</td>\n",
              "      <td>2.240896</td>\n",
              "    </tr>\n",
              "    <tr>\n",
              "      <th>7040</th>\n",
              "      <td>4801-JZAZL</td>\n",
              "      <td>0</td>\n",
              "      <td>1</td>\n",
              "      <td>0</td>\n",
              "      <td>0</td>\n",
              "      <td>1</td>\n",
              "      <td>1</td>\n",
              "      <td>0</td>\n",
              "      <td>0</td>\n",
              "      <td>0</td>\n",
              "      <td>...</td>\n",
              "      <td>0</td>\n",
              "      <td>1</td>\n",
              "      <td>0</td>\n",
              "      <td>0</td>\n",
              "      <td>0</td>\n",
              "      <td>0</td>\n",
              "      <td>0</td>\n",
              "      <td>-0.872746</td>\n",
              "      <td>-1.169921</td>\n",
              "      <td>-0.854453</td>\n",
              "    </tr>\n",
              "    <tr>\n",
              "      <th>7041</th>\n",
              "      <td>8361-LTMKD</td>\n",
              "      <td>1</td>\n",
              "      <td>1</td>\n",
              "      <td>1</td>\n",
              "      <td>1</td>\n",
              "      <td>1</td>\n",
              "      <td>0</td>\n",
              "      <td>0</td>\n",
              "      <td>0</td>\n",
              "      <td>0</td>\n",
              "      <td>...</td>\n",
              "      <td>0</td>\n",
              "      <td>0</td>\n",
              "      <td>0</td>\n",
              "      <td>0</td>\n",
              "      <td>0</td>\n",
              "      <td>0</td>\n",
              "      <td>0</td>\n",
              "      <td>-1.157934</td>\n",
              "      <td>0.319145</td>\n",
              "      <td>-0.872033</td>\n",
              "    </tr>\n",
              "    <tr>\n",
              "      <th>7042</th>\n",
              "      <td>3186-AJIEK</td>\n",
              "      <td>1</td>\n",
              "      <td>1</td>\n",
              "      <td>0</td>\n",
              "      <td>0</td>\n",
              "      <td>0</td>\n",
              "      <td>0</td>\n",
              "      <td>0</td>\n",
              "      <td>1</td>\n",
              "      <td>0</td>\n",
              "      <td>...</td>\n",
              "      <td>0</td>\n",
              "      <td>1</td>\n",
              "      <td>0</td>\n",
              "      <td>1</td>\n",
              "      <td>1</td>\n",
              "      <td>1</td>\n",
              "      <td>1</td>\n",
              "      <td>1.368012</td>\n",
              "      <td>1.357835</td>\n",
              "      <td>2.012201</td>\n",
              "    </tr>\n",
              "  </tbody>\n",
              "</table>\n",
              "<p>5 rows × 25 columns</p>\n",
              "</div>\n",
              "      <button class=\"colab-df-convert\" onclick=\"convertToInteractive('df-99950644-e8e7-4bc4-854a-0c300de07225')\"\n",
              "              title=\"Convert this dataframe to an interactive table.\"\n",
              "              style=\"display:none;\">\n",
              "        \n",
              "  <svg xmlns=\"http://www.w3.org/2000/svg\" height=\"24px\"viewBox=\"0 0 24 24\"\n",
              "       width=\"24px\">\n",
              "    <path d=\"M0 0h24v24H0V0z\" fill=\"none\"/>\n",
              "    <path d=\"M18.56 5.44l.94 2.06.94-2.06 2.06-.94-2.06-.94-.94-2.06-.94 2.06-2.06.94zm-11 1L8.5 8.5l.94-2.06 2.06-.94-2.06-.94L8.5 2.5l-.94 2.06-2.06.94zm10 10l.94 2.06.94-2.06 2.06-.94-2.06-.94-.94-2.06-.94 2.06-2.06.94z\"/><path d=\"M17.41 7.96l-1.37-1.37c-.4-.4-.92-.59-1.43-.59-.52 0-1.04.2-1.43.59L10.3 9.45l-7.72 7.72c-.78.78-.78 2.05 0 2.83L4 21.41c.39.39.9.59 1.41.59.51 0 1.02-.2 1.41-.59l7.78-7.78 2.81-2.81c.8-.78.8-2.07 0-2.86zM5.41 20L4 18.59l7.72-7.72 1.47 1.35L5.41 20z\"/>\n",
              "  </svg>\n",
              "      </button>\n",
              "      \n",
              "  <style>\n",
              "    .colab-df-container {\n",
              "      display:flex;\n",
              "      flex-wrap:wrap;\n",
              "      gap: 12px;\n",
              "    }\n",
              "\n",
              "    .colab-df-convert {\n",
              "      background-color: #E8F0FE;\n",
              "      border: none;\n",
              "      border-radius: 50%;\n",
              "      cursor: pointer;\n",
              "      display: none;\n",
              "      fill: #1967D2;\n",
              "      height: 32px;\n",
              "      padding: 0 0 0 0;\n",
              "      width: 32px;\n",
              "    }\n",
              "\n",
              "    .colab-df-convert:hover {\n",
              "      background-color: #E2EBFA;\n",
              "      box-shadow: 0px 1px 2px rgba(60, 64, 67, 0.3), 0px 1px 3px 1px rgba(60, 64, 67, 0.15);\n",
              "      fill: #174EA6;\n",
              "    }\n",
              "\n",
              "    [theme=dark] .colab-df-convert {\n",
              "      background-color: #3B4455;\n",
              "      fill: #D2E3FC;\n",
              "    }\n",
              "\n",
              "    [theme=dark] .colab-df-convert:hover {\n",
              "      background-color: #434B5C;\n",
              "      box-shadow: 0px 1px 3px 1px rgba(0, 0, 0, 0.15);\n",
              "      filter: drop-shadow(0px 1px 2px rgba(0, 0, 0, 0.3));\n",
              "      fill: #FFFFFF;\n",
              "    }\n",
              "  </style>\n",
              "\n",
              "      <script>\n",
              "        const buttonEl =\n",
              "          document.querySelector('#df-99950644-e8e7-4bc4-854a-0c300de07225 button.colab-df-convert');\n",
              "        buttonEl.style.display =\n",
              "          google.colab.kernel.accessAllowed ? 'block' : 'none';\n",
              "\n",
              "        async function convertToInteractive(key) {\n",
              "          const element = document.querySelector('#df-99950644-e8e7-4bc4-854a-0c300de07225');\n",
              "          const dataTable =\n",
              "            await google.colab.kernel.invokeFunction('convertToInteractive',\n",
              "                                                     [key], {});\n",
              "          if (!dataTable) return;\n",
              "\n",
              "          const docLinkHtml = 'Like what you see? Visit the ' +\n",
              "            '<a target=\"_blank\" href=https://colab.research.google.com/notebooks/data_table.ipynb>data table notebook</a>'\n",
              "            + ' to learn more about interactive tables.';\n",
              "          element.innerHTML = '';\n",
              "          dataTable['output_type'] = 'display_data';\n",
              "          await google.colab.output.renderOutput(dataTable, element);\n",
              "          const docLink = document.createElement('div');\n",
              "          docLink.innerHTML = docLinkHtml;\n",
              "          element.appendChild(docLink);\n",
              "        }\n",
              "      </script>\n",
              "    </div>\n",
              "  </div>\n",
              "  "
            ]
          },
          "metadata": {},
          "execution_count": 28
        }
      ],
      "source": [
        "# print telecom tail\n",
        "telecom.tail()"
      ]
    },
    {
      "cell_type": "markdown",
      "metadata": {
        "id": "gnVBlgxe1H3Z"
      },
      "source": [
        "### **`Checking the Churn Rate`**\n",
        "\n",
        "\n"
      ]
    },
    {
      "cell_type": "code",
      "execution_count": null,
      "metadata": {
        "id": "22ZbF7uR1H3Z"
      },
      "outputs": [],
      "source": [
        "#caluclating total churn percentage in our master dataframe\n",
        "churn = (sum(telecom['Churn'])/len(telecom['Churn'].index))*100"
      ]
    },
    {
      "cell_type": "code",
      "execution_count": null,
      "metadata": {
        "id": "_OTIzq7z1H3Z",
        "outputId": "9aa65ebe-b7c2-4e32-ff40-3c300fa45fa4",
        "colab": {
          "base_uri": "https://localhost:8080/"
        }
      },
      "outputs": [
        {
          "output_type": "stream",
          "name": "stdout",
          "text": [
            "26.578498293515356\n"
          ]
        }
      ],
      "source": [
        "# print churn\n",
        "print(churn)\n",
        "\n"
      ]
    },
    {
      "cell_type": "markdown",
      "metadata": {
        "id": "pidpQ9eF1H3a"
      },
      "source": [
        "We have almost 27% churn rate"
      ]
    },
    {
      "cell_type": "markdown",
      "metadata": {
        "id": "ygZztFai1H3a"
      },
      "source": [
        "## **`Model Building`**\n",
        "\n",
        "\n",
        "\n",
        "Let's start by splitting our data into a training set and a test set."
      ]
    },
    {
      "cell_type": "code",
      "execution_count": null,
      "metadata": {
        "id": "HL2Tr-Yq1H3a"
      },
      "outputs": [],
      "source": [
        "# Putting feature variable to X. drop 'customerID' from features as its not informative for our prediction\n",
        "X = telecom.drop(['Churn','customerID'],axis=1)\n",
        "\n",
        "\n",
        "# Putting response variable to y\n",
        "y = telecom['Churn']\n"
      ]
    },
    {
      "cell_type": "code",
      "execution_count": null,
      "metadata": {
        "id": "GS23q7i61H3b",
        "outputId": "12280608-aef3-41f7-d544-8a6d4b4e3238",
        "colab": {
          "base_uri": "https://localhost:8080/"
        }
      },
      "outputs": [
        {
          "output_type": "execute_result",
          "data": {
            "text/plain": [
              "0    0\n",
              "1    0\n",
              "2    1\n",
              "3    0\n",
              "4    1\n",
              "Name: Churn, dtype: int64"
            ]
          },
          "metadata": {},
          "execution_count": 32
        }
      ],
      "source": [
        "# print y head\n",
        "y.head()\n",
        "\n"
      ]
    },
    {
      "cell_type": "markdown",
      "metadata": {
        "id": "VH8SUUm81H3b"
      },
      "source": [
        "### **`Running Your First Training Model`**"
      ]
    },
    {
      "cell_type": "code",
      "execution_count": null,
      "metadata": {
        "id": "-zp-fMtU1H3b"
      },
      "outputs": [],
      "source": [
        "# import statsmodels api as sm\n",
        "import statsmodels.api as sm\n",
        "\n"
      ]
    },
    {
      "cell_type": "markdown",
      "metadata": {
        "id": "ZWukvXe11H3c"
      },
      "source": [
        "Statsmodels provides a Logit() function for performing logistic regression. The Logit() function accepts y and X as parameters and returns the Logit object. The model is then fitted to the data.\n",
        "\n",
        "Reference:"
      ]
    },
    {
      "cell_type": "markdown",
      "metadata": {
        "id": "4DV7Il-s1H3c"
      },
      "source": [
        "### **`Splitting Data into Training and Test Sets`**"
      ]
    },
    {
      "cell_type": "code",
      "execution_count": null,
      "metadata": {
        "id": "SWwmspOs1H3c"
      },
      "outputs": [],
      "source": [
        "# import train_test_split module\n",
        "from sklearn.model_selection import train_test_split\n",
        "\n"
      ]
    },
    {
      "cell_type": "code",
      "source": [
        "# adding constant to X\n",
        "X=sm.add_constant(X)\n",
        "\n"
      ],
      "metadata": {
        "id": "cupGe2OC9f1_"
      },
      "execution_count": null,
      "outputs": []
    },
    {
      "cell_type": "code",
      "execution_count": null,
      "metadata": {
        "id": "kpA1h2wG1H3c"
      },
      "outputs": [],
      "source": [
        "# Splitting the data into train and test with train_size=0.7 and random_state=100\n",
        "X_train, X_test, y_train, y_test = train_test_split(X,y,train_size=0.7,test_size=0.3,random_state=100)\n",
        "\n"
      ]
    },
    {
      "cell_type": "code",
      "execution_count": null,
      "metadata": {
        "id": "QCZCppxA1H3d",
        "outputId": "d7d5634b-be3d-48cb-8463-6445c418f5c6",
        "scrolled": false,
        "colab": {
          "base_uri": "https://localhost:8080/",
          "height": 774
        }
      },
      "outputs": [
        {
          "output_type": "stream",
          "name": "stdout",
          "text": [
            "Optimization terminated successfully.\n",
            "         Current function value: 0.407291\n",
            "         Iterations 8\n"
          ]
        },
        {
          "output_type": "execute_result",
          "data": {
            "text/plain": [
              "<class 'statsmodels.iolib.summary.Summary'>\n",
              "\"\"\"\n",
              "                           Logit Regression Results                           \n",
              "==============================================================================\n",
              "Dep. Variable:                  Churn   No. Observations:                 4922\n",
              "Model:                          Logit   Df Residuals:                     4898\n",
              "Method:                           MLE   Df Model:                           23\n",
              "Date:                Sun, 12 Mar 2023   Pseudo R-squ.:                  0.2912\n",
              "Time:                        10:01:43   Log-Likelihood:                -2004.7\n",
              "converged:                       True   LL-Null:                       -2828.2\n",
              "Covariance Type:            nonrobust   LLR p-value:                     0.000\n",
              "=========================================================================================================\n",
              "                                            coef    std err          z      P>|z|      [0.025      0.975]\n",
              "---------------------------------------------------------------------------------------------------------\n",
              "const                                    -3.9338      1.545     -2.545      0.011      -6.963      -0.905\n",
              "PhoneService                              0.9507      0.789      1.205      0.228      -0.595       2.497\n",
              "PaperlessBilling                          0.3254      0.090      3.614      0.000       0.149       0.502\n",
              "SeniorCitizen                             0.3984      0.102      3.924      0.000       0.199       0.597\n",
              "Partner                                   0.0374      0.094      0.399      0.690      -0.146       0.221\n",
              "Dependents                               -0.1430      0.107     -1.332      0.183      -0.353       0.067\n",
              "Contract_One year                        -0.6578      0.129     -5.106      0.000      -0.910      -0.405\n",
              "Contract_Two year                        -1.2455      0.212     -5.874      0.000      -1.661      -0.830\n",
              "PaymentMethod_Credit card (automatic)    -0.2577      0.137     -1.883      0.060      -0.526       0.011\n",
              "PaymentMethod_Electronic check            0.1615      0.113      1.434      0.152      -0.059       0.382\n",
              "PaymentMethod_Mailed check               -0.2536      0.137     -1.845      0.065      -0.523       0.016\n",
              "gender_Male                              -0.0346      0.078     -0.442      0.658      -0.188       0.119\n",
              "MultipleLines_Yes                         0.5623      0.214      2.628      0.009       0.143       0.982\n",
              "InternetService_Fiber optic               2.5124      0.967      2.599      0.009       0.618       4.407\n",
              "InternetService_No                       -2.7792      0.982     -2.831      0.005      -4.703      -0.855\n",
              "OnlineSecurity_Yes                       -0.0245      0.216     -0.113      0.910      -0.448       0.399\n",
              "OnlineBackup_Yes                          0.1740      0.212      0.822      0.411      -0.241       0.589\n",
              "DeviceProtection_Yes                      0.3229      0.215      1.501      0.133      -0.099       0.744\n",
              "TechSupport_Yes                          -0.0305      0.216     -0.141      0.888      -0.455       0.394\n",
              "StreamingTV_Yes                           0.9598      0.396      2.423      0.015       0.183       1.736\n",
              "StreamingMovies_Yes                       0.8484      0.396      2.143      0.032       0.072       1.624\n",
              "tenure                                   -1.5198      0.190     -8.015      0.000      -1.891      -1.148\n",
              "MonthlyCharges                           -2.1817      1.160     -1.880      0.060      -4.456       0.092\n",
              "TotalCharges                              0.7329      0.198      3.705      0.000       0.345       1.121\n",
              "=========================================================================================================\n",
              "\"\"\""
            ],
            "text/html": [
              "<table class=\"simpletable\">\n",
              "<caption>Logit Regression Results</caption>\n",
              "<tr>\n",
              "  <th>Dep. Variable:</th>         <td>Churn</td>      <th>  No. Observations:  </th>  <td>  4922</td> \n",
              "</tr>\n",
              "<tr>\n",
              "  <th>Model:</th>                 <td>Logit</td>      <th>  Df Residuals:      </th>  <td>  4898</td> \n",
              "</tr>\n",
              "<tr>\n",
              "  <th>Method:</th>                 <td>MLE</td>       <th>  Df Model:          </th>  <td>    23</td> \n",
              "</tr>\n",
              "<tr>\n",
              "  <th>Date:</th>            <td>Sun, 12 Mar 2023</td> <th>  Pseudo R-squ.:     </th>  <td>0.2912</td> \n",
              "</tr>\n",
              "<tr>\n",
              "  <th>Time:</th>                <td>10:01:43</td>     <th>  Log-Likelihood:    </th> <td> -2004.7</td>\n",
              "</tr>\n",
              "<tr>\n",
              "  <th>converged:</th>             <td>True</td>       <th>  LL-Null:           </th> <td> -2828.2</td>\n",
              "</tr>\n",
              "<tr>\n",
              "  <th>Covariance Type:</th>     <td>nonrobust</td>    <th>  LLR p-value:       </th>  <td> 0.000</td> \n",
              "</tr>\n",
              "</table>\n",
              "<table class=\"simpletable\">\n",
              "<tr>\n",
              "                    <td></td>                       <th>coef</th>     <th>std err</th>      <th>z</th>      <th>P>|z|</th>  <th>[0.025</th>    <th>0.975]</th>  \n",
              "</tr>\n",
              "<tr>\n",
              "  <th>const</th>                                 <td>   -3.9338</td> <td>    1.545</td> <td>   -2.545</td> <td> 0.011</td> <td>   -6.963</td> <td>   -0.905</td>\n",
              "</tr>\n",
              "<tr>\n",
              "  <th>PhoneService</th>                          <td>    0.9507</td> <td>    0.789</td> <td>    1.205</td> <td> 0.228</td> <td>   -0.595</td> <td>    2.497</td>\n",
              "</tr>\n",
              "<tr>\n",
              "  <th>PaperlessBilling</th>                      <td>    0.3254</td> <td>    0.090</td> <td>    3.614</td> <td> 0.000</td> <td>    0.149</td> <td>    0.502</td>\n",
              "</tr>\n",
              "<tr>\n",
              "  <th>SeniorCitizen</th>                         <td>    0.3984</td> <td>    0.102</td> <td>    3.924</td> <td> 0.000</td> <td>    0.199</td> <td>    0.597</td>\n",
              "</tr>\n",
              "<tr>\n",
              "  <th>Partner</th>                               <td>    0.0374</td> <td>    0.094</td> <td>    0.399</td> <td> 0.690</td> <td>   -0.146</td> <td>    0.221</td>\n",
              "</tr>\n",
              "<tr>\n",
              "  <th>Dependents</th>                            <td>   -0.1430</td> <td>    0.107</td> <td>   -1.332</td> <td> 0.183</td> <td>   -0.353</td> <td>    0.067</td>\n",
              "</tr>\n",
              "<tr>\n",
              "  <th>Contract_One year</th>                     <td>   -0.6578</td> <td>    0.129</td> <td>   -5.106</td> <td> 0.000</td> <td>   -0.910</td> <td>   -0.405</td>\n",
              "</tr>\n",
              "<tr>\n",
              "  <th>Contract_Two year</th>                     <td>   -1.2455</td> <td>    0.212</td> <td>   -5.874</td> <td> 0.000</td> <td>   -1.661</td> <td>   -0.830</td>\n",
              "</tr>\n",
              "<tr>\n",
              "  <th>PaymentMethod_Credit card (automatic)</th> <td>   -0.2577</td> <td>    0.137</td> <td>   -1.883</td> <td> 0.060</td> <td>   -0.526</td> <td>    0.011</td>\n",
              "</tr>\n",
              "<tr>\n",
              "  <th>PaymentMethod_Electronic check</th>        <td>    0.1615</td> <td>    0.113</td> <td>    1.434</td> <td> 0.152</td> <td>   -0.059</td> <td>    0.382</td>\n",
              "</tr>\n",
              "<tr>\n",
              "  <th>PaymentMethod_Mailed check</th>            <td>   -0.2536</td> <td>    0.137</td> <td>   -1.845</td> <td> 0.065</td> <td>   -0.523</td> <td>    0.016</td>\n",
              "</tr>\n",
              "<tr>\n",
              "  <th>gender_Male</th>                           <td>   -0.0346</td> <td>    0.078</td> <td>   -0.442</td> <td> 0.658</td> <td>   -0.188</td> <td>    0.119</td>\n",
              "</tr>\n",
              "<tr>\n",
              "  <th>MultipleLines_Yes</th>                     <td>    0.5623</td> <td>    0.214</td> <td>    2.628</td> <td> 0.009</td> <td>    0.143</td> <td>    0.982</td>\n",
              "</tr>\n",
              "<tr>\n",
              "  <th>InternetService_Fiber optic</th>           <td>    2.5124</td> <td>    0.967</td> <td>    2.599</td> <td> 0.009</td> <td>    0.618</td> <td>    4.407</td>\n",
              "</tr>\n",
              "<tr>\n",
              "  <th>InternetService_No</th>                    <td>   -2.7792</td> <td>    0.982</td> <td>   -2.831</td> <td> 0.005</td> <td>   -4.703</td> <td>   -0.855</td>\n",
              "</tr>\n",
              "<tr>\n",
              "  <th>OnlineSecurity_Yes</th>                    <td>   -0.0245</td> <td>    0.216</td> <td>   -0.113</td> <td> 0.910</td> <td>   -0.448</td> <td>    0.399</td>\n",
              "</tr>\n",
              "<tr>\n",
              "  <th>OnlineBackup_Yes</th>                      <td>    0.1740</td> <td>    0.212</td> <td>    0.822</td> <td> 0.411</td> <td>   -0.241</td> <td>    0.589</td>\n",
              "</tr>\n",
              "<tr>\n",
              "  <th>DeviceProtection_Yes</th>                  <td>    0.3229</td> <td>    0.215</td> <td>    1.501</td> <td> 0.133</td> <td>   -0.099</td> <td>    0.744</td>\n",
              "</tr>\n",
              "<tr>\n",
              "  <th>TechSupport_Yes</th>                       <td>   -0.0305</td> <td>    0.216</td> <td>   -0.141</td> <td> 0.888</td> <td>   -0.455</td> <td>    0.394</td>\n",
              "</tr>\n",
              "<tr>\n",
              "  <th>StreamingTV_Yes</th>                       <td>    0.9598</td> <td>    0.396</td> <td>    2.423</td> <td> 0.015</td> <td>    0.183</td> <td>    1.736</td>\n",
              "</tr>\n",
              "<tr>\n",
              "  <th>StreamingMovies_Yes</th>                   <td>    0.8484</td> <td>    0.396</td> <td>    2.143</td> <td> 0.032</td> <td>    0.072</td> <td>    1.624</td>\n",
              "</tr>\n",
              "<tr>\n",
              "  <th>tenure</th>                                <td>   -1.5198</td> <td>    0.190</td> <td>   -8.015</td> <td> 0.000</td> <td>   -1.891</td> <td>   -1.148</td>\n",
              "</tr>\n",
              "<tr>\n",
              "  <th>MonthlyCharges</th>                        <td>   -2.1817</td> <td>    1.160</td> <td>   -1.880</td> <td> 0.060</td> <td>   -4.456</td> <td>    0.092</td>\n",
              "</tr>\n",
              "<tr>\n",
              "  <th>TotalCharges</th>                          <td>    0.7329</td> <td>    0.198</td> <td>    3.705</td> <td> 0.000</td> <td>    0.345</td> <td>    1.121</td>\n",
              "</tr>\n",
              "</table>"
            ]
          },
          "metadata": {},
          "execution_count": 37
        }
      ],
      "source": [
        "# Logistic regression model\n",
        "logm1 = sm.Logit(y_train,X_train)\n",
        "\n",
        "#fitting the data\n",
        "logm1.fit().summary()\n",
        "\n",
        "\n"
      ]
    },
    {
      "cell_type": "markdown",
      "metadata": {
        "id": "KT5wCrDt1H3d"
      },
      "source": [
        "From above we can see that there few statistically insignificant variables present in our dataset. Lets drop them off.\n",
        "\n",
        "Reject the null hyposthesis looking into P values.\n",
        "\n",
        "Few insignificant variables we can see from above stats summary are:\n",
        "Partner,PaymentMethod_Electronic check,gender_Male,OnlineSecurity_Yes,OnlineBackup_Yes,DeviceProtection_Yes,TechSupport_Yes,MonthlyCharges.\n",
        "    \n",
        "So lets drop them off from X\n",
        "\n",
        "Note: We are not dropping const variable as it is required for OLS model building"
      ]
    },
    {
      "cell_type": "code",
      "execution_count": null,
      "metadata": {
        "id": "xj4XnLzp1H3e"
      },
      "outputs": [],
      "source": [
        "X=X.drop(['Partner','PaymentMethod_Electronic check','gender_Male','OnlineSecurity_Yes','OnlineBackup_Yes','DeviceProtection_Yes','TechSupport_Yes','MonthlyCharges'],axis=1)\n"
      ]
    },
    {
      "cell_type": "markdown",
      "metadata": {
        "id": "30CVw0F71H3f"
      },
      "source": [
        "### **`Correlation Matrix`**\n"
      ]
    },
    {
      "cell_type": "code",
      "execution_count": null,
      "metadata": {
        "id": "aD4eP2we1H3f",
        "outputId": "016088d9-cb52-47fd-ce86-b3f5cffa9bcc",
        "colab": {
          "base_uri": "https://localhost:8080/",
          "height": 760
        }
      },
      "outputs": [
        {
          "output_type": "execute_result",
          "data": {
            "text/plain": [
              "<AxesSubplot:>"
            ]
          },
          "metadata": {},
          "execution_count": 39
        },
        {
          "output_type": "display_data",
          "data": {
            "text/plain": [
              "<Figure size 1440x720 with 2 Axes>"
            ],
            "image/png": "[encoded data removed]"
          },
          "metadata": {
            "needs_background": "light"
          }
        }
      ],
      "source": [
        "# Let's see the correlation matrix \n",
        "\n",
        "plt.figure(figsize=(20,10))\n",
        "sns.heatmap(X.corr(),annot=True)\n",
        "\n"
      ]
    },
    {
      "cell_type": "code",
      "execution_count": null,
      "metadata": {
        "id": "NEIkIpKR1H3g"
      },
      "outputs": [],
      "source": [
        "# Write a correlation function to drop correlleation function to remove highly correlated variables (>70%)\n",
        "def correlation(dataset, threshold):\n",
        "    # Set of all the names of correlated columns\n",
        "    col_corr =set()\n",
        "    \n",
        "    # apply corr method on dataset\n",
        "    corr_matrix = dataset.corr()\n",
        "    \n",
        "    for i in range(len(corr_matrix.columns)):\n",
        "        for j in range(i):\n",
        "\n",
        "            # we are interested in absolute coeff value \n",
        "            if abs(corr_matrix.iloc[i,j])>threshold:\n",
        "                # getting the name of column\n",
        "                colname = corr_matrix.columns[i]\n",
        "                col_corr.add(colname) \n",
        "                \n",
        "    return col_corr\n",
        "    "
      ]
    },
    {
      "cell_type": "code",
      "execution_count": null,
      "metadata": {
        "id": "6juWpSar1H3g",
        "outputId": "0fb2b31d-01a5-4923-923b-62676baff0c1",
        "colab": {
          "base_uri": "https://localhost:8080/"
        }
      },
      "outputs": [
        {
          "output_type": "execute_result",
          "data": {
            "text/plain": [
              "1"
            ]
          },
          "metadata": {},
          "execution_count": 42
        }
      ],
      "source": [
        "# call the function with threshold\n",
        "corr_features=correlation(X,0.7)\n",
        "len(set(corr_features))"
      ]
    },
    {
      "cell_type": "code",
      "execution_count": null,
      "metadata": {
        "id": "FlQRlllq1H3h",
        "outputId": "d81acadd-90bf-4e8c-8e4a-ba8d1da0f755",
        "colab": {
          "base_uri": "https://localhost:8080/"
        }
      },
      "outputs": [
        {
          "output_type": "stream",
          "name": "stdout",
          "text": [
            "{'TotalCharges'}\n"
          ]
        }
      ],
      "source": [
        "# print corr_features\n",
        "print(corr_features)\n",
        "\n",
        "\n"
      ]
    },
    {
      "cell_type": "code",
      "execution_count": null,
      "metadata": {
        "id": "p88T9pA11H3h"
      },
      "outputs": [],
      "source": [
        "# Lets drop the above variables from X\n",
        "X.drop(['TotalCharges'],axis=1,inplace=True)\n",
        "\n",
        "\n"
      ]
    },
    {
      "cell_type": "markdown",
      "metadata": {
        "id": "EELjfVXY1H3h"
      },
      "source": [
        "## **`Dropping Variable with high VIF`**\n",
        "\n",
        "\n",
        "\n",
        "Lets check multicollinearity using Variance inflation factor"
      ]
    },
    {
      "cell_type": "code",
      "execution_count": null,
      "metadata": {
        "id": "GYuOVzWL1H3i"
      },
      "outputs": [],
      "source": [
        "# Import library for VIF\n",
        "from statsmodels.stats.outliers_influence import variance_inflation_factor\n",
        "\n",
        "# empyty dataframe\n",
        "vif = pd.DataFrame()\n",
        "\n",
        "#variables names with all variables in column X\n",
        "vif['variables']=X.columns\n",
        "\n",
        "\n",
        "# Vif scores for corresponding features\n",
        "vif[\"VIF\"]=[round(variance_inflation_factor(X.values,i),2) for i in range(X.shape[1])]\n",
        "\n"
      ]
    },
    {
      "cell_type": "code",
      "execution_count": null,
      "metadata": {
        "id": "fKlSd2LX1H3i",
        "outputId": "b36b4ba2-39ab-4ea5-fd62-e9b023b7ef07",
        "colab": {
          "base_uri": "https://localhost:8080/"
        }
      },
      "outputs": [
        {
          "output_type": "stream",
          "name": "stdout",
          "text": [
            "                                variables    VIF\n",
            "4                              Dependents   1.11\n",
            "3                           SeniorCitizen   1.13\n",
            "7   PaymentMethod_Credit card (automatic)   1.16\n",
            "2                        PaperlessBilling   1.20\n",
            "1                            PhoneService   1.35\n",
            "8              PaymentMethod_Mailed check   1.36\n",
            "9                       MultipleLines_Yes   1.42\n",
            "5                       Contract_One year   1.58\n",
            "12                        StreamingTV_Yes   1.59\n",
            "13                    StreamingMovies_Yes   1.59\n",
            "11                     InternetService_No   1.84\n",
            "10            InternetService_Fiber optic   1.90\n",
            "14                                 tenure   2.43\n",
            "6                       Contract_Two year   2.49\n",
            "0                                   const  16.74\n"
          ]
        }
      ],
      "source": [
        "# print vif\n",
        "print(vif.sort_values(by='VIF'))"
      ]
    },
    {
      "cell_type": "markdown",
      "metadata": {
        "id": "6nretj_B1H3j"
      },
      "source": [
        "Lets drop variables which are having very high vif scores except const., here we notice VIF values are nt that high, so we won't drop."
      ]
    },
    {
      "cell_type": "markdown",
      "metadata": {
        "id": "eGgUVMtU1H3k"
      },
      "source": [
        "### **`Checking the Correlation Matrix again`**"
      ]
    },
    {
      "cell_type": "code",
      "execution_count": null,
      "metadata": {
        "id": "nVxaC9qu1H3k",
        "outputId": "f3c54f00-eee1-40fc-ea43-c85d1d363a41",
        "colab": {
          "base_uri": "https://localhost:8080/",
          "height": 760
        }
      },
      "outputs": [
        {
          "output_type": "execute_result",
          "data": {
            "text/plain": [
              "<AxesSubplot:>"
            ]
          },
          "metadata": {},
          "execution_count": 48
        },
        {
          "output_type": "display_data",
          "data": {
            "text/plain": [
              "<Figure size 1440x720 with 2 Axes>"
            ],
            "image/png": "[encoded data removed]"
          },
          "metadata": {
            "needs_background": "light"
          }
        }
      ],
      "source": [
        "plt.figure(figsize=(20,10))\n",
        "sns.heatmap(X.corr(),annot=True)"
      ]
    },
    {
      "cell_type": "markdown",
      "metadata": {
        "id": "PXHfBp0r1H3l"
      },
      "source": [
        "### **`Re-Running the Model`**\n",
        "\n",
        "\n"
      ]
    },
    {
      "cell_type": "markdown",
      "metadata": {
        "id": "epPRo8YU1H3l"
      },
      "source": [
        "Now let's run our model again after dropping highly correlated variables"
      ]
    },
    {
      "cell_type": "code",
      "execution_count": null,
      "metadata": {
        "id": "lNXBtlnx1H3l",
        "outputId": "600b6c64-8082-4003-ac44-faf37dff6135",
        "colab": {
          "base_uri": "https://localhost:8080/",
          "height": 582
        }
      },
      "outputs": [
        {
          "output_type": "stream",
          "name": "stdout",
          "text": [
            "Optimization terminated successfully.\n",
            "         Current function value: 0.412213\n",
            "         Iterations 8\n"
          ]
        },
        {
          "output_type": "execute_result",
          "data": {
            "text/plain": [
              "<class 'statsmodels.iolib.summary.Summary'>\n",
              "\"\"\"\n",
              "                           Logit Regression Results                           \n",
              "==============================================================================\n",
              "Dep. Variable:                  Churn   No. Observations:                 4922\n",
              "Model:                          Logit   Df Residuals:                     4907\n",
              "Method:                           MLE   Df Model:                           14\n",
              "Date:                Sun, 12 Mar 2023   Pseudo R-squ.:                  0.2826\n",
              "Time:                        10:03:12   Log-Likelihood:                -2028.9\n",
              "converged:                       True   LL-Null:                       -2828.2\n",
              "Covariance Type:            nonrobust   LLR p-value:                     0.000\n",
              "=========================================================================================================\n",
              "                                            coef    std err          z      P>|z|      [0.025      0.975]\n",
              "---------------------------------------------------------------------------------------------------------\n",
              "const                                    -1.4351      0.161     -8.938      0.000      -1.750      -1.120\n",
              "PhoneService                             -0.4249      0.152     -2.789      0.005      -0.724      -0.126\n",
              "PaperlessBilling                          0.3369      0.089      3.785      0.000       0.162       0.511\n",
              "SeniorCitizen                             0.4487      0.101      4.459      0.000       0.251       0.646\n",
              "Dependents                               -0.1601      0.098     -1.636      0.102      -0.352       0.032\n",
              "Contract_One year                        -0.7462      0.126     -5.922      0.000      -0.993      -0.499\n",
              "Contract_Two year                        -1.3905      0.206     -6.744      0.000      -1.795      -0.986\n",
              "PaymentMethod_Credit card (automatic)    -0.3967      0.112     -3.533      0.000      -0.617      -0.177\n",
              "PaymentMethod_Mailed check               -0.3511      0.109     -3.212      0.001      -0.565      -0.137\n",
              "MultipleLines_Yes                         0.2627      0.094      2.789      0.005       0.078       0.447\n",
              "InternetService_Fiber optic               0.9740      0.107      9.096      0.000       0.764       1.184\n",
              "InternetService_No                       -0.7232      0.159     -4.550      0.000      -1.035      -0.412\n",
              "StreamingTV_Yes                           0.3088      0.093      3.308      0.001       0.126       0.492\n",
              "StreamingMovies_Yes                       0.2011      0.093      2.158      0.031       0.018       0.384\n",
              "tenure                                   -0.9737      0.065    -14.891      0.000      -1.102      -0.846\n",
              "=========================================================================================================\n",
              "\"\"\""
            ],
            "text/html": [
              "<table class=\"simpletable\">\n",
              "<caption>Logit Regression Results</caption>\n",
              "<tr>\n",
              "  <th>Dep. Variable:</th>         <td>Churn</td>      <th>  No. Observations:  </th>  <td>  4922</td> \n",
              "</tr>\n",
              "<tr>\n",
              "  <th>Model:</th>                 <td>Logit</td>      <th>  Df Residuals:      </th>  <td>  4907</td> \n",
              "</tr>\n",
              "<tr>\n",
              "  <th>Method:</th>                 <td>MLE</td>       <th>  Df Model:          </th>  <td>    14</td> \n",
              "</tr>\n",
              "<tr>\n",
              "  <th>Date:</th>            <td>Sun, 12 Mar 2023</td> <th>  Pseudo R-squ.:     </th>  <td>0.2826</td> \n",
              "</tr>\n",
              "<tr>\n",
              "  <th>Time:</th>                <td>10:03:12</td>     <th>  Log-Likelihood:    </th> <td> -2028.9</td>\n",
              "</tr>\n",
              "<tr>\n",
              "  <th>converged:</th>             <td>True</td>       <th>  LL-Null:           </th> <td> -2828.2</td>\n",
              "</tr>\n",
              "<tr>\n",
              "  <th>Covariance Type:</th>     <td>nonrobust</td>    <th>  LLR p-value:       </th>  <td> 0.000</td> \n",
              "</tr>\n",
              "</table>\n",
              "<table class=\"simpletable\">\n",
              "<tr>\n",
              "                    <td></td>                       <th>coef</th>     <th>std err</th>      <th>z</th>      <th>P>|z|</th>  <th>[0.025</th>    <th>0.975]</th>  \n",
              "</tr>\n",
              "<tr>\n",
              "  <th>const</th>                                 <td>   -1.4351</td> <td>    0.161</td> <td>   -8.938</td> <td> 0.000</td> <td>   -1.750</td> <td>   -1.120</td>\n",
              "</tr>\n",
              "<tr>\n",
              "  <th>PhoneService</th>                          <td>   -0.4249</td> <td>    0.152</td> <td>   -2.789</td> <td> 0.005</td> <td>   -0.724</td> <td>   -0.126</td>\n",
              "</tr>\n",
              "<tr>\n",
              "  <th>PaperlessBilling</th>                      <td>    0.3369</td> <td>    0.089</td> <td>    3.785</td> <td> 0.000</td> <td>    0.162</td> <td>    0.511</td>\n",
              "</tr>\n",
              "<tr>\n",
              "  <th>SeniorCitizen</th>                         <td>    0.4487</td> <td>    0.101</td> <td>    4.459</td> <td> 0.000</td> <td>    0.251</td> <td>    0.646</td>\n",
              "</tr>\n",
              "<tr>\n",
              "  <th>Dependents</th>                            <td>   -0.1601</td> <td>    0.098</td> <td>   -1.636</td> <td> 0.102</td> <td>   -0.352</td> <td>    0.032</td>\n",
              "</tr>\n",
              "<tr>\n",
              "  <th>Contract_One year</th>                     <td>   -0.7462</td> <td>    0.126</td> <td>   -5.922</td> <td> 0.000</td> <td>   -0.993</td> <td>   -0.499</td>\n",
              "</tr>\n",
              "<tr>\n",
              "  <th>Contract_Two year</th>                     <td>   -1.3905</td> <td>    0.206</td> <td>   -6.744</td> <td> 0.000</td> <td>   -1.795</td> <td>   -0.986</td>\n",
              "</tr>\n",
              "<tr>\n",
              "  <th>PaymentMethod_Credit card (automatic)</th> <td>   -0.3967</td> <td>    0.112</td> <td>   -3.533</td> <td> 0.000</td> <td>   -0.617</td> <td>   -0.177</td>\n",
              "</tr>\n",
              "<tr>\n",
              "  <th>PaymentMethod_Mailed check</th>            <td>   -0.3511</td> <td>    0.109</td> <td>   -3.212</td> <td> 0.001</td> <td>   -0.565</td> <td>   -0.137</td>\n",
              "</tr>\n",
              "<tr>\n",
              "  <th>MultipleLines_Yes</th>                     <td>    0.2627</td> <td>    0.094</td> <td>    2.789</td> <td> 0.005</td> <td>    0.078</td> <td>    0.447</td>\n",
              "</tr>\n",
              "<tr>\n",
              "  <th>InternetService_Fiber optic</th>           <td>    0.9740</td> <td>    0.107</td> <td>    9.096</td> <td> 0.000</td> <td>    0.764</td> <td>    1.184</td>\n",
              "</tr>\n",
              "<tr>\n",
              "  <th>InternetService_No</th>                    <td>   -0.7232</td> <td>    0.159</td> <td>   -4.550</td> <td> 0.000</td> <td>   -1.035</td> <td>   -0.412</td>\n",
              "</tr>\n",
              "<tr>\n",
              "  <th>StreamingTV_Yes</th>                       <td>    0.3088</td> <td>    0.093</td> <td>    3.308</td> <td> 0.001</td> <td>    0.126</td> <td>    0.492</td>\n",
              "</tr>\n",
              "<tr>\n",
              "  <th>StreamingMovies_Yes</th>                   <td>    0.2011</td> <td>    0.093</td> <td>    2.158</td> <td> 0.031</td> <td>    0.018</td> <td>    0.384</td>\n",
              "</tr>\n",
              "<tr>\n",
              "  <th>tenure</th>                                <td>   -0.9737</td> <td>    0.065</td> <td>  -14.891</td> <td> 0.000</td> <td>   -1.102</td> <td>   -0.846</td>\n",
              "</tr>\n",
              "</table>"
            ]
          },
          "metadata": {},
          "execution_count": 49
        }
      ],
      "source": [
        "# Splitting the data into train and test with train_size=0.7 and random_state=100 again\n",
        "X_train, X_test, y_train, y_test = train_test_split(X,y,train_size=0.7,test_size=0.3,random_state=100)\n",
        "\n",
        "# call logit method on sm and pass train data\n",
        "logm2 = sm.Logit(y_train,X_train)\n",
        "\n",
        "# call fit and summary on logm2\n",
        "logm2.fit().summary()\n",
        "\n"
      ]
    },
    {
      "cell_type": "markdown",
      "source": [
        "Feature Selection using RFE"
      ],
      "metadata": {
        "id": "E9gzhXnxapKa"
      }
    },
    {
      "cell_type": "code",
      "source": [
        "#import RFE and LogisticRegression\n",
        "\n",
        "from sklearn.linear_model import LogisticRegression\n",
        "from sklearn.feature_selection import RFE\n",
        "\n",
        "#initialise LogisticRegression()\n",
        "logreg=LogisticRegression()\n",
        "\n",
        "#Initiate RFE\n",
        "\n",
        "rfe=RFE(logreg)\n",
        "\n",
        "#fitting RFE\n",
        "rfe=rfe.fit(X,y)\n",
        "\n",
        "#Printing the boolean results\n",
        "print(rfe.support_)\n",
        "\n",
        "#Printing the ranking\n",
        "print(rfe.ranking_)\n"
      ],
      "metadata": {
        "colab": {
          "base_uri": "https://localhost:8080/"
        },
        "id": "ozBI-w43auhq",
        "outputId": "a4933d67-83dc-418a-b3f5-90fdd1451d22"
      },
      "execution_count": null,
      "outputs": [
        {
          "output_type": "stream",
          "name": "stdout",
          "text": [
            "[False  True  True False False  True  True False False False  True  True\n",
            " False False  True]\n",
            "[9 1 1 4 8 1 1 5 6 3 1 1 7 2 1]\n"
          ]
        }
      ]
    },
    {
      "cell_type": "code",
      "source": [
        "#printing the column names which were supported by RFE\n",
        "X.columns[(rfe.support_)]"
      ],
      "metadata": {
        "colab": {
          "base_uri": "https://localhost:8080/"
        },
        "id": "wE_St-uubzJW",
        "outputId": "79bde6dd-9e75-41e7-c3e0-af51e52b4e7f"
      },
      "execution_count": null,
      "outputs": [
        {
          "output_type": "execute_result",
          "data": {
            "text/plain": [
              "Index(['PhoneService', 'PaperlessBilling', 'Contract_One year',\n",
              "       'Contract_Two year', 'InternetService_Fiber optic',\n",
              "       'InternetService_No', 'tenure'],\n",
              "      dtype='object')"
            ]
          },
          "metadata": {},
          "execution_count": 65
        }
      ]
    },
    {
      "cell_type": "code",
      "source": [
        "#variables selected by RFE\n",
        "col=['PhoneService', 'Contract_One year',\n",
        "       'Contract_Two year', 'InternetService_Fiber optic',\n",
        "       'InternetService_No', 'tenure']"
      ],
      "metadata": {
        "id": "ZYiYlVSYcMFF"
      },
      "execution_count": null,
      "outputs": []
    },
    {
      "cell_type": "code",
      "execution_count": null,
      "metadata": {
        "id": "ayk_X8eF1H3n",
        "colab": {
          "base_uri": "https://localhost:8080/",
          "height": 74
        },
        "outputId": "c7c6fcd6-0d18-4f49-eacd-d59d88bdf59f"
      },
      "outputs": [
        {
          "output_type": "execute_result",
          "data": {
            "text/plain": [
              "LogisticRegression()"
            ],
            "text/html": [
              "<style>#sk-container-id-2 {color: black;background-color: white;}#sk-container-id-2 pre{padding: 0;}#sk-container-id-2 div.sk-toggleable {background-color: white;}#sk-container-id-2 label.sk-toggleable__label {cursor: pointer;display: block;width: 100%;margin-bottom: 0;padding: 0.3em;box-sizing: border-box;text-align: center;}#sk-container-id-2 label.sk-toggleable__label-arrow:before {content: \"▸\";float: left;margin-right: 0.25em;color: #696969;}#sk-container-id-2 label.sk-toggleable__label-arrow:hover:before {color: black;}#sk-container-id-2 div.sk-estimator:hover label.sk-toggleable__label-arrow:before {color: black;}#sk-container-id-2 div.sk-toggleable__content {max-height: 0;max-width: 0;overflow: hidden;text-align: left;background-color: #f0f8ff;}#sk-container-id-2 div.sk-toggleable__content pre {margin: 0.2em;color: black;border-radius: 0.25em;background-color: #f0f8ff;}#sk-container-id-2 input.sk-toggleable__control:checked~div.sk-toggleable__content {max-height: 200px;max-width: 100%;overflow: auto;}#sk-container-id-2 input.sk-toggleable__control:checked~label.sk-toggleable__label-arrow:before {content: \"▾\";}#sk-container-id-2 div.sk-estimator input.sk-toggleable__control:checked~label.sk-toggleable__label {background-color: #d4ebff;}#sk-container-id-2 div.sk-label input.sk-toggleable__control:checked~label.sk-toggleable__label {background-color: #d4ebff;}#sk-container-id-2 input.sk-hidden--visually {border: 0;clip: rect(1px 1px 1px 1px);clip: rect(1px, 1px, 1px, 1px);height: 1px;margin: -1px;overflow: hidden;padding: 0;position: absolute;width: 1px;}#sk-container-id-2 div.sk-estimator {font-family: monospace;background-color: #f0f8ff;border: 1px dotted black;border-radius: 0.25em;box-sizing: border-box;margin-bottom: 0.5em;}#sk-container-id-2 div.sk-estimator:hover {background-color: #d4ebff;}#sk-container-id-2 div.sk-parallel-item::after {content: \"\";width: 100%;border-bottom: 1px solid gray;flex-grow: 1;}#sk-container-id-2 div.sk-label:hover label.sk-toggleable__label {background-color: #d4ebff;}#sk-container-id-2 div.sk-serial::before {content: \"\";position: absolute;border-left: 1px solid gray;box-sizing: border-box;top: 0;bottom: 0;left: 50%;z-index: 0;}#sk-container-id-2 div.sk-serial {display: flex;flex-direction: column;align-items: center;background-color: white;padding-right: 0.2em;padding-left: 0.2em;position: relative;}#sk-container-id-2 div.sk-item {position: relative;z-index: 1;}#sk-container-id-2 div.sk-parallel {display: flex;align-items: stretch;justify-content: center;background-color: white;position: relative;}#sk-container-id-2 div.sk-item::before, #sk-container-id-2 div.sk-parallel-item::before {content: \"\";position: absolute;border-left: 1px solid gray;box-sizing: border-box;top: 0;bottom: 0;left: 50%;z-index: -1;}#sk-container-id-2 div.sk-parallel-item {display: flex;flex-direction: column;z-index: 1;position: relative;background-color: white;}#sk-container-id-2 div.sk-parallel-item:first-child::after {align-self: flex-end;width: 50%;}#sk-container-id-2 div.sk-parallel-item:last-child::after {align-self: flex-start;width: 50%;}#sk-container-id-2 div.sk-parallel-item:only-child::after {width: 0;}#sk-container-id-2 div.sk-dashed-wrapped {border: 1px dashed gray;margin: 0 0.4em 0.5em 0.4em;box-sizing: border-box;padding-bottom: 0.4em;background-color: white;}#sk-container-id-2 div.sk-label label {font-family: monospace;font-weight: bold;display: inline-block;line-height: 1.2em;}#sk-container-id-2 div.sk-label-container {text-align: center;}#sk-container-id-2 div.sk-container {/* jupyter's `normalize.less` sets `[hidden] { display: none; }` but bootstrap.min.css set `[hidden] { display: none !important; }` so we also need the `!important` here to be able to override the default hidden behavior on the sphinx rendered scikit-learn.org. See: https://github.com/scikit-learn/scikit-learn/issues/21755 */display: inline-block !important;position: relative;}#sk-container-id-2 div.sk-text-repr-fallback {display: none;}</style><div id=\"sk-container-id-2\" class=\"sk-top-container\"><div class=\"sk-text-repr-fallback\"><pre>LogisticRegression()</pre><b>In a Jupyter environment, please rerun this cell to show the HTML representation or trust the notebook. <br />On GitHub, the HTML representation is unable to render, please try loading this page with nbviewer.org.</b></div><div class=\"sk-container\" hidden><div class=\"sk-item\"><div class=\"sk-estimator sk-toggleable\"><input class=\"sk-toggleable__control sk-hidden--visually\" id=\"sk-estimator-id-2\" type=\"checkbox\" checked><label for=\"sk-estimator-id-2\" class=\"sk-toggleable__label sk-toggleable__label-arrow\">LogisticRegression</label><div class=\"sk-toggleable__content\"><pre>LogisticRegression()</pre></div></div></div></div></div>"
            ]
          },
          "metadata": {},
          "execution_count": 70
        }
      ],
      "source": [
        "# Let's run the model using the selected variables but this time we will use Logistic Regression\n",
        "\n",
        "#initialise Logistic Regression\n",
        "logsk = LogisticRegression()\n",
        "\n",
        "#fitting model using above columns as input\n",
        "logsk.fit(X_train[col],y_train)\n",
        "\n"
      ]
    },
    {
      "cell_type": "code",
      "execution_count": null,
      "metadata": {
        "id": "PMd9onip1H3n",
        "colab": {
          "base_uri": "https://localhost:8080/",
          "height": 389
        },
        "outputId": "94133f8f-8c8b-42f1-b343-8e623cb6ad27"
      },
      "outputs": [
        {
          "output_type": "stream",
          "name": "stdout",
          "text": [
            "Optimization terminated successfully.\n",
            "         Current function value: 0.430875\n",
            "         Iterations 8\n"
          ]
        },
        {
          "output_type": "execute_result",
          "data": {
            "text/plain": [
              "<class 'statsmodels.iolib.summary.Summary'>\n",
              "\"\"\"\n",
              "                           Logit Regression Results                           \n",
              "==============================================================================\n",
              "Dep. Variable:                  Churn   No. Observations:                 4922\n",
              "Model:                          Logit   Df Residuals:                     4916\n",
              "Method:                           MLE   Df Model:                            5\n",
              "Date:                Sun, 12 Mar 2023   Pseudo R-squ.:                  0.2501\n",
              "Time:                        10:56:41   Log-Likelihood:                -2120.8\n",
              "converged:                       True   LL-Null:                       -2828.2\n",
              "Covariance Type:            nonrobust   LLR p-value:                8.491e-304\n",
              "===============================================================================================\n",
              "                                  coef    std err          z      P>|z|      [0.025      0.975]\n",
              "-----------------------------------------------------------------------------------------------\n",
              "PhoneService                   -1.3219      0.095    -13.945      0.000      -1.508      -1.136\n",
              "Contract_One year              -1.1613      0.115    -10.074      0.000      -1.387      -0.935\n",
              "Contract_Two year              -2.0266      0.193    -10.481      0.000      -2.406      -1.648\n",
              "InternetService_Fiber optic     1.2775      0.099     12.878      0.000       1.083       1.472\n",
              "InternetService_No             -1.0118      0.153     -6.621      0.000      -1.311      -0.712\n",
              "tenure                         -0.6421      0.053    -12.157      0.000      -0.746      -0.539\n",
              "===============================================================================================\n",
              "\"\"\""
            ],
            "text/html": [
              "<table class=\"simpletable\">\n",
              "<caption>Logit Regression Results</caption>\n",
              "<tr>\n",
              "  <th>Dep. Variable:</th>         <td>Churn</td>      <th>  No. Observations:  </th>   <td>  4922</td>  \n",
              "</tr>\n",
              "<tr>\n",
              "  <th>Model:</th>                 <td>Logit</td>      <th>  Df Residuals:      </th>   <td>  4916</td>  \n",
              "</tr>\n",
              "<tr>\n",
              "  <th>Method:</th>                 <td>MLE</td>       <th>  Df Model:          </th>   <td>     5</td>  \n",
              "</tr>\n",
              "<tr>\n",
              "  <th>Date:</th>            <td>Sun, 12 Mar 2023</td> <th>  Pseudo R-squ.:     </th>   <td>0.2501</td>  \n",
              "</tr>\n",
              "<tr>\n",
              "  <th>Time:</th>                <td>10:56:41</td>     <th>  Log-Likelihood:    </th>  <td> -2120.8</td> \n",
              "</tr>\n",
              "<tr>\n",
              "  <th>converged:</th>             <td>True</td>       <th>  LL-Null:           </th>  <td> -2828.2</td> \n",
              "</tr>\n",
              "<tr>\n",
              "  <th>Covariance Type:</th>     <td>nonrobust</td>    <th>  LLR p-value:       </th> <td>8.491e-304</td>\n",
              "</tr>\n",
              "</table>\n",
              "<table class=\"simpletable\">\n",
              "<tr>\n",
              "               <td></td>                  <th>coef</th>     <th>std err</th>      <th>z</th>      <th>P>|z|</th>  <th>[0.025</th>    <th>0.975]</th>  \n",
              "</tr>\n",
              "<tr>\n",
              "  <th>PhoneService</th>                <td>   -1.3219</td> <td>    0.095</td> <td>  -13.945</td> <td> 0.000</td> <td>   -1.508</td> <td>   -1.136</td>\n",
              "</tr>\n",
              "<tr>\n",
              "  <th>Contract_One year</th>           <td>   -1.1613</td> <td>    0.115</td> <td>  -10.074</td> <td> 0.000</td> <td>   -1.387</td> <td>   -0.935</td>\n",
              "</tr>\n",
              "<tr>\n",
              "  <th>Contract_Two year</th>           <td>   -2.0266</td> <td>    0.193</td> <td>  -10.481</td> <td> 0.000</td> <td>   -2.406</td> <td>   -1.648</td>\n",
              "</tr>\n",
              "<tr>\n",
              "  <th>InternetService_Fiber optic</th> <td>    1.2775</td> <td>    0.099</td> <td>   12.878</td> <td> 0.000</td> <td>    1.083</td> <td>    1.472</td>\n",
              "</tr>\n",
              "<tr>\n",
              "  <th>InternetService_No</th>          <td>   -1.0118</td> <td>    0.153</td> <td>   -6.621</td> <td> 0.000</td> <td>   -1.311</td> <td>   -0.712</td>\n",
              "</tr>\n",
              "<tr>\n",
              "  <th>tenure</th>                      <td>   -0.6421</td> <td>    0.053</td> <td>  -12.157</td> <td> 0.000</td> <td>   -0.746</td> <td>   -0.539</td>\n",
              "</tr>\n",
              "</table>"
            ]
          },
          "metadata": {},
          "execution_count": 71
        }
      ],
      "source": [
        "#recreating the model with StatsModels with RFE selecte columns\n",
        "\n",
        "logm3 =  sm.Logit(y_train,X_train[col])\n",
        "logm3.fit().summary()"
      ]
    },
    {
      "cell_type": "code",
      "source": [
        "print(X_train.shape)\n",
        "print(X_test.shape)\n",
        "print(y_train.shape)\n",
        "print(y_test.shape)\n"
      ],
      "metadata": {
        "colab": {
          "base_uri": "https://localhost:8080/"
        },
        "id": "O_mte1AjVzdn",
        "outputId": "2bbe1920-6f30-486f-b6f7-ac09ca639d76"
      },
      "execution_count": null,
      "outputs": [
        {
          "output_type": "stream",
          "name": "stdout",
          "text": [
            "(4922, 15)\n",
            "(2110, 15)\n",
            "(4922,)\n",
            "(2110,)\n"
          ]
        }
      ]
    },
    {
      "cell_type": "markdown",
      "metadata": {
        "id": "1znjQrQV1H3n"
      },
      "source": [
        "### **`Making Predictions`**\n",
        "\n",
        "<p style='text-align: right;'> 14 points</p>\n"
      ]
    },
    {
      "cell_type": "code",
      "execution_count": null,
      "metadata": {
        "id": "jKKiSDOw1H3o"
      },
      "outputs": [],
      "source": [
        "# Predicted probabilities\n",
        "y_pred=logsk.predict_proba(X_test[col])\n"
      ]
    },
    {
      "cell_type": "markdown",
      "source": [
        "We are not getting direct Predictions, bt prediction in terms of probabilities"
      ],
      "metadata": {
        "id": "VMXCpIgshumw"
      }
    },
    {
      "cell_type": "code",
      "execution_count": null,
      "metadata": {
        "id": "KtpTQ-sk1H3o"
      },
      "outputs": [],
      "source": [
        "# Converting y_pred to a dataframe which is an array\n",
        "y_pred_df = pd.DataFrame(y_pred)"
      ]
    },
    {
      "cell_type": "code",
      "execution_count": null,
      "metadata": {
        "id": "zkG_TQp61H3o"
      },
      "outputs": [],
      "source": [
        "# Converting to column dataframe\n",
        "y_pred_1 = y_pred_df.iloc[:,[1]]"
      ]
    },
    {
      "cell_type": "code",
      "execution_count": null,
      "metadata": {
        "id": "_F_059Zu1H3p",
        "colab": {
          "base_uri": "https://localhost:8080/",
          "height": 206
        },
        "outputId": "c6fb7a7c-da23-4c04-9b67-00b91dd83678"
      },
      "outputs": [
        {
          "output_type": "execute_result",
          "data": {
            "text/plain": [
              "          1\n",
              "0  0.532332\n",
              "1  0.279911\n",
              "2  0.007329\n",
              "3  0.706479\n",
              "4  0.012679"
            ],
            "text/html": [
              "\n",
              "  <div id=\"df-db39b52e-a767-4298-b6c9-e6d95a69ba5a\">\n",
              "    <div class=\"colab-df-container\">\n",
              "      <div>\n",
              "<style scoped>\n",
              "    .dataframe tbody tr th:only-of-type {\n",
              "        vertical-align: middle;\n",
              "    }\n",
              "\n",
              "    .dataframe tbody tr th {\n",
              "        vertical-align: top;\n",
              "    }\n",
              "\n",
              "    .dataframe thead th {\n",
              "        text-align: right;\n",
              "    }\n",
              "</style>\n",
              "<table border=\"1\" class=\"dataframe\">\n",
              "  <thead>\n",
              "    <tr style=\"text-align: right;\">\n",
              "      <th></th>\n",
              "      <th>1</th>\n",
              "    </tr>\n",
              "  </thead>\n",
              "  <tbody>\n",
              "    <tr>\n",
              "      <th>0</th>\n",
              "      <td>0.532332</td>\n",
              "    </tr>\n",
              "    <tr>\n",
              "      <th>1</th>\n",
              "      <td>0.279911</td>\n",
              "    </tr>\n",
              "    <tr>\n",
              "      <th>2</th>\n",
              "      <td>0.007329</td>\n",
              "    </tr>\n",
              "    <tr>\n",
              "      <th>3</th>\n",
              "      <td>0.706479</td>\n",
              "    </tr>\n",
              "    <tr>\n",
              "      <th>4</th>\n",
              "      <td>0.012679</td>\n",
              "    </tr>\n",
              "  </tbody>\n",
              "</table>\n",
              "</div>\n",
              "      <button class=\"colab-df-convert\" onclick=\"convertToInteractive('df-db39b52e-a767-4298-b6c9-e6d95a69ba5a')\"\n",
              "              title=\"Convert this dataframe to an interactive table.\"\n",
              "              style=\"display:none;\">\n",
              "        \n",
              "  <svg xmlns=\"http://www.w3.org/2000/svg\" height=\"24px\"viewBox=\"0 0 24 24\"\n",
              "       width=\"24px\">\n",
              "    <path d=\"M0 0h24v24H0V0z\" fill=\"none\"/>\n",
              "    <path d=\"M18.56 5.44l.94 2.06.94-2.06 2.06-.94-2.06-.94-.94-2.06-.94 2.06-2.06.94zm-11 1L8.5 8.5l.94-2.06 2.06-.94-2.06-.94L8.5 2.5l-.94 2.06-2.06.94zm10 10l.94 2.06.94-2.06 2.06-.94-2.06-.94-.94-2.06-.94 2.06-2.06.94z\"/><path d=\"M17.41 7.96l-1.37-1.37c-.4-.4-.92-.59-1.43-.59-.52 0-1.04.2-1.43.59L10.3 9.45l-7.72 7.72c-.78.78-.78 2.05 0 2.83L4 21.41c.39.39.9.59 1.41.59.51 0 1.02-.2 1.41-.59l7.78-7.78 2.81-2.81c.8-.78.8-2.07 0-2.86zM5.41 20L4 18.59l7.72-7.72 1.47 1.35L5.41 20z\"/>\n",
              "  </svg>\n",
              "      </button>\n",
              "      \n",
              "  <style>\n",
              "    .colab-df-container {\n",
              "      display:flex;\n",
              "      flex-wrap:wrap;\n",
              "      gap: 12px;\n",
              "    }\n",
              "\n",
              "    .colab-df-convert {\n",
              "      background-color: #E8F0FE;\n",
              "      border: none;\n",
              "      border-radius: 50%;\n",
              "      cursor: pointer;\n",
              "      display: none;\n",
              "      fill: #1967D2;\n",
              "      height: 32px;\n",
              "      padding: 0 0 0 0;\n",
              "      width: 32px;\n",
              "    }\n",
              "\n",
              "    .colab-df-convert:hover {\n",
              "      background-color: #E2EBFA;\n",
              "      box-shadow: 0px 1px 2px rgba(60, 64, 67, 0.3), 0px 1px 3px 1px rgba(60, 64, 67, 0.15);\n",
              "      fill: #174EA6;\n",
              "    }\n",
              "\n",
              "    [theme=dark] .colab-df-convert {\n",
              "      background-color: #3B4455;\n",
              "      fill: #D2E3FC;\n",
              "    }\n",
              "\n",
              "    [theme=dark] .colab-df-convert:hover {\n",
              "      background-color: #434B5C;\n",
              "      box-shadow: 0px 1px 3px 1px rgba(0, 0, 0, 0.15);\n",
              "      filter: drop-shadow(0px 1px 2px rgba(0, 0, 0, 0.3));\n",
              "      fill: #FFFFFF;\n",
              "    }\n",
              "  </style>\n",
              "\n",
              "      <script>\n",
              "        const buttonEl =\n",
              "          document.querySelector('#df-db39b52e-a767-4298-b6c9-e6d95a69ba5a button.colab-df-convert');\n",
              "        buttonEl.style.display =\n",
              "          google.colab.kernel.accessAllowed ? 'block' : 'none';\n",
              "\n",
              "        async function convertToInteractive(key) {\n",
              "          const element = document.querySelector('#df-db39b52e-a767-4298-b6c9-e6d95a69ba5a');\n",
              "          const dataTable =\n",
              "            await google.colab.kernel.invokeFunction('convertToInteractive',\n",
              "                                                     [key], {});\n",
              "          if (!dataTable) return;\n",
              "\n",
              "          const docLinkHtml = 'Like what you see? Visit the ' +\n",
              "            '<a target=\"_blank\" href=https://colab.research.google.com/notebooks/data_table.ipynb>data table notebook</a>'\n",
              "            + ' to learn more about interactive tables.';\n",
              "          element.innerHTML = '';\n",
              "          dataTable['output_type'] = 'display_data';\n",
              "          await google.colab.output.renderOutput(dataTable, element);\n",
              "          const docLink = document.createElement('div');\n",
              "          docLink.innerHTML = docLinkHtml;\n",
              "          element.appendChild(docLink);\n",
              "        }\n",
              "      </script>\n",
              "    </div>\n",
              "  </div>\n",
              "  "
            ]
          },
          "metadata": {},
          "execution_count": 75
        }
      ],
      "source": [
        "# Let's see the head\n",
        "y_pred_1.head()\n"
      ]
    },
    {
      "cell_type": "code",
      "execution_count": null,
      "metadata": {
        "id": "Of_15GfG1H3p"
      },
      "outputs": [],
      "source": [
        "# Converting y_test to dataframe\n",
        "y_test_df = pd.DataFrame(y_test)\n"
      ]
    },
    {
      "cell_type": "code",
      "source": [
        "y_test_df.head()"
      ],
      "metadata": {
        "colab": {
          "base_uri": "https://localhost:8080/",
          "height": 206
        },
        "id": "mwIb1iUOe0Nl",
        "outputId": "7f9b997c-c683-4a0a-b780-57973a1a48bb"
      },
      "execution_count": null,
      "outputs": [
        {
          "output_type": "execute_result",
          "data": {
            "text/plain": [
              "      Churn  CustID\n",
              "942       0     942\n",
              "3730      1    3730\n",
              "1761      0    1761\n",
              "2283      1    2283\n",
              "1872      0    1872"
            ],
            "text/html": [
              "\n",
              "  <div id=\"df-fa2f9414-363a-45ec-b4b7-226e0bd117c7\">\n",
              "    <div class=\"colab-df-container\">\n",
              "      <div>\n",
              "<style scoped>\n",
              "    .dataframe tbody tr th:only-of-type {\n",
              "        vertical-align: middle;\n",
              "    }\n",
              "\n",
              "    .dataframe tbody tr th {\n",
              "        vertical-align: top;\n",
              "    }\n",
              "\n",
              "    .dataframe thead th {\n",
              "        text-align: right;\n",
              "    }\n",
              "</style>\n",
              "<table border=\"1\" class=\"dataframe\">\n",
              "  <thead>\n",
              "    <tr style=\"text-align: right;\">\n",
              "      <th></th>\n",
              "      <th>Churn</th>\n",
              "      <th>CustID</th>\n",
              "    </tr>\n",
              "  </thead>\n",
              "  <tbody>\n",
              "    <tr>\n",
              "      <th>942</th>\n",
              "      <td>0</td>\n",
              "      <td>942</td>\n",
              "    </tr>\n",
              "    <tr>\n",
              "      <th>3730</th>\n",
              "      <td>1</td>\n",
              "      <td>3730</td>\n",
              "    </tr>\n",
              "    <tr>\n",
              "      <th>1761</th>\n",
              "      <td>0</td>\n",
              "      <td>1761</td>\n",
              "    </tr>\n",
              "    <tr>\n",
              "      <th>2283</th>\n",
              "      <td>1</td>\n",
              "      <td>2283</td>\n",
              "    </tr>\n",
              "    <tr>\n",
              "      <th>1872</th>\n",
              "      <td>0</td>\n",
              "      <td>1872</td>\n",
              "    </tr>\n",
              "  </tbody>\n",
              "</table>\n",
              "</div>\n",
              "      <button class=\"colab-df-convert\" onclick=\"convertToInteractive('df-fa2f9414-363a-45ec-b4b7-226e0bd117c7')\"\n",
              "              title=\"Convert this dataframe to an interactive table.\"\n",
              "              style=\"display:none;\">\n",
              "        \n",
              "  <svg xmlns=\"http://www.w3.org/2000/svg\" height=\"24px\"viewBox=\"0 0 24 24\"\n",
              "       width=\"24px\">\n",
              "    <path d=\"M0 0h24v24H0V0z\" fill=\"none\"/>\n",
              "    <path d=\"M18.56 5.44l.94 2.06.94-2.06 2.06-.94-2.06-.94-.94-2.06-.94 2.06-2.06.94zm-11 1L8.5 8.5l.94-2.06 2.06-.94-2.06-.94L8.5 2.5l-.94 2.06-2.06.94zm10 10l.94 2.06.94-2.06 2.06-.94-2.06-.94-.94-2.06-.94 2.06-2.06.94z\"/><path d=\"M17.41 7.96l-1.37-1.37c-.4-.4-.92-.59-1.43-.59-.52 0-1.04.2-1.43.59L10.3 9.45l-7.72 7.72c-.78.78-.78 2.05 0 2.83L4 21.41c.39.39.9.59 1.41.59.51 0 1.02-.2 1.41-.59l7.78-7.78 2.81-2.81c.8-.78.8-2.07 0-2.86zM5.41 20L4 18.59l7.72-7.72 1.47 1.35L5.41 20z\"/>\n",
              "  </svg>\n",
              "      </button>\n",
              "      \n",
              "  <style>\n",
              "    .colab-df-container {\n",
              "      display:flex;\n",
              "      flex-wrap:wrap;\n",
              "      gap: 12px;\n",
              "    }\n",
              "\n",
              "    .colab-df-convert {\n",
              "      background-color: #E8F0FE;\n",
              "      border: none;\n",
              "      border-radius: 50%;\n",
              "      cursor: pointer;\n",
              "      display: none;\n",
              "      fill: #1967D2;\n",
              "      height: 32px;\n",
              "      padding: 0 0 0 0;\n",
              "      width: 32px;\n",
              "    }\n",
              "\n",
              "    .colab-df-convert:hover {\n",
              "      background-color: #E2EBFA;\n",
              "      box-shadow: 0px 1px 2px rgba(60, 64, 67, 0.3), 0px 1px 3px 1px rgba(60, 64, 67, 0.15);\n",
              "      fill: #174EA6;\n",
              "    }\n",
              "\n",
              "    [theme=dark] .colab-df-convert {\n",
              "      background-color: #3B4455;\n",
              "      fill: #D2E3FC;\n",
              "    }\n",
              "\n",
              "    [theme=dark] .colab-df-convert:hover {\n",
              "      background-color: #434B5C;\n",
              "      box-shadow: 0px 1px 3px 1px rgba(0, 0, 0, 0.15);\n",
              "      filter: drop-shadow(0px 1px 2px rgba(0, 0, 0, 0.3));\n",
              "      fill: #FFFFFF;\n",
              "    }\n",
              "  </style>\n",
              "\n",
              "      <script>\n",
              "        const buttonEl =\n",
              "          document.querySelector('#df-fa2f9414-363a-45ec-b4b7-226e0bd117c7 button.colab-df-convert');\n",
              "        buttonEl.style.display =\n",
              "          google.colab.kernel.accessAllowed ? 'block' : 'none';\n",
              "\n",
              "        async function convertToInteractive(key) {\n",
              "          const element = document.querySelector('#df-fa2f9414-363a-45ec-b4b7-226e0bd117c7');\n",
              "          const dataTable =\n",
              "            await google.colab.kernel.invokeFunction('convertToInteractive',\n",
              "                                                     [key], {});\n",
              "          if (!dataTable) return;\n",
              "\n",
              "          const docLinkHtml = 'Like what you see? Visit the ' +\n",
              "            '<a target=\"_blank\" href=https://colab.research.google.com/notebooks/data_table.ipynb>data table notebook</a>'\n",
              "            + ' to learn more about interactive tables.';\n",
              "          element.innerHTML = '';\n",
              "          dataTable['output_type'] = 'display_data';\n",
              "          await google.colab.output.renderOutput(dataTable, element);\n",
              "          const docLink = document.createElement('div');\n",
              "          docLink.innerHTML = docLinkHtml;\n",
              "          element.appendChild(docLink);\n",
              "        }\n",
              "      </script>\n",
              "    </div>\n",
              "  </div>\n",
              "  "
            ]
          },
          "metadata": {},
          "execution_count": 80
        }
      ]
    },
    {
      "cell_type": "code",
      "execution_count": null,
      "metadata": {
        "id": "9h9X1ZbJ1H3p"
      },
      "outputs": [],
      "source": [
        "# Putting CustID to index\n",
        "y_test_df['CustID']=y_test_df.index\n"
      ]
    },
    {
      "cell_type": "code",
      "execution_count": null,
      "metadata": {
        "id": "TXnsX8A_1H3q"
      },
      "outputs": [],
      "source": [
        "# Removing index for both dataframes to append them side by side \n",
        "y_pred_1.reset_index(drop=True,inplace=True)\n",
        "y_test_df.reset_index(drop=True,inplace=True)"
      ]
    },
    {
      "cell_type": "markdown",
      "source": [
        "We removed index so that we can append them side by side"
      ],
      "metadata": {
        "id": "v6IzGYPffnPP"
      }
    },
    {
      "cell_type": "code",
      "execution_count": null,
      "metadata": {
        "id": "u8cxefdw1H3q"
      },
      "outputs": [],
      "source": [
        "# Appending y_test_df and y_pred_1\n",
        "y_pred_final = pd.concat([y_test_df,y_pred_1],axis=1)\n"
      ]
    },
    {
      "cell_type": "code",
      "source": [
        "y_pred_final.head()"
      ],
      "metadata": {
        "colab": {
          "base_uri": "https://localhost:8080/",
          "height": 206
        },
        "id": "rraMBeYlf9TA",
        "outputId": "be7dece3-44ca-4ff0-f96b-7cc09c5a66c1"
      },
      "execution_count": null,
      "outputs": [
        {
          "output_type": "execute_result",
          "data": {
            "text/plain": [
              "   Churn  CustID         1\n",
              "0      0     942  0.532332\n",
              "1      1    3730  0.279911\n",
              "2      0    1761  0.007329\n",
              "3      1    2283  0.706479\n",
              "4      0    1872  0.012679"
            ],
            "text/html": [
              "\n",
              "  <div id=\"df-ea0cbcd0-8963-409a-9676-29a4dc6a17f9\">\n",
              "    <div class=\"colab-df-container\">\n",
              "      <div>\n",
              "<style scoped>\n",
              "    .dataframe tbody tr th:only-of-type {\n",
              "        vertical-align: middle;\n",
              "    }\n",
              "\n",
              "    .dataframe tbody tr th {\n",
              "        vertical-align: top;\n",
              "    }\n",
              "\n",
              "    .dataframe thead th {\n",
              "        text-align: right;\n",
              "    }\n",
              "</style>\n",
              "<table border=\"1\" class=\"dataframe\">\n",
              "  <thead>\n",
              "    <tr style=\"text-align: right;\">\n",
              "      <th></th>\n",
              "      <th>Churn</th>\n",
              "      <th>CustID</th>\n",
              "      <th>1</th>\n",
              "    </tr>\n",
              "  </thead>\n",
              "  <tbody>\n",
              "    <tr>\n",
              "      <th>0</th>\n",
              "      <td>0</td>\n",
              "      <td>942</td>\n",
              "      <td>0.532332</td>\n",
              "    </tr>\n",
              "    <tr>\n",
              "      <th>1</th>\n",
              "      <td>1</td>\n",
              "      <td>3730</td>\n",
              "      <td>0.279911</td>\n",
              "    </tr>\n",
              "    <tr>\n",
              "      <th>2</th>\n",
              "      <td>0</td>\n",
              "      <td>1761</td>\n",
              "      <td>0.007329</td>\n",
              "    </tr>\n",
              "    <tr>\n",
              "      <th>3</th>\n",
              "      <td>1</td>\n",
              "      <td>2283</td>\n",
              "      <td>0.706479</td>\n",
              "    </tr>\n",
              "    <tr>\n",
              "      <th>4</th>\n",
              "      <td>0</td>\n",
              "      <td>1872</td>\n",
              "      <td>0.012679</td>\n",
              "    </tr>\n",
              "  </tbody>\n",
              "</table>\n",
              "</div>\n",
              "      <button class=\"colab-df-convert\" onclick=\"convertToInteractive('df-ea0cbcd0-8963-409a-9676-29a4dc6a17f9')\"\n",
              "              title=\"Convert this dataframe to an interactive table.\"\n",
              "              style=\"display:none;\">\n",
              "        \n",
              "  <svg xmlns=\"http://www.w3.org/2000/svg\" height=\"24px\"viewBox=\"0 0 24 24\"\n",
              "       width=\"24px\">\n",
              "    <path d=\"M0 0h24v24H0V0z\" fill=\"none\"/>\n",
              "    <path d=\"M18.56 5.44l.94 2.06.94-2.06 2.06-.94-2.06-.94-.94-2.06-.94 2.06-2.06.94zm-11 1L8.5 8.5l.94-2.06 2.06-.94-2.06-.94L8.5 2.5l-.94 2.06-2.06.94zm10 10l.94 2.06.94-2.06 2.06-.94-2.06-.94-.94-2.06-.94 2.06-2.06.94z\"/><path d=\"M17.41 7.96l-1.37-1.37c-.4-.4-.92-.59-1.43-.59-.52 0-1.04.2-1.43.59L10.3 9.45l-7.72 7.72c-.78.78-.78 2.05 0 2.83L4 21.41c.39.39.9.59 1.41.59.51 0 1.02-.2 1.41-.59l7.78-7.78 2.81-2.81c.8-.78.8-2.07 0-2.86zM5.41 20L4 18.59l7.72-7.72 1.47 1.35L5.41 20z\"/>\n",
              "  </svg>\n",
              "      </button>\n",
              "      \n",
              "  <style>\n",
              "    .colab-df-container {\n",
              "      display:flex;\n",
              "      flex-wrap:wrap;\n",
              "      gap: 12px;\n",
              "    }\n",
              "\n",
              "    .colab-df-convert {\n",
              "      background-color: #E8F0FE;\n",
              "      border: none;\n",
              "      border-radius: 50%;\n",
              "      cursor: pointer;\n",
              "      display: none;\n",
              "      fill: #1967D2;\n",
              "      height: 32px;\n",
              "      padding: 0 0 0 0;\n",
              "      width: 32px;\n",
              "    }\n",
              "\n",
              "    .colab-df-convert:hover {\n",
              "      background-color: #E2EBFA;\n",
              "      box-shadow: 0px 1px 2px rgba(60, 64, 67, 0.3), 0px 1px 3px 1px rgba(60, 64, 67, 0.15);\n",
              "      fill: #174EA6;\n",
              "    }\n",
              "\n",
              "    [theme=dark] .colab-df-convert {\n",
              "      background-color: #3B4455;\n",
              "      fill: #D2E3FC;\n",
              "    }\n",
              "\n",
              "    [theme=dark] .colab-df-convert:hover {\n",
              "      background-color: #434B5C;\n",
              "      box-shadow: 0px 1px 3px 1px rgba(0, 0, 0, 0.15);\n",
              "      filter: drop-shadow(0px 1px 2px rgba(0, 0, 0, 0.3));\n",
              "      fill: #FFFFFF;\n",
              "    }\n",
              "  </style>\n",
              "\n",
              "      <script>\n",
              "        const buttonEl =\n",
              "          document.querySelector('#df-ea0cbcd0-8963-409a-9676-29a4dc6a17f9 button.colab-df-convert');\n",
              "        buttonEl.style.display =\n",
              "          google.colab.kernel.accessAllowed ? 'block' : 'none';\n",
              "\n",
              "        async function convertToInteractive(key) {\n",
              "          const element = document.querySelector('#df-ea0cbcd0-8963-409a-9676-29a4dc6a17f9');\n",
              "          const dataTable =\n",
              "            await google.colab.kernel.invokeFunction('convertToInteractive',\n",
              "                                                     [key], {});\n",
              "          if (!dataTable) return;\n",
              "\n",
              "          const docLinkHtml = 'Like what you see? Visit the ' +\n",
              "            '<a target=\"_blank\" href=https://colab.research.google.com/notebooks/data_table.ipynb>data table notebook</a>'\n",
              "            + ' to learn more about interactive tables.';\n",
              "          element.innerHTML = '';\n",
              "          dataTable['output_type'] = 'display_data';\n",
              "          await google.colab.output.renderOutput(dataTable, element);\n",
              "          const docLink = document.createElement('div');\n",
              "          docLink.innerHTML = docLinkHtml;\n",
              "          element.appendChild(docLink);\n",
              "        }\n",
              "      </script>\n",
              "    </div>\n",
              "  </div>\n",
              "  "
            ]
          },
          "metadata": {},
          "execution_count": 89
        }
      ]
    },
    {
      "cell_type": "code",
      "execution_count": null,
      "metadata": {
        "id": "ZUeXOxa21H3q"
      },
      "outputs": [],
      "source": [
        "# Renaming the column \n",
        "y_pred_final= y_pred_final.rename(columns={1:'Churn_Prob'})\n"
      ]
    },
    {
      "cell_type": "code",
      "execution_count": null,
      "metadata": {
        "id": "TQ94ksul1H3r",
        "colab": {
          "base_uri": "https://localhost:8080/",
          "height": 423
        },
        "outputId": "8cfff8e2-bbc6-4c42-c2df-04f11d2c1d0d"
      },
      "outputs": [
        {
          "output_type": "execute_result",
          "data": {
            "text/plain": [
              "      Churn  CustID  Churn_Prob\n",
              "0         0     942    0.532332\n",
              "1         1    3730    0.279911\n",
              "2         0    1761    0.007329\n",
              "3         1    2283    0.706479\n",
              "4         0    1872    0.012679\n",
              "...     ...     ...         ...\n",
              "2105      0    1289    0.034885\n",
              "2106      0    3508    0.051773\n",
              "2107      0    6765    0.005134\n",
              "2108      0    3598    0.386097\n",
              "2109      0    4987    0.004812\n",
              "\n",
              "[2110 rows x 3 columns]"
            ],
            "text/html": [
              "\n",
              "  <div id=\"df-1480937f-bd16-45ed-8622-5435bf0a8a5d\">\n",
              "    <div class=\"colab-df-container\">\n",
              "      <div>\n",
              "<style scoped>\n",
              "    .dataframe tbody tr th:only-of-type {\n",
              "        vertical-align: middle;\n",
              "    }\n",
              "\n",
              "    .dataframe tbody tr th {\n",
              "        vertical-align: top;\n",
              "    }\n",
              "\n",
              "    .dataframe thead th {\n",
              "        text-align: right;\n",
              "    }\n",
              "</style>\n",
              "<table border=\"1\" class=\"dataframe\">\n",
              "  <thead>\n",
              "    <tr style=\"text-align: right;\">\n",
              "      <th></th>\n",
              "      <th>Churn</th>\n",
              "      <th>CustID</th>\n",
              "      <th>Churn_Prob</th>\n",
              "    </tr>\n",
              "  </thead>\n",
              "  <tbody>\n",
              "    <tr>\n",
              "      <th>0</th>\n",
              "      <td>0</td>\n",
              "      <td>942</td>\n",
              "      <td>0.532332</td>\n",
              "    </tr>\n",
              "    <tr>\n",
              "      <th>1</th>\n",
              "      <td>1</td>\n",
              "      <td>3730</td>\n",
              "      <td>0.279911</td>\n",
              "    </tr>\n",
              "    <tr>\n",
              "      <th>2</th>\n",
              "      <td>0</td>\n",
              "      <td>1761</td>\n",
              "      <td>0.007329</td>\n",
              "    </tr>\n",
              "    <tr>\n",
              "      <th>3</th>\n",
              "      <td>1</td>\n",
              "      <td>2283</td>\n",
              "      <td>0.706479</td>\n",
              "    </tr>\n",
              "    <tr>\n",
              "      <th>4</th>\n",
              "      <td>0</td>\n",
              "      <td>1872</td>\n",
              "      <td>0.012679</td>\n",
              "    </tr>\n",
              "    <tr>\n",
              "      <th>...</th>\n",
              "      <td>...</td>\n",
              "      <td>...</td>\n",
              "      <td>...</td>\n",
              "    </tr>\n",
              "    <tr>\n",
              "      <th>2105</th>\n",
              "      <td>0</td>\n",
              "      <td>1289</td>\n",
              "      <td>0.034885</td>\n",
              "    </tr>\n",
              "    <tr>\n",
              "      <th>2106</th>\n",
              "      <td>0</td>\n",
              "      <td>3508</td>\n",
              "      <td>0.051773</td>\n",
              "    </tr>\n",
              "    <tr>\n",
              "      <th>2107</th>\n",
              "      <td>0</td>\n",
              "      <td>6765</td>\n",
              "      <td>0.005134</td>\n",
              "    </tr>\n",
              "    <tr>\n",
              "      <th>2108</th>\n",
              "      <td>0</td>\n",
              "      <td>3598</td>\n",
              "      <td>0.386097</td>\n",
              "    </tr>\n",
              "    <tr>\n",
              "      <th>2109</th>\n",
              "      <td>0</td>\n",
              "      <td>4987</td>\n",
              "      <td>0.004812</td>\n",
              "    </tr>\n",
              "  </tbody>\n",
              "</table>\n",
              "<p>2110 rows × 3 columns</p>\n",
              "</div>\n",
              "      <button class=\"colab-df-convert\" onclick=\"convertToInteractive('df-1480937f-bd16-45ed-8622-5435bf0a8a5d')\"\n",
              "              title=\"Convert this dataframe to an interactive table.\"\n",
              "              style=\"display:none;\">\n",
              "        \n",
              "  <svg xmlns=\"http://www.w3.org/2000/svg\" height=\"24px\"viewBox=\"0 0 24 24\"\n",
              "       width=\"24px\">\n",
              "    <path d=\"M0 0h24v24H0V0z\" fill=\"none\"/>\n",
              "    <path d=\"M18.56 5.44l.94 2.06.94-2.06 2.06-.94-2.06-.94-.94-2.06-.94 2.06-2.06.94zm-11 1L8.5 8.5l.94-2.06 2.06-.94-2.06-.94L8.5 2.5l-.94 2.06-2.06.94zm10 10l.94 2.06.94-2.06 2.06-.94-2.06-.94-.94-2.06-.94 2.06-2.06.94z\"/><path d=\"M17.41 7.96l-1.37-1.37c-.4-.4-.92-.59-1.43-.59-.52 0-1.04.2-1.43.59L10.3 9.45l-7.72 7.72c-.78.78-.78 2.05 0 2.83L4 21.41c.39.39.9.59 1.41.59.51 0 1.02-.2 1.41-.59l7.78-7.78 2.81-2.81c.8-.78.8-2.07 0-2.86zM5.41 20L4 18.59l7.72-7.72 1.47 1.35L5.41 20z\"/>\n",
              "  </svg>\n",
              "      </button>\n",
              "      \n",
              "  <style>\n",
              "    .colab-df-container {\n",
              "      display:flex;\n",
              "      flex-wrap:wrap;\n",
              "      gap: 12px;\n",
              "    }\n",
              "\n",
              "    .colab-df-convert {\n",
              "      background-color: #E8F0FE;\n",
              "      border: none;\n",
              "      border-radius: 50%;\n",
              "      cursor: pointer;\n",
              "      display: none;\n",
              "      fill: #1967D2;\n",
              "      height: 32px;\n",
              "      padding: 0 0 0 0;\n",
              "      width: 32px;\n",
              "    }\n",
              "\n",
              "    .colab-df-convert:hover {\n",
              "      background-color: #E2EBFA;\n",
              "      box-shadow: 0px 1px 2px rgba(60, 64, 67, 0.3), 0px 1px 3px 1px rgba(60, 64, 67, 0.15);\n",
              "      fill: #174EA6;\n",
              "    }\n",
              "\n",
              "    [theme=dark] .colab-df-convert {\n",
              "      background-color: #3B4455;\n",
              "      fill: #D2E3FC;\n",
              "    }\n",
              "\n",
              "    [theme=dark] .colab-df-convert:hover {\n",
              "      background-color: #434B5C;\n",
              "      box-shadow: 0px 1px 3px 1px rgba(0, 0, 0, 0.15);\n",
              "      filter: drop-shadow(0px 1px 2px rgba(0, 0, 0, 0.3));\n",
              "      fill: #FFFFFF;\n",
              "    }\n",
              "  </style>\n",
              "\n",
              "      <script>\n",
              "        const buttonEl =\n",
              "          document.querySelector('#df-1480937f-bd16-45ed-8622-5435bf0a8a5d button.colab-df-convert');\n",
              "        buttonEl.style.display =\n",
              "          google.colab.kernel.accessAllowed ? 'block' : 'none';\n",
              "\n",
              "        async function convertToInteractive(key) {\n",
              "          const element = document.querySelector('#df-1480937f-bd16-45ed-8622-5435bf0a8a5d');\n",
              "          const dataTable =\n",
              "            await google.colab.kernel.invokeFunction('convertToInteractive',\n",
              "                                                     [key], {});\n",
              "          if (!dataTable) return;\n",
              "\n",
              "          const docLinkHtml = 'Like what you see? Visit the ' +\n",
              "            '<a target=\"_blank\" href=https://colab.research.google.com/notebooks/data_table.ipynb>data table notebook</a>'\n",
              "            + ' to learn more about interactive tables.';\n",
              "          element.innerHTML = '';\n",
              "          dataTable['output_type'] = 'display_data';\n",
              "          await google.colab.output.renderOutput(dataTable, element);\n",
              "          const docLink = document.createElement('div');\n",
              "          docLink.innerHTML = docLinkHtml;\n",
              "          element.appendChild(docLink);\n",
              "        }\n",
              "      </script>\n",
              "    </div>\n",
              "  </div>\n",
              "  "
            ]
          },
          "metadata": {},
          "execution_count": 91
        }
      ],
      "source": [
        "#print y_pred_final\n",
        "y_pred_final"
      ]
    },
    {
      "cell_type": "code",
      "execution_count": null,
      "metadata": {
        "id": "_f3enc511H3r"
      },
      "outputs": [],
      "source": [
        "#Rearranging the columns\n",
        "y_pred_final=y_pred_final.reindex(columns=['CustID','Churn','Churn_Prob'])"
      ]
    },
    {
      "cell_type": "code",
      "execution_count": null,
      "metadata": {
        "id": "YSbg8O-B1H3r",
        "colab": {
          "base_uri": "https://localhost:8080/",
          "height": 206
        },
        "outputId": "4bf6c46b-d838-4940-c521-06f8ca2d3718"
      },
      "outputs": [
        {
          "output_type": "execute_result",
          "data": {
            "text/plain": [
              "   CustID  Churn  Churn_Prob\n",
              "0     942      0    0.532332\n",
              "1    3730      1    0.279911\n",
              "2    1761      0    0.007329\n",
              "3    2283      1    0.706479\n",
              "4    1872      0    0.012679"
            ],
            "text/html": [
              "\n",
              "  <div id=\"df-b09d1a80-593d-400d-9340-f9f31bc8ddfb\">\n",
              "    <div class=\"colab-df-container\">\n",
              "      <div>\n",
              "<style scoped>\n",
              "    .dataframe tbody tr th:only-of-type {\n",
              "        vertical-align: middle;\n",
              "    }\n",
              "\n",
              "    .dataframe tbody tr th {\n",
              "        vertical-align: top;\n",
              "    }\n",
              "\n",
              "    .dataframe thead th {\n",
              "        text-align: right;\n",
              "    }\n",
              "</style>\n",
              "<table border=\"1\" class=\"dataframe\">\n",
              "  <thead>\n",
              "    <tr style=\"text-align: right;\">\n",
              "      <th></th>\n",
              "      <th>CustID</th>\n",
              "      <th>Churn</th>\n",
              "      <th>Churn_Prob</th>\n",
              "    </tr>\n",
              "  </thead>\n",
              "  <tbody>\n",
              "    <tr>\n",
              "      <th>0</th>\n",
              "      <td>942</td>\n",
              "      <td>0</td>\n",
              "      <td>0.532332</td>\n",
              "    </tr>\n",
              "    <tr>\n",
              "      <th>1</th>\n",
              "      <td>3730</td>\n",
              "      <td>1</td>\n",
              "      <td>0.279911</td>\n",
              "    </tr>\n",
              "    <tr>\n",
              "      <th>2</th>\n",
              "      <td>1761</td>\n",
              "      <td>0</td>\n",
              "      <td>0.007329</td>\n",
              "    </tr>\n",
              "    <tr>\n",
              "      <th>3</th>\n",
              "      <td>2283</td>\n",
              "      <td>1</td>\n",
              "      <td>0.706479</td>\n",
              "    </tr>\n",
              "    <tr>\n",
              "      <th>4</th>\n",
              "      <td>1872</td>\n",
              "      <td>0</td>\n",
              "      <td>0.012679</td>\n",
              "    </tr>\n",
              "  </tbody>\n",
              "</table>\n",
              "</div>\n",
              "      <button class=\"colab-df-convert\" onclick=\"convertToInteractive('df-b09d1a80-593d-400d-9340-f9f31bc8ddfb')\"\n",
              "              title=\"Convert this dataframe to an interactive table.\"\n",
              "              style=\"display:none;\">\n",
              "        \n",
              "  <svg xmlns=\"http://www.w3.org/2000/svg\" height=\"24px\"viewBox=\"0 0 24 24\"\n",
              "       width=\"24px\">\n",
              "    <path d=\"M0 0h24v24H0V0z\" fill=\"none\"/>\n",
              "    <path d=\"M18.56 5.44l.94 2.06.94-2.06 2.06-.94-2.06-.94-.94-2.06-.94 2.06-2.06.94zm-11 1L8.5 8.5l.94-2.06 2.06-.94-2.06-.94L8.5 2.5l-.94 2.06-2.06.94zm10 10l.94 2.06.94-2.06 2.06-.94-2.06-.94-.94-2.06-.94 2.06-2.06.94z\"/><path d=\"M17.41 7.96l-1.37-1.37c-.4-.4-.92-.59-1.43-.59-.52 0-1.04.2-1.43.59L10.3 9.45l-7.72 7.72c-.78.78-.78 2.05 0 2.83L4 21.41c.39.39.9.59 1.41.59.51 0 1.02-.2 1.41-.59l7.78-7.78 2.81-2.81c.8-.78.8-2.07 0-2.86zM5.41 20L4 18.59l7.72-7.72 1.47 1.35L5.41 20z\"/>\n",
              "  </svg>\n",
              "      </button>\n",
              "      \n",
              "  <style>\n",
              "    .colab-df-container {\n",
              "      display:flex;\n",
              "      flex-wrap:wrap;\n",
              "      gap: 12px;\n",
              "    }\n",
              "\n",
              "    .colab-df-convert {\n",
              "      background-color: #E8F0FE;\n",
              "      border: none;\n",
              "      border-radius: 50%;\n",
              "      cursor: pointer;\n",
              "      display: none;\n",
              "      fill: #1967D2;\n",
              "      height: 32px;\n",
              "      padding: 0 0 0 0;\n",
              "      width: 32px;\n",
              "    }\n",
              "\n",
              "    .colab-df-convert:hover {\n",
              "      background-color: #E2EBFA;\n",
              "      box-shadow: 0px 1px 2px rgba(60, 64, 67, 0.3), 0px 1px 3px 1px rgba(60, 64, 67, 0.15);\n",
              "      fill: #174EA6;\n",
              "    }\n",
              "\n",
              "    [theme=dark] .colab-df-convert {\n",
              "      background-color: #3B4455;\n",
              "      fill: #D2E3FC;\n",
              "    }\n",
              "\n",
              "    [theme=dark] .colab-df-convert:hover {\n",
              "      background-color: #434B5C;\n",
              "      box-shadow: 0px 1px 3px 1px rgba(0, 0, 0, 0.15);\n",
              "      filter: drop-shadow(0px 1px 2px rgba(0, 0, 0, 0.3));\n",
              "      fill: #FFFFFF;\n",
              "    }\n",
              "  </style>\n",
              "\n",
              "      <script>\n",
              "        const buttonEl =\n",
              "          document.querySelector('#df-b09d1a80-593d-400d-9340-f9f31bc8ddfb button.colab-df-convert');\n",
              "        buttonEl.style.display =\n",
              "          google.colab.kernel.accessAllowed ? 'block' : 'none';\n",
              "\n",
              "        async function convertToInteractive(key) {\n",
              "          const element = document.querySelector('#df-b09d1a80-593d-400d-9340-f9f31bc8ddfb');\n",
              "          const dataTable =\n",
              "            await google.colab.kernel.invokeFunction('convertToInteractive',\n",
              "                                                     [key], {});\n",
              "          if (!dataTable) return;\n",
              "\n",
              "          const docLinkHtml = 'Like what you see? Visit the ' +\n",
              "            '<a target=\"_blank\" href=https://colab.research.google.com/notebooks/data_table.ipynb>data table notebook</a>'\n",
              "            + ' to learn more about interactive tables.';\n",
              "          element.innerHTML = '';\n",
              "          dataTable['output_type'] = 'display_data';\n",
              "          await google.colab.output.renderOutput(dataTable, element);\n",
              "          const docLink = document.createElement('div');\n",
              "          docLink.innerHTML = docLinkHtml;\n",
              "          element.appendChild(docLink);\n",
              "        }\n",
              "      </script>\n",
              "    </div>\n",
              "  </div>\n",
              "  "
            ]
          },
          "metadata": {},
          "execution_count": 93
        }
      ],
      "source": [
        "# Let's see the head of y_pred_final\n",
        "y_pred_final.head()"
      ]
    },
    {
      "cell_type": "code",
      "source": [
        "y_pred_final.loc[1,'Churn_Prob']"
      ],
      "metadata": {
        "colab": {
          "base_uri": "https://localhost:8080/"
        },
        "id": "AOiSBoqjjMZ4",
        "outputId": "b0064531-85dd-4f95-f7c8-f5798bfc8365"
      },
      "execution_count": null,
      "outputs": [
        {
          "output_type": "execute_result",
          "data": {
            "text/plain": [
              "0.2799108070777218"
            ]
          },
          "metadata": {},
          "execution_count": 98
        }
      ]
    },
    {
      "cell_type": "code",
      "execution_count": null,
      "metadata": {
        "id": "HktHyogD1H3s"
      },
      "outputs": [],
      "source": [
        "# Creating new column 'predicted' with 1 if Churn_Prob>0.5 else 0\n",
        "for i in range(y_pred_final.shape[0]):\n",
        "  if y_pred_final.loc[i,'Churn_Prob']>0.5:\n",
        "    y_pred_final.loc[i,'predicted']=1\n",
        "  else:\n",
        "    y_pred_final.loc[i,'predicted']=0\n"
      ]
    },
    {
      "cell_type": "code",
      "execution_count": null,
      "metadata": {
        "id": "kLiC_mFj1H3s",
        "colab": {
          "base_uri": "https://localhost:8080/",
          "height": 206
        },
        "outputId": "a696948c-22cb-4d40-cde4-b63580d6b57e"
      },
      "outputs": [
        {
          "output_type": "execute_result",
          "data": {
            "text/plain": [
              "   CustID  Churn  Churn_Prob  predicted\n",
              "0     942      0    0.532332          1\n",
              "1    3730      1    0.279911          0\n",
              "2    1761      0    0.007329          0\n",
              "3    2283      1    0.706479          1\n",
              "4    1872      0    0.012679          0"
            ],
            "text/html": [
              "\n",
              "  <div id=\"df-a11efab8-ecf8-4e29-b4f6-00f15fdc097e\">\n",
              "    <div class=\"colab-df-container\">\n",
              "      <div>\n",
              "<style scoped>\n",
              "    .dataframe tbody tr th:only-of-type {\n",
              "        vertical-align: middle;\n",
              "    }\n",
              "\n",
              "    .dataframe tbody tr th {\n",
              "        vertical-align: top;\n",
              "    }\n",
              "\n",
              "    .dataframe thead th {\n",
              "        text-align: right;\n",
              "    }\n",
              "</style>\n",
              "<table border=\"1\" class=\"dataframe\">\n",
              "  <thead>\n",
              "    <tr style=\"text-align: right;\">\n",
              "      <th></th>\n",
              "      <th>CustID</th>\n",
              "      <th>Churn</th>\n",
              "      <th>Churn_Prob</th>\n",
              "      <th>predicted</th>\n",
              "    </tr>\n",
              "  </thead>\n",
              "  <tbody>\n",
              "    <tr>\n",
              "      <th>0</th>\n",
              "      <td>942</td>\n",
              "      <td>0</td>\n",
              "      <td>0.532332</td>\n",
              "      <td>1</td>\n",
              "    </tr>\n",
              "    <tr>\n",
              "      <th>1</th>\n",
              "      <td>3730</td>\n",
              "      <td>1</td>\n",
              "      <td>0.279911</td>\n",
              "      <td>0</td>\n",
              "    </tr>\n",
              "    <tr>\n",
              "      <th>2</th>\n",
              "      <td>1761</td>\n",
              "      <td>0</td>\n",
              "      <td>0.007329</td>\n",
              "      <td>0</td>\n",
              "    </tr>\n",
              "    <tr>\n",
              "      <th>3</th>\n",
              "      <td>2283</td>\n",
              "      <td>1</td>\n",
              "      <td>0.706479</td>\n",
              "      <td>1</td>\n",
              "    </tr>\n",
              "    <tr>\n",
              "      <th>4</th>\n",
              "      <td>1872</td>\n",
              "      <td>0</td>\n",
              "      <td>0.012679</td>\n",
              "      <td>0</td>\n",
              "    </tr>\n",
              "  </tbody>\n",
              "</table>\n",
              "</div>\n",
              "      <button class=\"colab-df-convert\" onclick=\"convertToInteractive('df-a11efab8-ecf8-4e29-b4f6-00f15fdc097e')\"\n",
              "              title=\"Convert this dataframe to an interactive table.\"\n",
              "              style=\"display:none;\">\n",
              "        \n",
              "  <svg xmlns=\"http://www.w3.org/2000/svg\" height=\"24px\"viewBox=\"0 0 24 24\"\n",
              "       width=\"24px\">\n",
              "    <path d=\"M0 0h24v24H0V0z\" fill=\"none\"/>\n",
              "    <path d=\"M18.56 5.44l.94 2.06.94-2.06 2.06-.94-2.06-.94-.94-2.06-.94 2.06-2.06.94zm-11 1L8.5 8.5l.94-2.06 2.06-.94-2.06-.94L8.5 2.5l-.94 2.06-2.06.94zm10 10l.94 2.06.94-2.06 2.06-.94-2.06-.94-.94-2.06-.94 2.06-2.06.94z\"/><path d=\"M17.41 7.96l-1.37-1.37c-.4-.4-.92-.59-1.43-.59-.52 0-1.04.2-1.43.59L10.3 9.45l-7.72 7.72c-.78.78-.78 2.05 0 2.83L4 21.41c.39.39.9.59 1.41.59.51 0 1.02-.2 1.41-.59l7.78-7.78 2.81-2.81c.8-.78.8-2.07 0-2.86zM5.41 20L4 18.59l7.72-7.72 1.47 1.35L5.41 20z\"/>\n",
              "  </svg>\n",
              "      </button>\n",
              "      \n",
              "  <style>\n",
              "    .colab-df-container {\n",
              "      display:flex;\n",
              "      flex-wrap:wrap;\n",
              "      gap: 12px;\n",
              "    }\n",
              "\n",
              "    .colab-df-convert {\n",
              "      background-color: #E8F0FE;\n",
              "      border: none;\n",
              "      border-radius: 50%;\n",
              "      cursor: pointer;\n",
              "      display: none;\n",
              "      fill: #1967D2;\n",
              "      height: 32px;\n",
              "      padding: 0 0 0 0;\n",
              "      width: 32px;\n",
              "    }\n",
              "\n",
              "    .colab-df-convert:hover {\n",
              "      background-color: #E2EBFA;\n",
              "      box-shadow: 0px 1px 2px rgba(60, 64, 67, 0.3), 0px 1px 3px 1px rgba(60, 64, 67, 0.15);\n",
              "      fill: #174EA6;\n",
              "    }\n",
              "\n",
              "    [theme=dark] .colab-df-convert {\n",
              "      background-color: #3B4455;\n",
              "      fill: #D2E3FC;\n",
              "    }\n",
              "\n",
              "    [theme=dark] .colab-df-convert:hover {\n",
              "      background-color: #434B5C;\n",
              "      box-shadow: 0px 1px 3px 1px rgba(0, 0, 0, 0.15);\n",
              "      filter: drop-shadow(0px 1px 2px rgba(0, 0, 0, 0.3));\n",
              "      fill: #FFFFFF;\n",
              "    }\n",
              "  </style>\n",
              "\n",
              "      <script>\n",
              "        const buttonEl =\n",
              "          document.querySelector('#df-a11efab8-ecf8-4e29-b4f6-00f15fdc097e button.colab-df-convert');\n",
              "        buttonEl.style.display =\n",
              "          google.colab.kernel.accessAllowed ? 'block' : 'none';\n",
              "\n",
              "        async function convertToInteractive(key) {\n",
              "          const element = document.querySelector('#df-a11efab8-ecf8-4e29-b4f6-00f15fdc097e');\n",
              "          const dataTable =\n",
              "            await google.colab.kernel.invokeFunction('convertToInteractive',\n",
              "                                                     [key], {});\n",
              "          if (!dataTable) return;\n",
              "\n",
              "          const docLinkHtml = 'Like what you see? Visit the ' +\n",
              "            '<a target=\"_blank\" href=https://colab.research.google.com/notebooks/data_table.ipynb>data table notebook</a>'\n",
              "            + ' to learn more about interactive tables.';\n",
              "          element.innerHTML = '';\n",
              "          dataTable['output_type'] = 'display_data';\n",
              "          await google.colab.output.renderOutput(dataTable, element);\n",
              "          const docLink = document.createElement('div');\n",
              "          docLink.innerHTML = docLinkHtml;\n",
              "          element.appendChild(docLink);\n",
              "        }\n",
              "      </script>\n",
              "    </div>\n",
              "  </div>\n",
              "  "
            ]
          },
          "metadata": {},
          "execution_count": 104
        }
      ],
      "source": [
        "# Let's see the head\n",
        "y_pred_final.head()\n"
      ]
    },
    {
      "cell_type": "markdown",
      "metadata": {
        "id": "cbDwtvrU1H3s"
      },
      "source": [
        "### **`Model Evaluation`**\n",
        "\n",
        "\n",
        "\n",
        "\n",
        "Choosing the right metric is very important in any classification problem.\n",
        "To know about various metrics for classification model evaluation refer: \n",
        "\n",
        "\n"
      ]
    },
    {
      "cell_type": "markdown",
      "metadata": {
        "id": "22Pi9B5opQ8z"
      },
      "source": [
        "Lets check Confusion matrix for model evaluation:\n",
        "for categorical classical problem we used to check COnfusion matrix\n",
        "Confusion metrics-For checking Measure of Performance for our model"
      ]
    },
    {
      "cell_type": "code",
      "execution_count": null,
      "metadata": {
        "id": "lwo8VRBu1H3t"
      },
      "outputs": [],
      "source": [
        "# import metrics \n",
        "from sklearn import metrics\n"
      ]
    },
    {
      "cell_type": "code",
      "execution_count": null,
      "metadata": {
        "id": "z-K9JTfV1H3t",
        "colab": {
          "base_uri": "https://localhost:8080/"
        },
        "outputId": "dcdf1440-6a18-406c-bb2d-41781701582a"
      },
      "outputs": [
        {
          "output_type": "stream",
          "name": "stdout",
          "text": [
            "Help on function confusion_matrix in module sklearn.metrics._classification:\n",
            "\n",
            "confusion_matrix(y_true, y_pred, *, labels=None, sample_weight=None, normalize=None)\n",
            "    Compute confusion matrix to evaluate the accuracy of a classification.\n",
            "    \n",
            "    By definition a confusion matrix :math:`C` is such that :math:`C_{i, j}`\n",
            "    is equal to the number of observations known to be in group :math:`i` and\n",
            "    predicted to be in group :math:`j`.\n",
            "    \n",
            "    Thus in binary classification, the count of true negatives is\n",
            "    :math:`C_{0,0}`, false negatives is :math:`C_{1,0}`, true positives is\n",
            "    :math:`C_{1,1}` and false positives is :math:`C_{0,1}`.\n",
            "    \n",
            "    Read more in the :ref:`User Guide <confusion_matrix>`.\n",
            "    \n",
            "    Parameters\n",
            "    ----------\n",
            "    y_true : array-like of shape (n_samples,)\n",
            "        Ground truth (correct) target values.\n",
            "    \n",
            "    y_pred : array-like of shape (n_samples,)\n",
            "        Estimated targets as returned by a classifier.\n",
            "    \n",
            "    labels : array-like of shape (n_classes), default=None\n",
            "        List of labels to index the matrix. This may be used to reorder\n",
            "        or select a subset of labels.\n",
            "        If ``None`` is given, those that appear at least once\n",
            "        in ``y_true`` or ``y_pred`` are used in sorted order.\n",
            "    \n",
            "    sample_weight : array-like of shape (n_samples,), default=None\n",
            "        Sample weights.\n",
            "    \n",
            "        .. versionadded:: 0.18\n",
            "    \n",
            "    normalize : {'true', 'pred', 'all'}, default=None\n",
            "        Normalizes confusion matrix over the true (rows), predicted (columns)\n",
            "        conditions or all the population. If None, confusion matrix will not be\n",
            "        normalized.\n",
            "    \n",
            "    Returns\n",
            "    -------\n",
            "    C : ndarray of shape (n_classes, n_classes)\n",
            "        Confusion matrix whose i-th row and j-th\n",
            "        column entry indicates the number of\n",
            "        samples with true label being i-th class\n",
            "        and predicted label being j-th class.\n",
            "    \n",
            "    See Also\n",
            "    --------\n",
            "    ConfusionMatrixDisplay.from_estimator : Plot the confusion matrix\n",
            "        given an estimator, the data, and the label.\n",
            "    ConfusionMatrixDisplay.from_predictions : Plot the confusion matrix\n",
            "        given the true and predicted labels.\n",
            "    ConfusionMatrixDisplay : Confusion Matrix visualization.\n",
            "    \n",
            "    References\n",
            "    ----------\n",
            "    .. [1] `Wikipedia entry for the Confusion matrix\n",
            "           <https://en.wikipedia.org/wiki/Confusion_matrix>`_\n",
            "           (Wikipedia and other references may use a different\n",
            "           convention for axes).\n",
            "    \n",
            "    Examples\n",
            "    --------\n",
            "    >>> from sklearn.metrics import confusion_matrix\n",
            "    >>> y_true = [2, 0, 2, 2, 0, 1]\n",
            "    >>> y_pred = [0, 0, 2, 2, 0, 2]\n",
            "    >>> confusion_matrix(y_true, y_pred)\n",
            "    array([[2, 0, 0],\n",
            "           [0, 0, 1],\n",
            "           [1, 0, 2]])\n",
            "    \n",
            "    >>> y_true = [\"cat\", \"ant\", \"cat\", \"cat\", \"ant\", \"bird\"]\n",
            "    >>> y_pred = [\"ant\", \"ant\", \"cat\", \"cat\", \"ant\", \"cat\"]\n",
            "    >>> confusion_matrix(y_true, y_pred, labels=[\"ant\", \"bird\", \"cat\"])\n",
            "    array([[2, 0, 0],\n",
            "           [0, 0, 1],\n",
            "           [1, 0, 2]])\n",
            "    \n",
            "    In the binary case, we can extract true positives, etc as follows:\n",
            "    \n",
            "    >>> tn, fp, fn, tp = confusion_matrix([0, 1, 0, 1], [1, 1, 1, 0]).ravel()\n",
            "    >>> (tn, fp, fn, tp)\n",
            "    (0, 2, 1, 1)\n",
            "\n"
          ]
        }
      ],
      "source": [
        "# Lets check what all things python provides us in confusion matrix using help function.\n",
        "help(metrics.confusion_matrix)\n"
      ]
    },
    {
      "cell_type": "code",
      "execution_count": null,
      "metadata": {
        "id": "N2gG2DZp1H3u",
        "colab": {
          "base_uri": "https://localhost:8080/"
        },
        "outputId": "403103a5-ec17-4da8-f954-10d19b728e5f"
      },
      "outputs": [
        {
          "output_type": "execute_result",
          "data": {
            "text/plain": [
              "array([[1366,  162],\n",
              "       [ 304,  278]])"
            ]
          },
          "metadata": {},
          "execution_count": 113
        }
      ],
      "source": [
        "# get Confusion matrix \n",
        "confusion = metrics.confusion_matrix(y_pred_final.Churn,y_pred_final.predicted) \n",
        "confusion "
      ]
    },
    {
      "cell_type": "markdown",
      "source": [
        "if it's not churn and our model also predicted it's not churn the value is 1366.\n",
        "\n",
        "if it's not churn and our model predicted it's churn the value os 165"
      ],
      "metadata": {
        "id": "HYzbn8DOoGpd"
      }
    },
    {
      "cell_type": "code",
      "execution_count": null,
      "metadata": {
        "id": "4clwKBRm1H3u"
      },
      "outputs": [],
      "source": [
        "#meaning of above confusion matrix is\n",
        "\n",
        "# Predicted   not_churn  churn\n",
        "#Actual\n",
        "# not_churn    1366(TN)       163(FP)\n",
        "#churn         304 (FN)       278(TP)"
      ]
    },
    {
      "cell_type": "code",
      "execution_count": null,
      "metadata": {
        "id": "CCLpWh1N1H3u",
        "colab": {
          "base_uri": "https://localhost:8080/"
        },
        "outputId": "1f73771e-ea6b-4e14-f222-dfba5cca217b"
      },
      "outputs": [
        {
          "output_type": "execute_result",
          "data": {
            "text/plain": [
              "0.7791469194312797"
            ]
          },
          "metadata": {},
          "execution_count": 114
        }
      ],
      "source": [
        "#Let's check the overall accuracy.\n",
        "\n",
        "metrics.accuracy_score(y_pred_final.Churn,y_pred_final.predicted)"
      ]
    },
    {
      "cell_type": "code",
      "execution_count": null,
      "metadata": {
        "id": "zSNRqJHr1H3v"
      },
      "outputs": [],
      "source": [
        "# Lets check true positive ,true negatives,false positives and false negatives\n",
        "\n",
        "TP = confusion[1,1]              # true positive \n",
        "TN = confusion[0,0]               # true negatives\n",
        "FP = confusion[0,1]             # false positives\n",
        "FN = confusion[1,0]             # false negatives"
      ]
    },
    {
      "cell_type": "code",
      "execution_count": null,
      "metadata": {
        "id": "PtHGFHO51H3v",
        "colab": {
          "base_uri": "https://localhost:8080/"
        },
        "outputId": "83e787d1-35d8-46f9-9f48-69594a633cb2"
      },
      "outputs": [
        {
          "output_type": "execute_result",
          "data": {
            "text/plain": [
              "0.47766323024054985"
            ]
          },
          "metadata": {},
          "execution_count": 117
        }
      ],
      "source": [
        "# Let's see the sensitivity(How much our model predicted True Positive) of our logistic regression model\n",
        "sensitivity=TP/float(TP+FN)\n",
        "sensitivity"
      ]
    },
    {
      "cell_type": "code",
      "execution_count": null,
      "metadata": {
        "id": "ahBYnwy21H3v",
        "colab": {
          "base_uri": "https://localhost:8080/"
        },
        "outputId": "5b4ed546-ae50-476a-f0e8-1689c50ba66d"
      },
      "outputs": [
        {
          "output_type": "execute_result",
          "data": {
            "text/plain": [
              "0.893979057591623"
            ]
          },
          "metadata": {},
          "execution_count": 118
        }
      ],
      "source": [
        "# Let us calculate specificity\n",
        "specificity=TN/float(TN+FP)\n",
        "specificity"
      ]
    },
    {
      "cell_type": "code",
      "execution_count": null,
      "metadata": {
        "id": "8yUiu9wD1H3w",
        "colab": {
          "base_uri": "https://localhost:8080/"
        },
        "outputId": "81f1f0f4-9e91-4f48-91bb-9de699f55d21"
      },
      "outputs": [
        {
          "output_type": "stream",
          "name": "stdout",
          "text": [
            "0.10602094240837696\n"
          ]
        }
      ],
      "source": [
        "# Calculate false postive rate - predicting churn when customer does not have churned\n",
        "print(FP/float(TN+FP))\n"
      ]
    },
    {
      "cell_type": "markdown",
      "metadata": {
        "collapsed": true,
        "id": "G18zerc_1H3x"
      },
      "source": [
        "### **`ROC Curve`**\n",
        "\n",
        "<p style='text-align: right;'> 1 points</p>\n"
      ]
    },
    {
      "cell_type": "markdown",
      "metadata": {
        "collapsed": true,
        "id": "XpkqfuTj1H3y"
      },
      "source": [
        "An ROC curve demonstrates several things:\n",
        "\n",
        "- It shows the tradeoff between sensitivity and specificity (any increase in sensitivity will be accompanied by a decrease in specificity).\n",
        "- The closer the curve follows the left-hand border and then the top border of the ROC space, the more accurate the test.\n",
        "- The closer the curve comes to the 45-degree diagonal of the ROC space, the less accurate the test."
      ]
    },
    {
      "cell_type": "code",
      "execution_count": null,
      "metadata": {
        "id": "V0NtSBGq1H3y"
      },
      "outputs": [],
      "source": [
        "# Here we have given you a function to plot ROC curve\n",
        "\n",
        "def draw_roc( actual, probs ):\n",
        "    fpr, tpr, thresholds = metrics.roc_curve( actual, probs,\n",
        "                                              drop_intermediate = False )\n",
        "    auc_score = metrics.roc_auc_score( actual, probs )\n",
        "    plt.figure(figsize=(6, 4))\n",
        "    plt.plot( fpr, tpr, label='ROC curve (area = %0.2f)' % auc_score )\n",
        "    plt.plot([0, 1], [0, 1], 'k--')\n",
        "    plt.xlim([0.0, 1.0])\n",
        "    plt.ylim([0.0, 1.05])\n",
        "    plt.xlabel('False Positive Rate or [1 - True Negative Rate]')\n",
        "    plt.ylabel('True Positive Rate')\n",
        "    plt.title('Receiver operating characteristic example')\n",
        "    plt.legend(loc=\"lower right\")\n",
        "    plt.show()\n",
        "\n",
        "    return fpr, tpr, thresholds"
      ]
    },
    {
      "cell_type": "code",
      "execution_count": null,
      "metadata": {
        "id": "aqnNBU601H3z",
        "colab": {
          "base_uri": "https://localhost:8080/",
          "height": 347
        },
        "outputId": "5764c320-42cf-4c99-c7bf-16537c283848"
      },
      "outputs": [
        {
          "output_type": "display_data",
          "data": {
            "text/plain": [
              "<Figure size 432x288 with 1 Axes>"
            ],
            "image/png": "[encoded data removed]"
          },
          "metadata": {
            "needs_background": "light"
          }
        },
        {
          "output_type": "execute_result",
          "data": {
            "text/plain": [
              "(array([0.        , 0.10602094, 1.        ]),\n",
              " array([0.        , 0.47766323, 1.        ]),\n",
              " array([2, 1, 0]))"
            ]
          },
          "metadata": {},
          "execution_count": 122
        }
      ],
      "source": [
        "# Use above function to plot ROC curve\n",
        "draw_roc(y_pred_final.Churn, y_pred_final.predicted)\n"
      ]
    },
    {
      "cell_type": "markdown",
      "metadata": {
        "id": "HBpKIZTI1H3_"
      },
      "source": [
        "## **`Summary`**\n",
        "\n",
        "1. Logistic Regression is a Machine Learning classification algorithm that is used to predict the probability of a categorical dependent variable. \n",
        "2. In logistic regression, the dependent variable is a binary variable that contains data coded as 1 (yes, success, etc.) or 0 (no, failure, etc.)\n",
        "\n",
        "\n",
        "\n",
        "\n",
        "\n",
        "\n",
        "\n",
        "\n",
        "\n",
        "\n",
        "\n",
        "\n",
        "\n",
        "\n",
        "\n",
        "\n",
        "\n",
        "\n",
        "\n"
      ]
    },
    {
      "cell_type": "markdown",
      "metadata": {
        "id": "joJ4wU1u1H4A"
      },
      "source": [
        "_______________________________"
      ]
    }
  ],
  "metadata": {
    "colab": {
      "provenance": []
    },
    "kernelspec": {
      "display_name": "Python 3",
      "language": "python",
      "name": "python3"
    },
    "language_info": {
      "codemirror_mode": {
        "name": "ipython",
        "version": 3
      },
      "file_extension": ".py",
      "mimetype": "text/x-python",
      "name": "python",
      "nbconvert_exporter": "python",
      "pygments_lexer": "ipython3",
      "version": "3.8.5"
    }
  },
  "nbformat": 4,
  "nbformat_minor": 0
}
